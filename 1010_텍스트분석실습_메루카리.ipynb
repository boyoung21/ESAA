{
  "nbformat": 4,
  "nbformat_minor": 0,
  "metadata": {
    "colab": {
      "provenance": [],
      "mount_file_id": "1AGxg2dnWDPHqcTx8BY0xjphYXT8bTJ_I",
      "authorship_tag": "ABX9TyNoCJMSTSltB/vHLnctgRSs",
      "include_colab_link": true
    },
    "kernelspec": {
      "name": "python3",
      "display_name": "Python 3"
    },
    "language_info": {
      "name": "python"
    }
  },
  "cells": [
    {
      "cell_type": "markdown",
      "metadata": {
        "id": "view-in-github",
        "colab_type": "text"
      },
      "source": [
        "<a href=\"https://colab.research.google.com/github/boyoung21/ESAA/blob/main/1010_%ED%85%8D%EC%8A%A4%ED%8A%B8%EB%B6%84%EC%84%9D%EC%8B%A4%EC%8A%B5_%EB%A9%94%EB%A3%A8%EC%B9%B4%EB%A6%AC.ipynb\" target=\"_parent\"><img src=\"https://colab.research.google.com/assets/colab-badge.svg\" alt=\"Open In Colab\"/></a>"
      ]
    },
    {
      "cell_type": "markdown",
      "source": [
        "# 텍스트 분석 실습 캐글 메루카리\n",
        "\n",
        "일본의 대형 온라인 쇼핑몰 메루카리사의 제품 가격 예측\n",
        "- 제품에 대한 여러 속성 및 제품 설명 등의 텍스트 데이터로 데이터 세트가 구성됨.\n",
        "- 회귀로 피처를 학습한 뒤 price를 예측하는 문제\n",
        "- 기존 회귀와 달리 item_description과 같은 텍스트 형태의 비정형 데이터와 다른 정형 속성을 같이 적용해 회귀를 수행"
      ],
      "metadata": {
        "id": "U7DAga4MQ9YW"
      }
    },
    {
      "cell_type": "code",
      "execution_count": 15,
      "metadata": {
        "colab": {
          "base_uri": "https://localhost:8080/",
          "height": 245
        },
        "id": "Q3eRbusXPfmU",
        "outputId": "6fed0d91-5ca1-408b-c7ac-89eb12508561"
      },
      "outputs": [
        {
          "output_type": "stream",
          "name": "stdout",
          "text": [
            "(1482535, 8)\n"
          ]
        },
        {
          "output_type": "execute_result",
          "data": {
            "text/plain": [
              "   train_id  ...                                   item_description\n",
              "0         0  ...                                 No description yet\n",
              "1         1  ...  This keyboard is in great condition and works ...\n",
              "2         2  ...  Adorable top with a hint of lace and a key hol...\n",
              "\n",
              "[3 rows x 8 columns]"
            ],
            "text/html": [
              "\n",
              "  <div id=\"df-e0b7b277-d7c9-4836-86f9-68c983a0ba83\" class=\"colab-df-container\">\n",
              "    <div>\n",
              "<style scoped>\n",
              "    .dataframe tbody tr th:only-of-type {\n",
              "        vertical-align: middle;\n",
              "    }\n",
              "\n",
              "    .dataframe tbody tr th {\n",
              "        vertical-align: top;\n",
              "    }\n",
              "\n",
              "    .dataframe thead th {\n",
              "        text-align: right;\n",
              "    }\n",
              "</style>\n",
              "<table border=\"1\" class=\"dataframe\">\n",
              "  <thead>\n",
              "    <tr style=\"text-align: right;\">\n",
              "      <th></th>\n",
              "      <th>train_id</th>\n",
              "      <th>name</th>\n",
              "      <th>item_condition_id</th>\n",
              "      <th>category_name</th>\n",
              "      <th>brand_name</th>\n",
              "      <th>price</th>\n",
              "      <th>shipping</th>\n",
              "      <th>item_description</th>\n",
              "    </tr>\n",
              "  </thead>\n",
              "  <tbody>\n",
              "    <tr>\n",
              "      <th>0</th>\n",
              "      <td>0</td>\n",
              "      <td>MLB Cincinnati Reds T Shirt Size XL</td>\n",
              "      <td>3</td>\n",
              "      <td>Men/Tops/T-shirts</td>\n",
              "      <td>NaN</td>\n",
              "      <td>10.0</td>\n",
              "      <td>1</td>\n",
              "      <td>No description yet</td>\n",
              "    </tr>\n",
              "    <tr>\n",
              "      <th>1</th>\n",
              "      <td>1</td>\n",
              "      <td>Razer BlackWidow Chroma Keyboard</td>\n",
              "      <td>3</td>\n",
              "      <td>Electronics/Computers &amp; Tablets/Components &amp; P...</td>\n",
              "      <td>Razer</td>\n",
              "      <td>52.0</td>\n",
              "      <td>0</td>\n",
              "      <td>This keyboard is in great condition and works ...</td>\n",
              "    </tr>\n",
              "    <tr>\n",
              "      <th>2</th>\n",
              "      <td>2</td>\n",
              "      <td>AVA-VIV Blouse</td>\n",
              "      <td>1</td>\n",
              "      <td>Women/Tops &amp; Blouses/Blouse</td>\n",
              "      <td>Target</td>\n",
              "      <td>10.0</td>\n",
              "      <td>1</td>\n",
              "      <td>Adorable top with a hint of lace and a key hol...</td>\n",
              "    </tr>\n",
              "  </tbody>\n",
              "</table>\n",
              "</div>\n",
              "    <div class=\"colab-df-buttons\">\n",
              "\n",
              "  <div class=\"colab-df-container\">\n",
              "    <button class=\"colab-df-convert\" onclick=\"convertToInteractive('df-e0b7b277-d7c9-4836-86f9-68c983a0ba83')\"\n",
              "            title=\"Convert this dataframe to an interactive table.\"\n",
              "            style=\"display:none;\">\n",
              "\n",
              "  <svg xmlns=\"http://www.w3.org/2000/svg\" height=\"24px\" viewBox=\"0 -960 960 960\">\n",
              "    <path d=\"M120-120v-720h720v720H120Zm60-500h600v-160H180v160Zm220 220h160v-160H400v160Zm0 220h160v-160H400v160ZM180-400h160v-160H180v160Zm440 0h160v-160H620v160ZM180-180h160v-160H180v160Zm440 0h160v-160H620v160Z\"/>\n",
              "  </svg>\n",
              "    </button>\n",
              "\n",
              "  <style>\n",
              "    .colab-df-container {\n",
              "      display:flex;\n",
              "      gap: 12px;\n",
              "    }\n",
              "\n",
              "    .colab-df-convert {\n",
              "      background-color: #E8F0FE;\n",
              "      border: none;\n",
              "      border-radius: 50%;\n",
              "      cursor: pointer;\n",
              "      display: none;\n",
              "      fill: #1967D2;\n",
              "      height: 32px;\n",
              "      padding: 0 0 0 0;\n",
              "      width: 32px;\n",
              "    }\n",
              "\n",
              "    .colab-df-convert:hover {\n",
              "      background-color: #E2EBFA;\n",
              "      box-shadow: 0px 1px 2px rgba(60, 64, 67, 0.3), 0px 1px 3px 1px rgba(60, 64, 67, 0.15);\n",
              "      fill: #174EA6;\n",
              "    }\n",
              "\n",
              "    .colab-df-buttons div {\n",
              "      margin-bottom: 4px;\n",
              "    }\n",
              "\n",
              "    [theme=dark] .colab-df-convert {\n",
              "      background-color: #3B4455;\n",
              "      fill: #D2E3FC;\n",
              "    }\n",
              "\n",
              "    [theme=dark] .colab-df-convert:hover {\n",
              "      background-color: #434B5C;\n",
              "      box-shadow: 0px 1px 3px 1px rgba(0, 0, 0, 0.15);\n",
              "      filter: drop-shadow(0px 1px 2px rgba(0, 0, 0, 0.3));\n",
              "      fill: #FFFFFF;\n",
              "    }\n",
              "  </style>\n",
              "\n",
              "    <script>\n",
              "      const buttonEl =\n",
              "        document.querySelector('#df-e0b7b277-d7c9-4836-86f9-68c983a0ba83 button.colab-df-convert');\n",
              "      buttonEl.style.display =\n",
              "        google.colab.kernel.accessAllowed ? 'block' : 'none';\n",
              "\n",
              "      async function convertToInteractive(key) {\n",
              "        const element = document.querySelector('#df-e0b7b277-d7c9-4836-86f9-68c983a0ba83');\n",
              "        const dataTable =\n",
              "          await google.colab.kernel.invokeFunction('convertToInteractive',\n",
              "                                                    [key], {});\n",
              "        if (!dataTable) return;\n",
              "\n",
              "        const docLinkHtml = 'Like what you see? Visit the ' +\n",
              "          '<a target=\"_blank\" href=https://colab.research.google.com/notebooks/data_table.ipynb>data table notebook</a>'\n",
              "          + ' to learn more about interactive tables.';\n",
              "        element.innerHTML = '';\n",
              "        dataTable['output_type'] = 'display_data';\n",
              "        await google.colab.output.renderOutput(dataTable, element);\n",
              "        const docLink = document.createElement('div');\n",
              "        docLink.innerHTML = docLinkHtml;\n",
              "        element.appendChild(docLink);\n",
              "      }\n",
              "    </script>\n",
              "  </div>\n",
              "\n",
              "\n",
              "    <div id=\"df-91026a10-a72d-4341-b4e2-b77790f25a03\">\n",
              "      <button class=\"colab-df-quickchart\" onclick=\"quickchart('df-91026a10-a72d-4341-b4e2-b77790f25a03')\"\n",
              "                title=\"Suggest charts\"\n",
              "                style=\"display:none;\">\n",
              "\n",
              "<svg xmlns=\"http://www.w3.org/2000/svg\" height=\"24px\"viewBox=\"0 0 24 24\"\n",
              "     width=\"24px\">\n",
              "    <g>\n",
              "        <path d=\"M19 3H5c-1.1 0-2 .9-2 2v14c0 1.1.9 2 2 2h14c1.1 0 2-.9 2-2V5c0-1.1-.9-2-2-2zM9 17H7v-7h2v7zm4 0h-2V7h2v10zm4 0h-2v-4h2v4z\"/>\n",
              "    </g>\n",
              "</svg>\n",
              "      </button>\n",
              "\n",
              "<style>\n",
              "  .colab-df-quickchart {\n",
              "      --bg-color: #E8F0FE;\n",
              "      --fill-color: #1967D2;\n",
              "      --hover-bg-color: #E2EBFA;\n",
              "      --hover-fill-color: #174EA6;\n",
              "      --disabled-fill-color: #AAA;\n",
              "      --disabled-bg-color: #DDD;\n",
              "  }\n",
              "\n",
              "  [theme=dark] .colab-df-quickchart {\n",
              "      --bg-color: #3B4455;\n",
              "      --fill-color: #D2E3FC;\n",
              "      --hover-bg-color: #434B5C;\n",
              "      --hover-fill-color: #FFFFFF;\n",
              "      --disabled-bg-color: #3B4455;\n",
              "      --disabled-fill-color: #666;\n",
              "  }\n",
              "\n",
              "  .colab-df-quickchart {\n",
              "    background-color: var(--bg-color);\n",
              "    border: none;\n",
              "    border-radius: 50%;\n",
              "    cursor: pointer;\n",
              "    display: none;\n",
              "    fill: var(--fill-color);\n",
              "    height: 32px;\n",
              "    padding: 0;\n",
              "    width: 32px;\n",
              "  }\n",
              "\n",
              "  .colab-df-quickchart:hover {\n",
              "    background-color: var(--hover-bg-color);\n",
              "    box-shadow: 0 1px 2px rgba(60, 64, 67, 0.3), 0 1px 3px 1px rgba(60, 64, 67, 0.15);\n",
              "    fill: var(--button-hover-fill-color);\n",
              "  }\n",
              "\n",
              "  .colab-df-quickchart-complete:disabled,\n",
              "  .colab-df-quickchart-complete:disabled:hover {\n",
              "    background-color: var(--disabled-bg-color);\n",
              "    fill: var(--disabled-fill-color);\n",
              "    box-shadow: none;\n",
              "  }\n",
              "\n",
              "  .colab-df-spinner {\n",
              "    border: 2px solid var(--fill-color);\n",
              "    border-color: transparent;\n",
              "    border-bottom-color: var(--fill-color);\n",
              "    animation:\n",
              "      spin 1s steps(1) infinite;\n",
              "  }\n",
              "\n",
              "  @keyframes spin {\n",
              "    0% {\n",
              "      border-color: transparent;\n",
              "      border-bottom-color: var(--fill-color);\n",
              "      border-left-color: var(--fill-color);\n",
              "    }\n",
              "    20% {\n",
              "      border-color: transparent;\n",
              "      border-left-color: var(--fill-color);\n",
              "      border-top-color: var(--fill-color);\n",
              "    }\n",
              "    30% {\n",
              "      border-color: transparent;\n",
              "      border-left-color: var(--fill-color);\n",
              "      border-top-color: var(--fill-color);\n",
              "      border-right-color: var(--fill-color);\n",
              "    }\n",
              "    40% {\n",
              "      border-color: transparent;\n",
              "      border-right-color: var(--fill-color);\n",
              "      border-top-color: var(--fill-color);\n",
              "    }\n",
              "    60% {\n",
              "      border-color: transparent;\n",
              "      border-right-color: var(--fill-color);\n",
              "    }\n",
              "    80% {\n",
              "      border-color: transparent;\n",
              "      border-right-color: var(--fill-color);\n",
              "      border-bottom-color: var(--fill-color);\n",
              "    }\n",
              "    90% {\n",
              "      border-color: transparent;\n",
              "      border-bottom-color: var(--fill-color);\n",
              "    }\n",
              "  }\n",
              "</style>\n",
              "\n",
              "      <script>\n",
              "        async function quickchart(key) {\n",
              "          const quickchartButtonEl =\n",
              "            document.querySelector('#' + key + ' button');\n",
              "          quickchartButtonEl.disabled = true;  // To prevent multiple clicks.\n",
              "          quickchartButtonEl.classList.add('colab-df-spinner');\n",
              "          try {\n",
              "            const charts = await google.colab.kernel.invokeFunction(\n",
              "                'suggestCharts', [key], {});\n",
              "          } catch (error) {\n",
              "            console.error('Error during call to suggestCharts:', error);\n",
              "          }\n",
              "          quickchartButtonEl.classList.remove('colab-df-spinner');\n",
              "          quickchartButtonEl.classList.add('colab-df-quickchart-complete');\n",
              "        }\n",
              "        (() => {\n",
              "          let quickchartButtonEl =\n",
              "            document.querySelector('#df-91026a10-a72d-4341-b4e2-b77790f25a03 button');\n",
              "          quickchartButtonEl.style.display =\n",
              "            google.colab.kernel.accessAllowed ? 'block' : 'none';\n",
              "        })();\n",
              "      </script>\n",
              "    </div>\n",
              "\n",
              "    </div>\n",
              "  </div>\n"
            ],
            "application/vnd.google.colaboratory.intrinsic+json": {
              "type": "dataframe",
              "variable_name": "mercari_df"
            }
          },
          "metadata": {},
          "execution_count": 15
        }
      ],
      "source": [
        "from sklearn.linear_model import Ridge, LogisticRegression\n",
        "from sklearn.model_selection import train_test_split, cross_val_score\n",
        "from sklearn.feature_extraction.text import CountVectorizer, TfidfVectorizer\n",
        "import pandas as pd\n",
        "\n",
        "mercari_df = pd.read_csv('mercari_train.tsv', sep='\\t')\n",
        "print(mercari_df.shape)\n",
        "mercari_df.head(3)"
      ]
    },
    {
      "cell_type": "code",
      "source": [
        "print(mercari_df.info())"
      ],
      "metadata": {
        "colab": {
          "base_uri": "https://localhost:8080/"
        },
        "id": "YC--0QR_g0JY",
        "outputId": "be85e19f-baea-4c5a-b7cd-6fa4a2dd189f"
      },
      "execution_count": 16,
      "outputs": [
        {
          "output_type": "stream",
          "name": "stdout",
          "text": [
            "<class 'pandas.core.frame.DataFrame'>\n",
            "RangeIndex: 1482535 entries, 0 to 1482534\n",
            "Data columns (total 8 columns):\n",
            " #   Column             Non-Null Count    Dtype  \n",
            "---  ------             --------------    -----  \n",
            " 0   train_id           1482535 non-null  int64  \n",
            " 1   name               1482535 non-null  object \n",
            " 2   item_condition_id  1482535 non-null  int64  \n",
            " 3   category_name      1476208 non-null  object \n",
            " 4   brand_name         849853 non-null   object \n",
            " 5   price              1482535 non-null  float64\n",
            " 6   shipping           1482535 non-null  int64  \n",
            " 7   item_description   1482529 non-null  object \n",
            "dtypes: float64(1), int64(3), object(4)\n",
            "memory usage: 90.5+ MB\n",
            "None\n"
          ]
        }
      ]
    },
    {
      "cell_type": "markdown",
      "source": [
        "brand_name 칼럼의 경우 가격에 영향을 미치는 중요 요인으로 판단되나, 많은 데이터가 Null로 돼 있음.\n",
        "\n",
        "category_name과 item_description도 미미한 결측치 존재."
      ],
      "metadata": {
        "id": "0JUrGMNBhZj2"
      }
    },
    {
      "cell_type": "markdown",
      "source": [
        "## 타깃값 칼럼 price의 데이터 분포도 확인\n",
        "\n",
        "왜곡된 분해이므로 로그 변환 필요해 보임"
      ],
      "metadata": {
        "id": "6ohwbVSOh7ng"
      }
    },
    {
      "cell_type": "code",
      "source": [
        "import matplotlib.pyplot as plt\n",
        "import seaborn as sns\n",
        "\n",
        "y_train_df = mercari_df['price']\n",
        "plt.figure(figsize=(6,4))\n",
        "sns.histplot(y_train_df, bins=100)\n",
        "plt.show()"
      ],
      "metadata": {
        "id": "PEfYoK3eS_o7",
        "colab": {
          "base_uri": "https://localhost:8080/",
          "height": 388
        },
        "outputId": "91619cb9-b651-42e4-85fd-062bb043ed37"
      },
      "execution_count": 17,
      "outputs": [
        {
          "output_type": "display_data",
          "data": {
            "text/plain": [
              "<Figure size 600x400 with 1 Axes>"
            ],
            "image/png": "[encoded data removed]"
          },
          "metadata": {}
        }
      ]
    },
    {
      "cell_type": "code",
      "source": [
        "import numpy as np\n",
        "\n",
        "y_train_df = np.log1p(y_train_df)\n",
        "sns.histplot(y_train_df, bins=50)\n",
        "plt.show()"
      ],
      "metadata": {
        "colab": {
          "base_uri": "https://localhost:8080/",
          "height": 449
        },
        "id": "bK35VawiiChg",
        "outputId": "16813119-7a6b-43a1-b688-bbd00d50d7eb"
      },
      "execution_count": 18,
      "outputs": [
        {
          "output_type": "display_data",
          "data": {
            "text/plain": [
              "<Figure size 640x480 with 1 Axes>"
            ],
            "image/png": "[encoded data removed]"
          },
          "metadata": {}
        }
      ]
    },
    {
      "cell_type": "code",
      "source": [
        "mercari_df['price'] = np.log1p(mercari_df['price'])\n",
        "mercari_df['price'].head(3)"
      ],
      "metadata": {
        "colab": {
          "base_uri": "https://localhost:8080/",
          "height": 176
        },
        "id": "T1Tfw2CxiNiM",
        "outputId": "62d90f8d-df44-40ab-ea37-cfebd4709a31"
      },
      "execution_count": 19,
      "outputs": [
        {
          "output_type": "execute_result",
          "data": {
            "text/plain": [
              "0    2.397895\n",
              "1    3.970292\n",
              "2    2.397895\n",
              "Name: price, dtype: float64"
            ],
            "text/html": [
              "<div>\n",
              "<style scoped>\n",
              "    .dataframe tbody tr th:only-of-type {\n",
              "        vertical-align: middle;\n",
              "    }\n",
              "\n",
              "    .dataframe tbody tr th {\n",
              "        vertical-align: top;\n",
              "    }\n",
              "\n",
              "    .dataframe thead th {\n",
              "        text-align: right;\n",
              "    }\n",
              "</style>\n",
              "<table border=\"1\" class=\"dataframe\">\n",
              "  <thead>\n",
              "    <tr style=\"text-align: right;\">\n",
              "      <th></th>\n",
              "      <th>price</th>\n",
              "    </tr>\n",
              "  </thead>\n",
              "  <tbody>\n",
              "    <tr>\n",
              "      <th>0</th>\n",
              "      <td>2.397895</td>\n",
              "    </tr>\n",
              "    <tr>\n",
              "      <th>1</th>\n",
              "      <td>3.970292</td>\n",
              "    </tr>\n",
              "    <tr>\n",
              "      <th>2</th>\n",
              "      <td>2.397895</td>\n",
              "    </tr>\n",
              "  </tbody>\n",
              "</table>\n",
              "</div><br><label><b>dtype:</b> float64</label>"
            ]
          },
          "metadata": {},
          "execution_count": 19
        }
      ]
    },
    {
      "cell_type": "code",
      "source": [
        "# 배송비 유무 칼럼\n",
        "print('Shipping 값 유형:\\n', mercari_df['shipping'].value_counts())\n",
        "\n",
        "# 판매자가 제공하는 제품 상태\n",
        "print('item_condition_id 값 유형:\\n', mercari_df['item_condition_id'].value_counts())"
      ],
      "metadata": {
        "colab": {
          "base_uri": "https://localhost:8080/"
        },
        "id": "INL8_luJic5s",
        "outputId": "fcaf22de-c29d-4723-aa69-8cc05af89ee9"
      },
      "execution_count": 20,
      "outputs": [
        {
          "output_type": "stream",
          "name": "stdout",
          "text": [
            "Shipping 값 유형:\n",
            " shipping\n",
            "0    819435\n",
            "1    663100\n",
            "Name: count, dtype: int64\n",
            "item_condition_id 값 유형:\n",
            " item_condition_id\n",
            "1    640549\n",
            "3    432161\n",
            "2    375479\n",
            "4     31962\n",
            "5      2384\n",
            "Name: count, dtype: int64\n"
          ]
        }
      ]
    },
    {
      "cell_type": "code",
      "source": [
        "# description에 대한 별도 설명이 없는 행의 개수\n",
        "\n",
        "boolean_cond = mercari_df['item_description'] == 'No description yet'\n",
        "mercari_df[boolean_cond]['item_description'].count()"
      ],
      "metadata": {
        "colab": {
          "base_uri": "https://localhost:8080/"
        },
        "id": "mRpee8R1jApw",
        "outputId": "1f6b1cdd-417e-47a8-b48a-a0e5b53618dd"
      },
      "execution_count": 21,
      "outputs": [
        {
          "output_type": "execute_result",
          "data": {
            "text/plain": [
              "np.int64(82489)"
            ]
          },
          "metadata": {},
          "execution_count": 21
        }
      ]
    },
    {
      "cell_type": "markdown",
      "source": [
        "'No description yet'으로 채워진 값은 null과 마찬가지로 의미 있는 속성값으로 사용될 수 없으므로 적절하게 변경해야 함."
      ],
      "metadata": {
        "id": "qZwRZojSjmm6"
      }
    },
    {
      "cell_type": "markdown",
      "source": [
        "## category_name\n",
        "\n",
        "'/'로 분리된 카테고리를 하나의 문자열로 나타내고 있음.\n",
        "\n",
        "- 'Men/Tops/T-shirts'는 대분류 'Men', 중분류 'Tops', 소분류 'T-shirts'로 나눌 수 있음\n",
        "- 텍스트 데이터이기 때문에 피처 추출 시 tokenizer를 '/'로 하여 단어를 분리해 벡터화할 수 있음\n",
        "- category_name의 '/'를 기준으로 단어를 토큰화해 각각 별도의 피처로 저장하는 방법도 가능\n",
        "> 별도의 split_cat() 함수를 생성하고 이를 DataFrame의 apply lambda 식에 적용하여 대, 중, 소분류를 효과적으로 분리해 낼 것\n",
        "\n",
        "  > null이 아닌 경우 split('/')를 이용해 대, 중, 소를 분류\n",
        "  \n",
        "  > null일 경우에는 split() 함수가 error를 발생하므로 except catch하여 대, 중, 소 분류 모두 other null 값을 부여함"
      ],
      "metadata": {
        "id": "OqsvhjBjj4l1"
      }
    },
    {
      "cell_type": "code",
      "source": [
        "# apply lambda에서 호출되는 대, 중, 소 분할 함수 생성, 대, 중, 소 값을 리스트로 반환\n",
        "def split_cat(text):\n",
        "    try:\n",
        "        return text.split('/')\n",
        "    except:\n",
        "        return ['Other_Null', 'Other_Null', 'Other_Null']\n",
        "\n",
        "# 위의 split_cat()을 apply lambda에서 호출해 대, 중, 소 칼럼을 mercari_df에 생성.\n",
        "mercari_df['cat_dae'], mercari_df['cat_jung'], mercari_df['cat_so'] = \\\n",
        "zip(*mercari_df['category_name'].apply(lambda x: split_cat(x)))\n",
        "\n",
        "# 대분류만 값의 유형과 건수를 살펴보고, 중분류, 소분류는 값의 유형이 많으므로 분류 개수만 추출\n",
        "print('대분류 유형:\\n', mercari_df['cat_dae'].value_counts())\n",
        "print('중분류 유형:\\n', mercari_df['cat_jung'].nunique())\n",
        "print('소분류 유형:\\n', mercari_df['cat_so'].nunique())"
      ],
      "metadata": {
        "colab": {
          "base_uri": "https://localhost:8080/"
        },
        "id": "fOynfbArnG9D",
        "outputId": "cc46f165-6b2e-42ac-ccf5-b8b1f3dceb03"
      },
      "execution_count": 23,
      "outputs": [
        {
          "output_type": "stream",
          "name": "stdout",
          "text": [
            "대분류 유형:\n",
            " cat_dae\n",
            "Women                     664385\n",
            "Beauty                    207828\n",
            "Kids                      171689\n",
            "Electronics               122690\n",
            "Men                        93680\n",
            "Home                       67871\n",
            "Vintage & Collectibles     46530\n",
            "Other                      45351\n",
            "Handmade                   30842\n",
            "Sports & Outdoors          25342\n",
            "Other_Null                  6327\n",
            "Name: count, dtype: int64\n",
            "중분류 유형:\n",
            " 114\n",
            "소분류 유형:\n",
            " 871\n"
          ]
        }
      ]
    },
    {
      "cell_type": "markdown",
      "source": [
        "null값이 많았던 칼럼은 다른 값으로 변경하기보다는 category_name처럼 똑같이 일괄적으로 other null 처리."
      ],
      "metadata": {
        "id": "ICvB1pItsW8w"
      }
    },
    {
      "cell_type": "code",
      "source": [
        "mercari_df['brand_name'] = mercari_df['brand_name'].fillna(value='Other_Null')\n",
        "mercari_df['category_name'] = mercari_df['category_name'].fillna(value='Other_Null')\n",
        "mercari_df['item_description'] = mercari_df['item_description'].fillna(value='Other_Null')\n",
        "\n",
        "# 각 칼럼별로 Null 값 건수 확인. 모두 0이 나와야 합니다.\n",
        "mercari_df.isnull().sum()"
      ],
      "metadata": {
        "colab": {
          "base_uri": "https://localhost:8080/",
          "height": 424
        },
        "id": "bWqyZoLgsdTX",
        "outputId": "2da56033-3c55-4926-eebb-6c907706fa0f"
      },
      "execution_count": 24,
      "outputs": [
        {
          "output_type": "execute_result",
          "data": {
            "text/plain": [
              "train_id             0\n",
              "name                 0\n",
              "item_condition_id    0\n",
              "category_name        0\n",
              "brand_name           0\n",
              "price                0\n",
              "shipping             0\n",
              "item_description     0\n",
              "cat_dae              0\n",
              "cat_jung             0\n",
              "cat_so               0\n",
              "dtype: int64"
            ],
            "text/html": [
              "<div>\n",
              "<style scoped>\n",
              "    .dataframe tbody tr th:only-of-type {\n",
              "        vertical-align: middle;\n",
              "    }\n",
              "\n",
              "    .dataframe tbody tr th {\n",
              "        vertical-align: top;\n",
              "    }\n",
              "\n",
              "    .dataframe thead th {\n",
              "        text-align: right;\n",
              "    }\n",
              "</style>\n",
              "<table border=\"1\" class=\"dataframe\">\n",
              "  <thead>\n",
              "    <tr style=\"text-align: right;\">\n",
              "      <th></th>\n",
              "      <th>0</th>\n",
              "    </tr>\n",
              "  </thead>\n",
              "  <tbody>\n",
              "    <tr>\n",
              "      <th>train_id</th>\n",
              "      <td>0</td>\n",
              "    </tr>\n",
              "    <tr>\n",
              "      <th>name</th>\n",
              "      <td>0</td>\n",
              "    </tr>\n",
              "    <tr>\n",
              "      <th>item_condition_id</th>\n",
              "      <td>0</td>\n",
              "    </tr>\n",
              "    <tr>\n",
              "      <th>category_name</th>\n",
              "      <td>0</td>\n",
              "    </tr>\n",
              "    <tr>\n",
              "      <th>brand_name</th>\n",
              "      <td>0</td>\n",
              "    </tr>\n",
              "    <tr>\n",
              "      <th>price</th>\n",
              "      <td>0</td>\n",
              "    </tr>\n",
              "    <tr>\n",
              "      <th>shipping</th>\n",
              "      <td>0</td>\n",
              "    </tr>\n",
              "    <tr>\n",
              "      <th>item_description</th>\n",
              "      <td>0</td>\n",
              "    </tr>\n",
              "    <tr>\n",
              "      <th>cat_dae</th>\n",
              "      <td>0</td>\n",
              "    </tr>\n",
              "    <tr>\n",
              "      <th>cat_jung</th>\n",
              "      <td>0</td>\n",
              "    </tr>\n",
              "    <tr>\n",
              "      <th>cat_so</th>\n",
              "      <td>0</td>\n",
              "    </tr>\n",
              "  </tbody>\n",
              "</table>\n",
              "</div><br><label><b>dtype:</b> int64</label>"
            ]
          },
          "metadata": {},
          "execution_count": 24
        }
      ]
    },
    {
      "cell_type": "markdown",
      "source": [
        "# 피처 인코딩과 피처 벡터화\n",
        "\n",
        "문자열 칼럼 중 레이블 또는 원핫 인코딩을 수행하거나 피처 벡터화로 변환할 칼럼을 선별\n",
        "\n",
        "- 선형 회귀의 경우 원핫 인코딩 적용이 훨씬 선호됨 -> 인코딩할 피처를 모두 원핫 인코딩 적용\n",
        "- 피처 벡터화의 경우는 비교적 짧은 텍스트일 때 Count 기반 벡터화를, 긴 텍스트는 TD-IDF 기반의 벡터화 적용"
      ],
      "metadata": {
        "id": "oKu2uMr3tQPQ"
      }
    },
    {
      "cell_type": "markdown",
      "source": [
        "## 1. brand_name\n",
        "\n",
        "상품의 브랜드명이 담긴 칼럼"
      ],
      "metadata": {
        "id": "nBacGFpgvyqc"
      }
    },
    {
      "cell_type": "code",
      "source": [
        "print('brand name의 유형 건수: ', mercari_df['brand_name'].nunique())\n",
        "print('brand name sample 5건: \\n', mercari_df['brand_name'].value_counts()[:5])"
      ],
      "metadata": {
        "colab": {
          "base_uri": "https://localhost:8080/"
        },
        "id": "UMeOaB35wAJM",
        "outputId": "6d5f92b6-62c2-420f-cde5-0f2a76ce5fa0"
      },
      "execution_count": 25,
      "outputs": [
        {
          "output_type": "stream",
          "name": "stdout",
          "text": [
            "brand name의 유형 건수:  4810\n",
            "brand name sample 5건: \n",
            " brand_name\n",
            "Other_Null           632682\n",
            "PINK                  54088\n",
            "Nike                  54043\n",
            "Victoria's Secret     48036\n",
            "LuLaRoe               31024\n",
            "Name: count, dtype: int64\n"
          ]
        }
      ]
    },
    {
      "cell_type": "markdown",
      "source": [
        "대부분 명료한 문자열이므로 별도의 피처 벡터화 없이 인코딩 변환 적용\n",
        "\n",
        "종류가 4810건이나 ML 모델 구축상 큰 문제는 없으니 진행"
      ],
      "metadata": {
        "id": "PgXnDzV7l6hP"
      }
    },
    {
      "cell_type": "markdown",
      "source": [
        "## 2. name\n",
        "\n",
        "상품명을 의미하는 name 속성"
      ],
      "metadata": {
        "id": "sAVIq_OWwjpJ"
      }
    },
    {
      "cell_type": "code",
      "source": [
        "print('name의 종류 개수: ', mercari_df['name'].nunique())\n",
        "print('name sample 7건: \\n', mercari_df['name'][:7])"
      ],
      "metadata": {
        "colab": {
          "base_uri": "https://localhost:8080/"
        },
        "id": "jhduqOCCwms1",
        "outputId": "db2e56f8-0161-4726-b019-bcc927809074"
      },
      "execution_count": 26,
      "outputs": [
        {
          "output_type": "stream",
          "name": "stdout",
          "text": [
            "name의 종류 개수:  1225273\n",
            "name sample 7건: \n",
            " 0    MLB Cincinnati Reds T Shirt Size XL\n",
            "1       Razer BlackWidow Chroma Keyboard\n",
            "2                         AVA-VIV Blouse\n",
            "3                  Leather Horse Statues\n",
            "4                   24K GOLD plated rose\n",
            "5       Bundled items requested for Ruie\n",
            "6     Acacia pacific tides santorini top\n",
            "Name: name, dtype: object\n"
          ]
        }
      ]
    },
    {
      "cell_type": "markdown",
      "source": [
        "거의 개별적으로 고유한 상품명을 가지고 있기 때문에 종류가 매우 많음. 다만 적은 단어 위주의 텍스트 형태이므로, count 기반 벡터화 변환 적용"
      ],
      "metadata": {
        "id": "Zt3-wOjfw1F_"
      }
    },
    {
      "cell_type": "markdown",
      "source": [
        "## 3. category_name\n",
        "\n",
        "이전 전처리를 통해서 해당 칼럼은 대, 중, 소 분류 세 개의 칼럼으로 분리됨. 해당 칼럼들도 원핫 인코딩 적용"
      ],
      "metadata": {
        "id": "fNh_RgJGxEFq"
      }
    },
    {
      "cell_type": "markdown",
      "source": [
        "## 4. shipping\n",
        "\n",
        "배송비 무료 여부로, 원핫 인코딩\n",
        "\n",
        "## 5. item_condition_id\n",
        "\n",
        "상품 상태로서 1, 2, 3, 4, 5의 다섯 가지 유형 값을 가짐. 원핫 인코딩 적용\n",
        "\n",
        "## 6. item_description\n",
        "\n",
        "상품에 대한 간단 설명으로 데이터 세트에서 가장 긴 텍스트를 가짐. 해당 칼럼의 평균 문자열 크기와 2개 정도의 텍스트만 출력 -> 확인 결과 평균 문자열이 145자이므로 TF-IDF 변환 진행"
      ],
      "metadata": {
        "id": "NNFC9YSDxNEE"
      }
    },
    {
      "cell_type": "code",
      "source": [
        "pd.set_option('max_colwidth', 200)\n",
        "\n",
        "# item_description의 평균 문자열 크기\n",
        "print('item_description 평균 문자열 크기: ', mercari_df['item_description'].str.len().mean())\n",
        "\n",
        "mercari_df['item_description'][:2]"
      ],
      "metadata": {
        "colab": {
          "base_uri": "https://localhost:8080/",
          "height": 180
        },
        "id": "8X57nQCqxnH9",
        "outputId": "9fba1c81-a864-4264-af3b-221a46e346e4"
      },
      "execution_count": 27,
      "outputs": [
        {
          "output_type": "stream",
          "name": "stdout",
          "text": [
            "item_description 평균 문자열 크기:  145.71139703278507\n"
          ]
        },
        {
          "output_type": "execute_result",
          "data": {
            "text/plain": [
              "0                                                                                                                                                                              No description yet\n",
              "1    This keyboard is in great condition and works like it came out of the box. All of the ports are tested and work perfectly. The lights are customizable via the Razer Synapse app on your PC.\n",
              "Name: item_description, dtype: object"
            ],
            "text/html": [
              "<div>\n",
              "<style scoped>\n",
              "    .dataframe tbody tr th:only-of-type {\n",
              "        vertical-align: middle;\n",
              "    }\n",
              "\n",
              "    .dataframe tbody tr th {\n",
              "        vertical-align: top;\n",
              "    }\n",
              "\n",
              "    .dataframe thead th {\n",
              "        text-align: right;\n",
              "    }\n",
              "</style>\n",
              "<table border=\"1\" class=\"dataframe\">\n",
              "  <thead>\n",
              "    <tr style=\"text-align: right;\">\n",
              "      <th></th>\n",
              "      <th>item_description</th>\n",
              "    </tr>\n",
              "  </thead>\n",
              "  <tbody>\n",
              "    <tr>\n",
              "      <th>0</th>\n",
              "      <td>No description yet</td>\n",
              "    </tr>\n",
              "    <tr>\n",
              "      <th>1</th>\n",
              "      <td>This keyboard is in great condition and works like it came out of the box. All of the ports are tested and work perfectly. The lights are customizable via the Razer Synapse app on your PC.</td>\n",
              "    </tr>\n",
              "  </tbody>\n",
              "</table>\n",
              "</div><br><label><b>dtype:</b> object</label>"
            ]
          },
          "metadata": {},
          "execution_count": 27
        }
      ]
    },
    {
      "cell_type": "code",
      "source": [
        "# name 속성에 대한 피처 벡터화 변환\n",
        "\n",
        "cnt_vect = CountVectorizer()\n",
        "X_name = cnt_vect.fit_transform(mercari_df.name)\n",
        "\n",
        "# item_description에 대한 피처 벡터화 변환\n",
        "tfidf_descp = TfidfVectorizer(max_features=50000, ngram_range=(1,3), stop_words='english')\n",
        "X_descp = tfidf_descp.fit_transform(mercari_df['item_description'])\n",
        "print('name vectorization shape: ', X_name.shape)\n",
        "print('item_description vectorization shape: ', X_descp.shape)"
      ],
      "metadata": {
        "colab": {
          "base_uri": "https://localhost:8080/"
        },
        "id": "i34C9nzOwics",
        "outputId": "64c8dd18-772e-4522-f971-77dcd5e30d5f"
      },
      "execution_count": 28,
      "outputs": [
        {
          "output_type": "stream",
          "name": "stdout",
          "text": [
            "name vectorization shape:  (1482535, 105757)\n",
            "item_description vectorization shape:  (1482535, 50000)\n"
          ]
        }
      ]
    },
    {
      "cell_type": "markdown",
      "source": [
        "CountVectorizer, TfidVectorizer가 fit_transform()을 통해 반환하는 데이터는 희소 행렬 형태. 희소 행렬 객체 변수인 X_name과 X_descp를 새로 결합해 새로운 데이터 세트로 구성해야 하고, 앞으로 인코딩될 칼럼들도 모두 이 두 객체 변수와 결합돼 ML 모델을 실행하는 기반 데이터 세트로 재구성돼야 함.\n",
        "\n",
        "이를 위해 인코딩 대상 칼럼도 밀집 행렬이 아닌 희소 행렬 형태로 인코딩 적용한 뒤 함께 결합."
      ],
      "metadata": {
        "id": "fkDtpqeW1Qn-"
      }
    },
    {
      "cell_type": "markdown",
      "source": [
        "## OneHotEncoder와 LabelBinarizer\n",
        "\n",
        "LabelBinarizer 클래스는 희소 행렬 형태의 원핫 인코딩 변환을 지원.생성 시 sparse_out = True로 파라미터를 설정해 주기만 하면 됨.\n",
        "\n",
        "이후 개별 칼럼으로 만들어진 희소 행렬은 사이파이 패키지 sparse 모듈의 hstack() 함수를 이용해 결합. 이 함수는 희소 행렬을 손쉽게 칼럼 레벨로 결합할 수 있게 해 줌."
      ],
      "metadata": {
        "id": "SLkanZ-c2KrI"
      }
    },
    {
      "cell_type": "code",
      "source": [
        "from sklearn.preprocessing import LabelBinarizer\n",
        "\n",
        "# brand_name, item_condition_id, shipping 각 피처들을 희소 행렬 원-핫 인코딩 변환\n",
        "lb_brand_name = LabelBinarizer(sparse_output=True)\n",
        "X_brand = lb_brand_name.fit_transform(mercari_df['brand_name'])\n",
        "lb_item_cond_id = LabelBinarizer(sparse_output=True)\n",
        "X_item_cond_id = lb_item_cond_id.fit_transform(mercari_df['item_condition_id'])\n",
        "lb_shipping = LabelBinarizer(sparse_output=True)\n",
        "X_shipping = lb_shipping.fit_transform(mercari_df['shipping'])\n",
        "\n",
        "# cat_dae, cat_jung, cat_so 각 피처들을 희소 행렬 원-핫 인코딩 변환\n",
        "lb_cat_dae = LabelBinarizer(sparse_output=True)\n",
        "X_cat_dae = lb_cat_dae.fit_transform(mercari_df['cat_dae'])\n",
        "lb_cat_jung = LabelBinarizer(sparse_output=True)\n",
        "X_cat_jung = lb_cat_jung.fit_transform(mercari_df['cat_jung'])\n",
        "lb_cat_so = LabelBinarizer(sparse_output=True)\n",
        "X_cat_so = lb_cat_so.fit_transform(mercari_df['cat_so'])"
      ],
      "metadata": {
        "id": "O8kIMrLR2o4k"
      },
      "execution_count": 29,
      "outputs": []
    },
    {
      "cell_type": "code",
      "source": [
        "print(type(X_brand), type(X_item_cond_id), type(X_shipping))\n",
        "print('X_brand shape: {0}, X_item_cond_id shape:{1}'.format(X_brand.shape, X_item_cond_id.shape))\n",
        "print('X_shipping shape: {0}, X_cat_dae shape: {1}'.format(X_shipping.shape, X_cat_dae.shape))\n",
        "print('X_cat_jung shape: {0}, X_cat_so shape: {1}'.format(X_cat_jung.shape, X_cat_so.shape))"
      ],
      "metadata": {
        "colab": {
          "base_uri": "https://localhost:8080/"
        },
        "id": "b-ptjQSD3MPV",
        "outputId": "805388b6-658e-47c9-c3b5-a42612449324"
      },
      "execution_count": 30,
      "outputs": [
        {
          "output_type": "stream",
          "name": "stdout",
          "text": [
            "<class 'scipy.sparse._csr.csr_matrix'> <class 'scipy.sparse._csr.csr_matrix'> <class 'scipy.sparse._csr.csr_matrix'>\n",
            "X_brand shape: (1482535, 4810), X_item_cond_id shape:(1482535, 5)\n",
            "X_shipping shape: (1482535, 1), X_cat_dae shape: (1482535, 11)\n",
            "X_cat_jung shape: (1482535, 114), X_cat_so shape: (1482535, 871)\n"
          ]
        }
      ]
    },
    {
      "cell_type": "markdown",
      "source": [
        "인코딩 칼럼이 매우 많이 생겼지만, 피처 벡터화로 텍스트 형태의 문자열이 가지는 벡터 형태의 매우 많은 칼럼과 함께 결합되므로 크게 문제 되지 않음."
      ],
      "metadata": {
        "id": "fv45PlXh3q6w"
      }
    },
    {
      "cell_type": "markdown",
      "source": [
        "이번에는 앞에서 피처 벡터화 변환한 데이터 세트와 희소 인코딩 변환된 데이터 세트를 hstack()을 이용해 모두 결합."
      ],
      "metadata": {
        "id": "1F0c7MOu30mt"
      }
    },
    {
      "cell_type": "code",
      "source": [
        "from scipy.sparse import hstack\n",
        "import gc\n",
        "\n",
        "sparse_matrix_list = (X_name, X_descp, X_brand, X_item_cond_id, X_shipping, X_cat_dae, X_cat_jung, X_cat_so)\n",
        "\n",
        "# hstack 함수를 이용해 인코딩과 벡터화를 수행한 데이터 세트를 모두 결합\n",
        "X_features_sparse = hstack(sparse_matrix_list).tocsr()\n",
        "print(type(X_features_sparse), X_features_sparse.shape)\n",
        "\n",
        "# 데이터 세트가 메모리를 많이 차지하므로 사용 목적이 끝났으면 바로 메모리에서 삭제.\n",
        "del X_features_sparse\n",
        "gc.collect()"
      ],
      "metadata": {
        "colab": {
          "base_uri": "https://localhost:8080/"
        },
        "id": "fhVhMM964GCG",
        "outputId": "8f2fbc46-86cf-42df-9a8b-1bf75aa6b48f"
      },
      "execution_count": 31,
      "outputs": [
        {
          "output_type": "stream",
          "name": "stdout",
          "text": [
            "<class 'scipy.sparse._csr.csr_matrix'> (1482535, 161569)\n"
          ]
        },
        {
          "output_type": "execute_result",
          "data": {
            "text/plain": [
              "538"
            ]
          },
          "metadata": {},
          "execution_count": 31
        }
      ]
    },
    {
      "cell_type": "markdown",
      "source": [
        "# 릿지 회귀 모델 구축 및 평가\n",
        "\n",
        "낮은 가격보다 높은 가격에서 오류가 발생할 경우 오류 값이 더 커지는 것을 억제하기 위해 RMSLE 사용\n",
        "\n",
        "![IMG_0138.jpeg](data:image/jpeg;base64,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)"
      ],
      "metadata": {
        "id": "E2WtMSIH5F_n"
      }
    },
    {
      "cell_type": "code",
      "source": [
        "def rmsle(y, y_pred):\n",
        "  # underflow, overflow를 막기 위해 log가 아닌 log1p로 rmsle 계산\n",
        "  return np.sqrt(np.mean(np.power(np.log1p(y) - np.log1p(y_pred), 2)))\n",
        "\n",
        "def evaluate_org_price(y_test, preds):\n",
        "\n",
        "  # 원본 데이터는 log1p로 변환되었으므로 exmpm1로 원복 필요.\n",
        "  preds_exmpm = np.expm1(preds)\n",
        "  y_test_exmpm = np.expm1(y_test)\n",
        "\n",
        "  # rmsle로 RMSLE 추출\n",
        "  rmsle_result = rmsle(y_test_exmpm, preds_exmpm)\n",
        "  return rmsle_result"
      ],
      "metadata": {
        "id": "3nS9Rqgj5aKn"
      },
      "execution_count": 32,
      "outputs": []
    },
    {
      "cell_type": "code",
      "source": [
        "import gc\n",
        "from scipy.sparse import hstack\n",
        "\n",
        "def model_train_predict(model, matrix_list):\n",
        "  # scipy.sparse 모듈의 hstack을 이용해 희소 행렬 결합\n",
        "  X = hstack(matrix_list).tocsr()\n",
        "\n",
        "  X_train, X_test, y_train, y_test = train_test_split(X, mercari_df['price'], test_size=0.2, random_state=156)\n",
        "\n",
        "  # 모델 학습 및 예측\n",
        "  model.fit(X_train, y_train)\n",
        "  preds = model.predict(X_test)\n",
        "\n",
        "  del X, X_train, X_test, y_train\n",
        "  gc.collect()\n",
        "\n",
        "  return preds, y_test"
      ],
      "metadata": {
        "id": "YFs6ISQZ5-eW"
      },
      "execution_count": 37,
      "outputs": []
    },
    {
      "cell_type": "markdown",
      "source": [
        "릿지를 이용해 회귀 예측을 수행. 이전에 텍스트 형태의 속성이 얼마나 영향을 미치는지 살펴보기 -> 피처 벡터화 데이터가 포함될 때와 아닐 때 예측 성능이 얼마나 차이 나는지"
      ],
      "metadata": {
        "id": "jDPpbRzJ6oH6"
      }
    },
    {
      "cell_type": "code",
      "source": [
        "from sklearn.linear_model import Ridge\n",
        "\n",
        "linear_model = Ridge(solver = \"lsqr\", fit_intercept=False)\n",
        "\n",
        "sparse_matrix_list = (X_name, X_brand, X_item_cond_id, X_shipping, X_cat_dae, X_cat_jung, X_cat_so)\n",
        "\n",
        "linear_preds, y_test = model_train_predict(model = linear_model, matrix_list = sparse_matrix_list)\n",
        "print('Item Description을 제외했을 때 rmsle 값: ', evaluate_org_price(y_test, linear_preds))\n",
        "\n",
        "sparse_matrix_list = (X_descp, X_name, X_brand, X_item_cond_id, X_shipping, X_cat_dae, X_cat_jung, X_cat_so)\n",
        "\n",
        "linear_preds, y_test = model_train_predict(model = linear_model, matrix_list = sparse_matrix_list)\n",
        "print('Item Description을 포함했을 때 rmsle 값: ', evaluate_org_price(y_test, linear_preds))"
      ],
      "metadata": {
        "colab": {
          "base_uri": "https://localhost:8080/"
        },
        "id": "903RkyGD6zeZ",
        "outputId": "4e6cb78c-1684-4e2a-ce45-f8e5181530c9"
      },
      "execution_count": 38,
      "outputs": [
        {
          "output_type": "stream",
          "name": "stdout",
          "text": [
            "Item Description을 제외했을 때 rmsle 값:  0.4983990938999374\n",
            "Item Description을 포함했을 때 rmsle 값:  0.4680432471796771\n"
          ]
        }
      ]
    },
    {
      "cell_type": "code",
      "source": [
        "# from lightgbm import LGBMRegressor\n",
        "\n",
        "# sparse_matrix_list = (X_descp, X_name, X_brand, X_item_cond_id, X_shipping, X_cat_dae, X_cat_jung, X_cat_so)\n",
        "\n",
        "# lgbm_model = LGBMRegressor(n_estimators=200, learning_rate=0.5, num_leaves=125, random_state=156)\n",
        "# lgbm_preds, y_test = model_train_predict(model = lgbm_model, matrix_list = sparse_matrix_list)\n",
        "# print('LightGBM rmsle 값: ', evaluate_org_price(y_test, lgbm_preds))"
      ],
      "metadata": {
        "id": "UiDui1-66mjW"
      },
      "execution_count": null,
      "outputs": []
    },
    {
      "cell_type": "code",
      "source": [
        "# preds = lgbm_preds * 0.45 + linear_preds * 0.55\n",
        "# print('LightGBM과 Ridge를 ensemble한 최종 rmsle 값: ', evaluate_org_price(y_test, preds))"
      ],
      "metadata": {
        "id": "kQFTMCGY8ryM"
      },
      "execution_count": null,
      "outputs": []
    }
  ]
}