{
  "nbformat": 4,
  "nbformat_minor": 0,
  "metadata": {
    "colab": {
      "provenance": [],
      "authorship_tag": "ABX9TyMiHLFi+tP8NR65P9Xu8mJK",
      "include_colab_link": true
    },
    "kernelspec": {
      "name": "python3",
      "display_name": "Python 3"
    },
    "language_info": {
      "name": "python"
    }
  },
  "cells": [
    {
      "cell_type": "markdown",
      "metadata": {
        "id": "view-in-github",
        "colab_type": "text"
      },
      "source": [
        "<a href=\"https://colab.research.google.com/github/boyoung21/ESAA/blob/main/%EC%88%98%EC%83%81%EC%9E%91_%EB%A6%AC%EB%B7%B0_0509.ipynb\" target=\"_parent\"><img src=\"https://colab.research.google.com/assets/colab-badge.svg\" alt=\"Open In Colab\"/></a>"
      ]
    },
    {
      "cell_type": "markdown",
      "source": [
        "전력 수요량 예측 경진대회 (2019년)\n",
        "\n",
        "데이터\n",
        "- train\n",
        "1300 세대의 2016년 7월 26일~2018년 6월 30일 데이터\n",
        "\n",
        "-Test\n",
        "200세대의 2017년 7월 1일~ 2018년 6월 30일 전력 데이터\n",
        "\n",
        "- 추가 데이터\n",
        "인천 지역의 2016년 7월 20일~ 2018년 7월 1일 날씨 데이터\n",
        "\n",
        "EDA\n",
        "- Train, test 파일 결측치 존재, ID 481번 기준으로 데이터 개수의 분포가 다름을 고려해서 0~481번 데이터만 사용함\n",
        "- 결측지 모두 0으로 대체\n",
        "- 0.003 보다 작은 값 0으로 변경\n",
        "- 시감별 전력을 하루 단위로 합쳐 날짜별 전력으로 변경\n",
        "- 데이터 중간에 0이 있는 경우 평균값 등으로 대체\n",
        "- 전력 데이터 정규화\n",
        "\n",
        "모델\n",
        "- light game\n",
        "- gauss 함수로 weight를 주어 결과를 일반화할 수 있도록 함\n",
        "\n",
        "평가\n",
        "1-R2 score, smape, 모델의 분산 고려\n",
        "-> 여러 성능 지표로 종합적 평가\n",
        "\n",
        "배울점\n",
        "- 미니 프로젝트 때 이상치를 제거해도 될지, 데이터를 일부만 사용해도 될지 등 EDA 과정이 어려웠는데 이 코드를 분석하면서 데이터를 선별적으로 사용하는 것이 예측 향상에 더 도움이 될 수 있겠다는 것을 깨달았다."
      ],
      "metadata": {
        "id": "1uUunOM_hap6"
      }
    }
  ]
}