{
  "nbformat": 4,
  "nbformat_minor": 0,
  "metadata": {
    "colab": {
      "provenance": [],
      "authorship_tag": "ABX9TyNWBwiM1SgO7R2LyLjYHGuz",
      "include_colab_link": true
    },
    "kernelspec": {
      "name": "python3",
      "display_name": "Python 3"
    },
    "language_info": {
      "name": "python"
    }
  },
  "cells": [
    {
      "cell_type": "markdown",
      "metadata": {
        "id": "view-in-github",
        "colab_type": "text"
      },
      "source": [
        "<a href=\"https://colab.research.google.com/github/boyoung21/ESAA/blob/main/0530_%EC%88%98%EC%83%81%EC%9E%91_%EB%A6%AC%EB%B7%B0.ipynb\" target=\"_parent\"><img src=\"https://colab.research.google.com/assets/colab-badge.svg\" alt=\"Open In Colab\"/></a>"
      ]
    },
    {
      "cell_type": "markdown",
      "source": [
        "# Regression with a Mohs Hardness Dataset\n",
        "\n",
        "Kaggle의 Playground Series에서 2023년에 열린 열린 경연\n",
        "\n",
        "목표: 광물의 여러 특성을 바탕으로 mohs 경도(hardness)를 회귀 모델로 예측\n",
        "\n",
        "성능 평가 지표: MedAE(Median Absolute Error)\n",
        "\n",
        "data\n",
        "- train.csv: 광물 특성(입력 변수) / 경도 값(타깃)\n",
        "- test.csv\n",
        "- sample_submission.csv\n",
        "\n"
      ],
      "metadata": {
        "id": "-D4_xN9qgAya"
      }
    },
    {
      "cell_type": "markdown",
      "source": [
        "# most vote의 코드 살펴보기\n",
        "\n",
        "- pandas, matplotlib, seaborn, standardscaler, randomforestregressor, linearregression 등 호출\n",
        "\n",
        "- train.info(), test.info()로 데이터 결측치 및 타입 확인 -> 결측치 없었음, 후에 isnull().sum()으로 관측치 개수 합 0인 것 재확인\n",
        "\n",
        "- train.describe(), test.describe()로 요약통계량 확인\n",
        "\n",
        "- pairplot으로 변수 간 관계 확인 -> heatmap으로 상관관계까지 추후 확인\n",
        "\n",
        "- hist로 train 데이터 변수들의 분포 확인\n",
        "\n",
        "- train, test 모두 id 칼럼 제거, 타깃변수 Hardness는 .to_numpy()로 numpy 변환\n",
        "\n",
        "- x는 id와 hardness drop한 데이터프레임, y는 hardness만\n",
        "\n",
        "- x는 StandardScaler로 정규화 진행. 이후 test도 적용\n",
        "\n",
        "- test 비율 0.2로 설정하여 train_test_split 실행\n",
        "\n",
        "- randomforestRegressor랑 LinearRegression 모델 적합 후 test 데이터로 예측\n",
        "\n",
        "- rf 결과\n",
        "> Mean Squared Error: 1.5423894575595047 /\n",
        "Mean Absolute Error: 0.9203678354146653 /\n",
        "R^2 Score: 0.4325428598295683\n",
        "\n",
        "- linear 결과\n",
        "> Mean Squared Error: 2.105493781448889 /\n",
        "Mean Absolute Error: 1.1720158518910546 /\n",
        "R^2 Score: 0.22537237659929954\n",
        "\n",
        "랜덤포레스트가 더 우수한 결과\n",
        "\n",
        "\n",
        "\n",
        "\n"
      ],
      "metadata": {
        "id": "776ent_ahrz3"
      }
    }
  ]
}