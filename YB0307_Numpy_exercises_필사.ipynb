{
  "nbformat": 4,
  "nbformat_minor": 5,
  "metadata": {
    "colab": {
      "provenance": []
    },
    "language_info": {
      "name": "python"
    },
    "kernelspec": {
      "name": "python3",
      "display_name": "Python 3"
    }
  },
  "cells": [
    {
      "cell_type": "markdown",
      "metadata": {
        "id": "78250c14"
      },
      "source": [
        "#### 21. Multiply a 5x3 matrix by a 3x2 matrix (real matrix product) (★☆☆)"
      ],
      "id": "78250c14"
    },
    {
      "cell_type": "code",
      "metadata": {
        "id": "9fe729cb",
        "colab": {
          "base_uri": "https://localhost:8080/"
        },
        "outputId": "1d2fc4d1-d6d0-4d48-f51c-c87accccbc0a"
      },
      "source": [
        "import numpy as np\n",
        "\n",
        "A = np.random.random((5, 3))\n",
        "B = np.random.random((3, 2))\n",
        "\n",
        "print(np.dot(A, B))"
      ],
      "id": "9fe729cb",
      "execution_count": 47,
      "outputs": [
        {
          "output_type": "stream",
          "name": "stdout",
          "text": [
            "[[0.79394619 0.40630572]\n",
            " [1.43341895 0.82281789]\n",
            " [0.77354419 0.46951939]\n",
            " [0.71116103 0.23377017]\n",
            " [0.36739031 0.37953761]]\n"
          ]
        }
      ]
    },
    {
      "cell_type": "markdown",
      "metadata": {
        "id": "51898680"
      },
      "source": [
        "#### 22. Given a 1D array, negate all elements which are between 3 and 8, in place. (★☆☆)"
      ],
      "id": "51898680"
    },
    {
      "cell_type": "code",
      "source": [
        "arr = np.arange(10)\n",
        "arr[(arr>3)&(arr<8)] *= -1\n",
        "print(arr)"
      ],
      "metadata": {
        "colab": {
          "base_uri": "https://localhost:8080/"
        },
        "id": "wc9KlLR1paf1",
        "outputId": "24bf3fb6-d6b1-41d3-aba8-48b7973ce5cd"
      },
      "id": "wc9KlLR1paf1",
      "execution_count": 48,
      "outputs": [
        {
          "output_type": "stream",
          "name": "stdout",
          "text": [
            "[ 0  1  2  3 -4 -5 -6 -7  8  9]\n"
          ]
        }
      ]
    },
    {
      "cell_type": "markdown",
      "metadata": {
        "id": "89e78048"
      },
      "source": [
        "#### 23. What is the output of the following script? (★☆☆)\n",
        "```python\n",
        "# Author: Jake VanderPlas\n",
        "\n",
        "print(sum(range(5),-1))\n",
        "from numpy import *\n",
        "print(sum(range(5),-1))\n",
        "```"
      ],
      "id": "89e78048"
    },
    {
      "cell_type": "code",
      "source": [
        "print(sum(range(5),-1))"
      ],
      "metadata": {
        "colab": {
          "base_uri": "https://localhost:8080/"
        },
        "id": "5s3lKAKaQQAz",
        "outputId": "12179d24-4913-4f09-9659-6c400aae55ec"
      },
      "id": "5s3lKAKaQQAz",
      "execution_count": 49,
      "outputs": [
        {
          "output_type": "stream",
          "name": "stdout",
          "text": [
            "10\n"
          ]
        }
      ]
    },
    {
      "cell_type": "code",
      "source": [
        "from numpy import *\n",
        "print(sum(range(5),-1))"
      ],
      "metadata": {
        "colab": {
          "base_uri": "https://localhost:8080/"
        },
        "id": "uPFwz_EEVQzg",
        "outputId": "e9b311be-d580-4f34-b2d1-66e426ca4f85"
      },
      "id": "uPFwz_EEVQzg",
      "execution_count": 50,
      "outputs": [
        {
          "output_type": "stream",
          "name": "stdout",
          "text": [
            "10\n"
          ]
        }
      ]
    },
    {
      "cell_type": "markdown",
      "source": [
        "첫 번째 줄은 0+1+2+3+4 - 1 =9\n",
        "두 번째 줄에서 numpy에 *을 import 함으로써 세 번째 줄의 -1이 축이 되어 0+1+2+3+4 = 10"
      ],
      "metadata": {
        "id": "0DkrFvO0lvsh"
      },
      "id": "0DkrFvO0lvsh"
    },
    {
      "cell_type": "markdown",
      "metadata": {
        "id": "ebd10810"
      },
      "source": [
        "#### 24. Consider an integer vector Z, which of these expressions are legal? (★☆☆)\n",
        "```python\n",
        "Z**Z\n",
        "2 << Z >> 2\n",
        "Z <- Z\n",
        "1j*Z\n",
        "Z/1/1\n",
        "Z<Z>Z\n",
        "```"
      ],
      "id": "ebd10810"
    },
    {
      "cell_type": "markdown",
      "source": [
        "1,2,4,5 -> legal 3,6 -> illegal\n"
      ],
      "metadata": {
        "id": "tkKKOmgWmQ9U"
      },
      "id": "tkKKOmgWmQ9U"
    },
    {
      "cell_type": "markdown",
      "metadata": {
        "id": "c0e940f8"
      },
      "source": [
        "#### 25. What are the result of the following expressions? (★☆☆)\n",
        "```python\n",
        "np.array(0) / np.array(0)\n",
        "np.array(0) // np.array(0)\n",
        "np.array([np.nan]).astype(int).astype(float)\n",
        "```"
      ],
      "id": "c0e940f8"
    },
    {
      "cell_type": "markdown",
      "source": [],
      "metadata": {
        "id": "H4kCQtOlmdmD"
      },
      "id": "H4kCQtOlmdmD"
    },
    {
      "cell_type": "code",
      "metadata": {
        "id": "820dc7a5",
        "colab": {
          "base_uri": "https://localhost:8080/"
        },
        "outputId": "eb90c20e-1aae-4ad6-fe42-50dce799a99a"
      },
      "source": [
        "np.array(0) / np.array(0)\n",
        "np.array(0) // np.array(0)\n",
        "np.array([np.nan]).astype(int).astype(float)"
      ],
      "id": "820dc7a5",
      "execution_count": null,
      "outputs": [
        {
          "output_type": "stream",
          "name": "stderr",
          "text": [
            "<ipython-input-40-cd809174da5d>:1: RuntimeWarning: invalid value encountered in divide\n",
            "  np.array(0) / np.array(0)\n",
            "<ipython-input-40-cd809174da5d>:2: RuntimeWarning: divide by zero encountered in floor_divide\n",
            "  np.array(0) // np.array(0)\n",
            "<ipython-input-40-cd809174da5d>:3: RuntimeWarning: invalid value encountered in cast\n",
            "  np.array([np.nan]).astype(int).astype(float)\n"
          ]
        },
        {
          "output_type": "execute_result",
          "data": {
            "text/plain": [
              "array([-9.22337204e+18])"
            ]
          },
          "metadata": {},
          "execution_count": 40
        }
      ]
    },
    {
      "cell_type": "markdown",
      "metadata": {
        "id": "f1ae2c2d"
      },
      "source": [
        "#### 26. How to find common values between two arrays? (★☆☆)\n",
        "```python\n",
        "Z1 = np.random.randint(0,10,10)\n",
        "Z2 = np.random.randint(0,10,10)\n",
        "```\n",
        "Hint : use `numpy.random.randint(start, end, size)`"
      ],
      "id": "f1ae2c2d"
    },
    {
      "cell_type": "code",
      "source": [
        "Z1 = np.random.randint(0,10,10)\n",
        "Z2 = np.random.randint(0,10,10)\n",
        "\n",
        "print(Z1)\n",
        "print(Z2)\n",
        "print(np.unique(Z1[np.isin(Z1, Z2)]))"
      ],
      "metadata": {
        "colab": {
          "base_uri": "https://localhost:8080/"
        },
        "id": "cyBTKMnhtMAm",
        "outputId": "9bae2e1e-a2ba-4450-b63e-3163cfc48ce2"
      },
      "id": "cyBTKMnhtMAm",
      "execution_count": null,
      "outputs": [
        {
          "output_type": "stream",
          "name": "stdout",
          "text": [
            "[7 1 9 1 2 5 5 3 1 5]\n",
            "[4 3 9 9 0 8 4 7 6 7]\n",
            "[3 7 9]\n"
          ]
        }
      ]
    },
    {
      "cell_type": "markdown",
      "metadata": {
        "id": "37bc0973"
      },
      "source": [
        "#### 27. Is the following expressions true? (★☆☆)\n",
        "```python\n",
        "np.sqrt(-1) == np.emath.sqrt(-1)\n",
        "```"
      ],
      "id": "37bc0973"
    },
    {
      "cell_type": "markdown",
      "source": [
        "False. np.sqrt(-1)은 음수일 경우 nan을 출력하나, np.emath.sqrt(-1)은 복소수 계산으로 1j 출력함\n"
      ],
      "metadata": {
        "id": "nObjDabKF2nm"
      },
      "id": "nObjDabKF2nm"
    },
    {
      "cell_type": "markdown",
      "metadata": {
        "id": "42f8b2f9"
      },
      "source": [
        "#### 28. How to get all the dates corresponding to the month of July 2016? (★★☆)\n",
        "Hint : modify the code below\n",
        "```python\n",
        "Z = np.arange('start', 'end', dtype='datetime64[D]')\n",
        "```"
      ],
      "id": "42f8b2f9"
    },
    {
      "cell_type": "code",
      "source": [
        "Z = np.arange('2016-07-01', '2016-08-01', dtype='datetime64[D]')\n",
        "print(Z)"
      ],
      "metadata": {
        "id": "3kkl01x3x0NF",
        "colab": {
          "base_uri": "https://localhost:8080/"
        },
        "outputId": "57e214dc-e6d0-481b-c77a-b5c96633f803"
      },
      "id": "3kkl01x3x0NF",
      "execution_count": null,
      "outputs": [
        {
          "output_type": "stream",
          "name": "stdout",
          "text": [
            "['2016-07-01' '2016-07-02' '2016-07-03' '2016-07-04' '2016-07-05'\n",
            " '2016-07-06' '2016-07-07' '2016-07-08' '2016-07-09' '2016-07-10'\n",
            " '2016-07-11' '2016-07-12' '2016-07-13' '2016-07-14' '2016-07-15'\n",
            " '2016-07-16' '2016-07-17' '2016-07-18' '2016-07-19' '2016-07-20'\n",
            " '2016-07-21' '2016-07-22' '2016-07-23' '2016-07-24' '2016-07-25'\n",
            " '2016-07-26' '2016-07-27' '2016-07-28' '2016-07-29' '2016-07-30'\n",
            " '2016-07-31']\n"
          ]
        }
      ]
    },
    {
      "cell_type": "markdown",
      "metadata": {
        "id": "252c43e2"
      },
      "source": [
        "#### 29. How to compute ((A+B)*(-A/2)) in place (without copy)? (★★☆)\n",
        "Hint : use `numpy.add`, `numpy.divide`,`numpy.negative`, `numpy.multiply` and parameter `out` of the funtions"
      ],
      "id": "252c43e2"
    },
    {
      "cell_type": "code",
      "metadata": {
        "id": "f06ff615",
        "colab": {
          "base_uri": "https://localhost:8080/"
        },
        "outputId": "27adf1c5-cc93-4038-ae05-8504d7fd46fe"
      },
      "source": [
        "A=np.random.randint(10)\n",
        "B=np.random.randint(10)\n",
        "C=np.add(A,B)\n",
        "D=np.negative(A)\n",
        "E=np.divide(D,2)\n",
        "F=np.multiply(A,E)\n",
        "print(F)"
      ],
      "id": "f06ff615",
      "execution_count": null,
      "outputs": [
        {
          "output_type": "stream",
          "name": "stdout",
          "text": [
            "-2.0\n"
          ]
        }
      ]
    },
    {
      "cell_type": "markdown",
      "metadata": {
        "id": "486df8ea"
      },
      "source": [
        "#### 30. Extract the integer part of a random array of positive numbers using 2 different methods (★★☆)\n",
        "Hint : `%`, `//`"
      ],
      "id": "486df8ea"
    },
    {
      "cell_type": "code",
      "metadata": {
        "id": "34b4fa08",
        "colab": {
          "base_uri": "https://localhost:8080/"
        },
        "outputId": "aef1d83e-dc80-470e-bf6c-76085c18b7c8"
      },
      "source": [
        "A=np.random.uniform(0,10,5)\n",
        "print(A//1)"
      ],
      "id": "34b4fa08",
      "execution_count": null,
      "outputs": [
        {
          "output_type": "stream",
          "name": "stdout",
          "text": [
            "[3. 3. 6. 6. 3.]\n"
          ]
        }
      ]
    },
    {
      "cell_type": "markdown",
      "metadata": {
        "id": "649e89f9"
      },
      "source": [
        "#### 31. Create a 5x5 matrix with row values ranging from 0 to 4 (★★☆)"
      ],
      "id": "649e89f9"
    },
    {
      "cell_type": "code",
      "metadata": {
        "id": "663cc611",
        "colab": {
          "base_uri": "https://localhost:8080/"
        },
        "outputId": "811bcd50-20f4-4473-c77f-83f97506edfc"
      },
      "source": [
        "A=np.random.randint(0,5,25).reshape((5,5))\n",
        "print(A)"
      ],
      "id": "663cc611",
      "execution_count": null,
      "outputs": [
        {
          "output_type": "stream",
          "name": "stdout",
          "text": [
            "[[2 1 3 2 1]\n",
            " [0 0 4 2 1]\n",
            " [3 0 2 2 2]\n",
            " [1 1 0 0 1]\n",
            " [1 1 1 1 2]]\n"
          ]
        }
      ]
    },
    {
      "cell_type": "markdown",
      "metadata": {
        "id": "2d07be1c"
      },
      "source": [
        "#### 32. Create a random vector of size 10 and sort it (★★☆)"
      ],
      "id": "2d07be1c"
    },
    {
      "cell_type": "code",
      "metadata": {
        "id": "4f7cb3ad",
        "colab": {
          "base_uri": "https://localhost:8080/"
        },
        "outputId": "ef84794b-68a2-4a5b-9d10-0e4671998dad"
      },
      "source": [
        "A=np.random.randint(0,10,10)\n",
        "print(A)\n",
        "print(np.sort(A))"
      ],
      "id": "4f7cb3ad",
      "execution_count": null,
      "outputs": [
        {
          "output_type": "stream",
          "name": "stdout",
          "text": [
            "[9 7 4 8 2 1 6 5 9 2]\n",
            "[1 2 2 4 5 6 7 8 9 9]\n"
          ]
        }
      ]
    },
    {
      "cell_type": "markdown",
      "metadata": {
        "id": "fe043549"
      },
      "source": [
        "#### 33. Consider two random array A and B, check if they are equal (★★☆)\n",
        "```python\n",
        "A = np.random.randint(0,2,5)\n",
        "B = np.random.randint(0,2,5)\n",
        "```\n",
        "Hint : Use `numpy.array_equal()`"
      ],
      "id": "fe043549"
    },
    {
      "cell_type": "code",
      "metadata": {
        "id": "3326a686",
        "colab": {
          "base_uri": "https://localhost:8080/"
        },
        "outputId": "d05fadeb-62e8-487b-ce31-feec348bbb70"
      },
      "source": [
        "A = np.random.randint(0, 2, 5)\n",
        "B = np.random.randint(0, 2, 5)\n",
        "equal = np.array_equal(A, B)\n",
        "print(equal)"
      ],
      "id": "3326a686",
      "execution_count": null,
      "outputs": [
        {
          "output_type": "stream",
          "name": "stdout",
          "text": [
            "False\n"
          ]
        }
      ]
    },
    {
      "cell_type": "markdown",
      "source": [
        "부동소수점까지 동일하지 않기 때문에 False"
      ],
      "metadata": {
        "id": "rreyq4TOTP5d"
      },
      "id": "rreyq4TOTP5d"
    },
    {
      "cell_type": "markdown",
      "metadata": {
        "id": "2002cb03"
      },
      "source": [
        "#### 34. Consider a random 10x2 matrix representing cartesian coordinates, convert them to polar coordinates (★★☆)\n",
        "Hint 1 : Note that cartesian coodinate **(x, y)** can be represented as  polar coordinates **(distance from origin to (x,y), angle from the x-axis)**\n",
        "\n",
        "Hint 2 : Use `numpy.sqrt` and `numpy.arctan2`"
      ],
      "id": "2002cb03"
    },
    {
      "cell_type": "code",
      "metadata": {
        "id": "58be72bc",
        "colab": {
          "base_uri": "https://localhost:8080/"
        },
        "outputId": "881b5237-0676-4cc2-b2e4-6bb3f68dee9f"
      },
      "source": [
        "cartesian = np.random.rand(10, 2)\n",
        "print(\"cartesian coordinates:\\n\", cartesian)\n",
        "\n",
        "x = cartesian[:, 0]\n",
        "y = cartesian[:, 1]\n",
        "\n",
        "r = np.sqrt(x**2 + y**2) #반지름r\n",
        "theta = np.arctan2(y, x) #각도 계산\n",
        "\n",
        "polar_coordinates = np.column_stack((r, theta))\n",
        "print(\"\\n극좌표 (r, theta):\\n\", polar_coordinates)"
      ],
      "id": "58be72bc",
      "execution_count": null,
      "outputs": [
        {
          "output_type": "stream",
          "name": "stdout",
          "text": [
            "cartesian coordinates:\n",
            " [[0.86988154 0.13172957]\n",
            " [0.14404978 0.01453067]\n",
            " [0.94912232 0.79899253]\n",
            " [0.7480683  0.39822341]\n",
            " [0.83787003 0.40135499]\n",
            " [0.36241615 0.42845451]\n",
            " [0.07319103 0.5879197 ]\n",
            " [0.79006724 0.41226279]\n",
            " [0.6514672  0.66338923]\n",
            " [0.90683388 0.92168403]]\n",
            "\n",
            "극좌표 (r, theta):\n",
            " [[0.87979917 0.15029201]\n",
            " [0.1447808  0.10053251]\n",
            " [1.24065395 0.69972741]\n",
            " [0.84745977 0.48918025]\n",
            " [0.92903822 0.44672171]\n",
            " [0.56117621 0.86870574]\n",
            " [0.59245802 1.44694199]\n",
            " [0.89116039 0.4809408 ]\n",
            " [0.92978211 0.79446509]\n",
            " [1.29300006 0.7935194 ]]\n"
          ]
        }
      ]
    },
    {
      "cell_type": "markdown",
      "metadata": {
        "id": "b7109c9f"
      },
      "source": [
        "#### 35. Create random vector Z of size 10 and replace the maximum value by 0 (★★☆)\n",
        "Hint : We can see the index of maximum value using `Z.argmax()`"
      ],
      "id": "b7109c9f"
    },
    {
      "cell_type": "code",
      "metadata": {
        "id": "f79e79a7",
        "colab": {
          "base_uri": "https://localhost:8080/"
        },
        "outputId": "97f2828c-93bc-44d7-d872-7ffb54382ef0"
      },
      "source": [
        "Z = np.random.random(10)\n",
        "Z[Z.argmax()] = 0\n",
        "print(Z)"
      ],
      "id": "f79e79a7",
      "execution_count": null,
      "outputs": [
        {
          "output_type": "stream",
          "name": "stdout",
          "text": [
            "[0.74571922 0.         0.49880947 0.26632567 0.17768927 0.52798714\n",
            " 0.62975038 0.53458016 0.61569761 0.43400765]\n"
          ]
        }
      ]
    },
    {
      "cell_type": "markdown",
      "metadata": {
        "id": "e6e1ae2f"
      },
      "source": [
        "#### 36. How to find the closest value (to a given scalar v) in a vector Z? (★★☆)\n",
        "```python\n",
        "Z = np.arange(100)\n",
        "v = np.random.uniform(0,100)\n",
        "```\n",
        "Hint : Coumpute the distances between the each elements of Z and the scalar v. After that, we can see the index of minimum value using `argmin()`.  "
      ],
      "id": "e6e1ae2f"
    },
    {
      "cell_type": "code",
      "source": [
        "Z = np.arange(100)\n",
        "v = np.random.uniform(0,100)\n",
        "index = (np.abs(Z-v)).argmin()     #Z-v의 절댓값의 array의 가장 작은 값의 index return\n",
        "print(Z[index])"
      ],
      "metadata": {
        "id": "QkQ2Mii77FrE",
        "colab": {
          "base_uri": "https://localhost:8080/"
        },
        "outputId": "19400123-e9a7-4c14-ccc8-0ae2a62531ad"
      },
      "id": "QkQ2Mii77FrE",
      "execution_count": null,
      "outputs": [
        {
          "output_type": "stream",
          "name": "stdout",
          "text": [
            "48\n"
          ]
        }
      ]
    },
    {
      "cell_type": "markdown",
      "metadata": {
        "id": "f98713a6"
      },
      "source": [
        "#### 37. What is the equivalent of enumerate for numpy arrays? (★★☆)\n",
        "Hint : Use `numpy.ndenumerate()`or `numpy.ndindex()`\n",
        "\n",
        "Example of the output :\n",
        "```python\n",
        "Z = np.arange(9).reshape(3,3)\n",
        "```\n",
        "```python\n",
        "# output\n",
        "(0, 0) 0\n",
        "(0, 1) 1\n",
        "(0, 2) 2\n",
        "(1, 0) 3\n",
        "(1, 1) 4\n",
        "(1, 2) 5\n",
        "(2, 0) 6\n",
        "(2, 1) 7\n",
        "(2, 2) 8\n",
        "```"
      ],
      "id": "f98713a6"
    },
    {
      "cell_type": "code",
      "metadata": {
        "id": "64795f84",
        "colab": {
          "base_uri": "https://localhost:8080/"
        },
        "outputId": "2f3fc2ff-b479-4742-a4c0-aa5efc715326"
      },
      "source": [
        "Z = np.arange(9).reshape(3,3)\n",
        "# 방법1\n",
        "for index, value in np.ndenumerate(Z):\n",
        "    print(index, value)\n",
        "# 방법2\n",
        "for index in np.ndindex(Z.shape):\n",
        "    print(index, Z[index])"
      ],
      "id": "64795f84",
      "execution_count": null,
      "outputs": [
        {
          "output_type": "stream",
          "name": "stdout",
          "text": [
            "(0, 0) 0\n",
            "(0, 1) 1\n",
            "(0, 2) 2\n",
            "(1, 0) 3\n",
            "(1, 1) 4\n",
            "(1, 2) 5\n",
            "(2, 0) 6\n",
            "(2, 1) 7\n",
            "(2, 2) 8\n",
            "(0, 0) 0\n",
            "(0, 1) 1\n",
            "(0, 2) 2\n",
            "(1, 0) 3\n",
            "(1, 1) 4\n",
            "(1, 2) 5\n",
            "(2, 0) 6\n",
            "(2, 1) 7\n",
            "(2, 2) 8\n"
          ]
        }
      ]
    },
    {
      "cell_type": "markdown",
      "metadata": {
        "id": "0cf413ee"
      },
      "source": [
        "#### 38. How to randomly place p elements in a 2D array? (★★☆)\n",
        "Hint : modify the code below\n",
        "```python\n",
        "n = 'size of a 2D array'\n",
        "p = 'the number of elements that you want to place'\n",
        "Z = np.zeros((n,n))\n",
        "np.put(Z, np.random.choice(range(n*n), p, replace = False),'value that you want to place')\n",
        "print(Z)\n",
        "```"
      ],
      "id": "0cf413ee"
    },
    {
      "cell_type": "code",
      "metadata": {
        "id": "dfc57e06",
        "colab": {
          "base_uri": "https://localhost:8080/"
        },
        "outputId": "5132530e-963a-45a7-c4b4-74bbb064bc91"
      },
      "source": [
        "n = 10\n",
        "p = 3\n",
        "Z = np.zeros((n,n))\n",
        "np.put(Z, np.random.choice(range(n*n), p, replace=False),1)\n",
        "print(Z)"
      ],
      "id": "dfc57e06",
      "execution_count": 51,
      "outputs": [
        {
          "output_type": "stream",
          "name": "stdout",
          "text": [
            "[[0. 0. 0. 0. 0. 0. 0. 0. 0. 0.]\n",
            " [0. 0. 0. 0. 0. 0. 0. 0. 0. 0.]\n",
            " [0. 0. 0. 0. 0. 0. 0. 0. 0. 0.]\n",
            " [0. 0. 0. 0. 0. 0. 0. 0. 0. 0.]\n",
            " [0. 0. 0. 0. 0. 0. 0. 0. 0. 0.]\n",
            " [0. 0. 0. 0. 0. 0. 0. 0. 1. 0.]\n",
            " [0. 1. 0. 0. 0. 0. 0. 0. 0. 0.]\n",
            " [0. 0. 0. 0. 0. 1. 0. 0. 0. 0.]\n",
            " [0. 0. 0. 0. 0. 0. 0. 0. 0. 0.]\n",
            " [0. 0. 0. 0. 0. 0. 0. 0. 0. 0.]]\n"
          ]
        }
      ]
    },
    {
      "cell_type": "markdown",
      "metadata": {
        "id": "c0cf37e0"
      },
      "source": [
        "#### 39. How to sort an array below by the nth column? (★★☆)\n",
        "```python\n",
        "Z = np.random.randint(0,10,(3,3))\n",
        "```"
      ],
      "id": "c0cf37e0"
    },
    {
      "cell_type": "code",
      "source": [
        "Z = np.random.randint(0,10,(3,3))\n",
        "print(\"기존 배열:\\n\", Z)"
      ],
      "metadata": {
        "colab": {
          "base_uri": "https://localhost:8080/"
        },
        "id": "2qB9D0leQ3jA",
        "outputId": "32f32120-f7ed-4e3c-b34c-4248f823917a"
      },
      "id": "2qB9D0leQ3jA",
      "execution_count": 52,
      "outputs": [
        {
          "output_type": "stream",
          "name": "stdout",
          "text": [
            "기존 배열:\n",
            " [[0 3 9]\n",
            " [1 2 5]\n",
            " [0 3 4]]\n"
          ]
        }
      ]
    },
    {
      "cell_type": "code",
      "metadata": {
        "id": "9336ca5f",
        "colab": {
          "base_uri": "https://localhost:8080/"
        },
        "outputId": "3ad8668f-2507-48df-d6bd-aa1a4ca7392c"
      },
      "source": [
        "#column 1\n",
        "print(Z)\n",
        "print(Z[Z[:,0].argsort()])"
      ],
      "id": "9336ca5f",
      "execution_count": 53,
      "outputs": [
        {
          "output_type": "stream",
          "name": "stdout",
          "text": [
            "[[0 3 9]\n",
            " [1 2 5]\n",
            " [0 3 4]]\n",
            "[[0 3 9]\n",
            " [0 3 4]\n",
            " [1 2 5]]\n"
          ]
        }
      ]
    },
    {
      "cell_type": "code",
      "source": [
        "#column 2\n",
        "print(Z)\n",
        "print(Z[Z[:,1].argsort()])"
      ],
      "metadata": {
        "id": "0hZzZ6tn2K6V",
        "colab": {
          "base_uri": "https://localhost:8080/"
        },
        "outputId": "e4790291-ac6a-4d6c-8c14-608bf1e0ab33"
      },
      "id": "0hZzZ6tn2K6V",
      "execution_count": 54,
      "outputs": [
        {
          "output_type": "stream",
          "name": "stdout",
          "text": [
            "[[0 3 9]\n",
            " [1 2 5]\n",
            " [0 3 4]]\n",
            "[[1 2 5]\n",
            " [0 3 9]\n",
            " [0 3 4]]\n"
          ]
        }
      ]
    },
    {
      "cell_type": "code",
      "source": [
        "#column 3\n",
        "print(Z)\n",
        "print(Z[Z[:,2].argsort()])"
      ],
      "metadata": {
        "id": "z4zqQXvt2NaB",
        "colab": {
          "base_uri": "https://localhost:8080/"
        },
        "outputId": "f6d06824-7809-43d2-a6b0-1a53b5d55f7b"
      },
      "id": "z4zqQXvt2NaB",
      "execution_count": 55,
      "outputs": [
        {
          "output_type": "stream",
          "name": "stdout",
          "text": [
            "[[0 3 9]\n",
            " [1 2 5]\n",
            " [0 3 4]]\n",
            "[[0 3 4]\n",
            " [1 2 5]\n",
            " [0 3 9]]\n"
          ]
        }
      ]
    },
    {
      "cell_type": "code",
      "source": [],
      "metadata": {
        "id": "3kxDMHSOV36M"
      },
      "id": "3kxDMHSOV36M",
      "execution_count": null,
      "outputs": []
    }
  ]
}