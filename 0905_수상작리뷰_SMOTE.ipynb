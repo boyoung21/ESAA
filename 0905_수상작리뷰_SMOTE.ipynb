{
  "nbformat": 4,
  "nbformat_minor": 0,
  "metadata": {
    "colab": {
      "provenance": [],
      "authorship_tag": "ABX9TyOBIjJ0PNp9wpdk5Rs0MtwM",
      "include_colab_link": true
    },
    "kernelspec": {
      "name": "python3",
      "display_name": "Python 3"
    },
    "language_info": {
      "name": "python"
    }
  },
  "cells": [
    {
      "cell_type": "markdown",
      "metadata": {
        "id": "view-in-github",
        "colab_type": "text"
      },
      "source": [
        "<a href=\"https://colab.research.google.com/github/boyoung21/ESAA/blob/main/0905_%EC%88%98%EC%83%81%EC%9E%91%EB%A6%AC%EB%B7%B0_SMOTE.ipynb\" target=\"_parent\"><img src=\"https://colab.research.google.com/assets/colab-badge.svg\" alt=\"Open In Colab\"/></a>"
      ]
    },
    {
      "cell_type": "markdown",
      "source": [
        "# 음악 장르 분류 AI\n",
        "\n",
        "https://dacon.io/competitions/official/236056/overview/description\n",
        "\n",
        "대회 배경: 최근 음악 스트리밍 사이트 등에서 음악들을 자체적으로 분류하여 고객들에게 추천. 이에 따라 수많은 음악들을 효과적으로 분류할 수 있는 방법들에 대한 수요와 시도가 지속적으로 증가.\n",
        "\n",
        "대회 목적: 이러한 경향에 힘입어, 음악 샘플들에 대한 특징으로부터 장르를 자동적으로 분류하는 AI 알고리즘 개발. 음악 샘플의 특징 정보로부터 음악의 장르를 분류.\n",
        "\n"
      ],
      "metadata": {
        "id": "FOmZUctBfryt"
      }
    },
    {
      "cell_type": "markdown",
      "source": [
        "# 참고한 수상자 코드\n",
        "\n",
        "부스팅 모델 - xgboost, lightgbm, catboost 사용\n",
        "\n",
        "추가적으로 샘플 수가 가장 적은 클래스만 오버 샘플링(SMOTE)를 통해 그 다음으로 적은 클래스의 샘플 수로 맞춰 줌. (다른 클래스에도 sMOTE를 적용했으나 성능 감소를 보임)\n",
        "\n",
        "선정 이유: 방학 레퍼런스 때 사용했던 모델 3가지와 일치했으며, 이전 프로젝트에서 SMOTE를 사용하여 정확도를 높이려 시도한 경험이 있음. 하지만 유의미한 성능 향상을 보이지 않았기에, 해당 참가자는 어떤 식으로 SMOTE를 사용했는지 알아보고자 함."
      ],
      "metadata": {
        "id": "Qg6-tPLkgkLk"
      }
    },
    {
      "cell_type": "markdown",
      "source": [
        "# 변수 설명\n",
        "\n",
        "- ref: https://rstudio-pubs-static.s3.amazonaws.com/605426_6310b7a4245642309de94d3046b0160e.html\n",
        "\n",
        "- key와 duration 변수를 제외한 수치형 변수를 0과 1사이의 값이 가진다\n",
        "\n",
        "- danceability: 댄스에 적합한 정도\n",
        "\n",
        "- energy: 음악이 세고 활발한 정도 (음악이 빠르고 크고 잡음이 많을수록 값이 크다)\n",
        "\n",
        "- key: 음악의 키(조) (0 ~ 11)\n",
        "\n",
        "- loudness: 인간이 느끼는 소리의 크기 (데시벨)\n",
        "\n",
        "- speachiness: 말하는 정도 (노래 중 가사를 부르는 시간이 길수록 값이 큼)\n",
        "\n",
        "- acousticness: 음향의 정도\n",
        "\n",
        "- instrumentalness: 보컬이 포함되지 않은 정도 (값이 클수록 보컬이 포함되지 않을 가능성이 큼)\n",
        "\n",
        "- liveness: 라이브 정도\n",
        "\n",
        "- valence: 음악이 밝고 긍정적인 정도\n",
        "\n",
        "- tempo: 음악의 빠르기 (beats per minute)\n",
        "\n",
        "- duration: 음악 재생 시간(길이) (초)\n",
        "\n",
        "- genre: 음악의 장르\n",
        "\n"
      ],
      "metadata": {
        "id": "-p9Jk9jUfsFb"
      }
    },
    {
      "cell_type": "markdown",
      "source": [
        "# 전처리 과정\n",
        "\n",
        "- 무의미한 변수(ID 제거)\n",
        "- describe()로 기초 통계량 확인\n",
        "- isnull().sum()으로 결측치 확인\n",
        "- numeric과 categorical 분류 후 각 특성에 맞는 그래프 시각화\n",
        "- genre에 대한 각 feature를 box plot 시각화\n",
        "- genre를 label encoding 후 열 이름을 target으로 변경\n",
        "- minmax scaler 적용\n",
        "\n",
        "이후 교차 검증과 각 boosting 모델을 f1_score을 기준으로 성능 확보\n",
        "\n",
        "배울점: 정교한 분류를 위해 사용자 정의 함수를 여러 개 지정함. 또한, 이전에 SMOTE를 사용했을 때는 모든 레이블의 개수를 똑같이 맞추는 방식으로 진행했는데, 해당 코드에서는 가장 수가 적은 레이블을 두 번째로 작은 레이블의 수에 맞춰서 성능 향상을 이끌어 냄. 이를 통해 모든 레이블의 수를 동일하게 맞추기보단 성능 향상을 이룰 수 있는 방향으로 다양하게 시도해 보는 것이 좋겠다고 생각하게 됨."
      ],
      "metadata": {
        "id": "Ij5TpfmIhfDZ"
      }
    }
  ]
}