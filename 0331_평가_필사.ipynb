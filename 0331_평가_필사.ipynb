{
  "nbformat": 4,
  "nbformat_minor": 0,
  "metadata": {
    "colab": {
      "provenance": [],
      "authorship_tag": "ABX9TyPUHnC3KVLprPDgxvs4zCSW",
      "include_colab_link": true
    },
    "kernelspec": {
      "name": "python3",
      "display_name": "Python 3"
    },
    "language_info": {
      "name": "python"
    }
  },
  "cells": [
    {
      "cell_type": "markdown",
      "metadata": {
        "id": "view-in-github",
        "colab_type": "text"
      },
      "source": [
        "<a href=\"https://colab.research.google.com/github/boyoung21/ESAA/blob/main/0331_%ED%8F%89%EA%B0%80_%ED%95%84%EC%82%AC.ipynb\" target=\"_parent\"><img src=\"https://colab.research.google.com/assets/colab-badge.svg\" alt=\"Open In Colab\"/></a>"
      ]
    },
    {
      "cell_type": "markdown",
      "source": [
        "# 평가\n",
        "\n",
        "성능 평가 지표는 분류, 회귀에 따라 여러 종류로 나뉨.\n",
        "\n",
        "회귀 - 대부분 실제 값과 예측 값의 오차 평균값에 기반\n",
        "\n",
        "분류 - 실제 결과 데이터와 예측 결과 데이터가 얼마나 정확하고 오류가 적게 발생하는가에 기반하지만, 정확도만 가지고 판단하는 것은 잘못된 평가 결과에 빠질 수 있음."
      ],
      "metadata": {
        "id": "2isB1gOGtcUi"
      }
    },
    {
      "cell_type": "markdown",
      "source": [
        "# 정확도(Accuracy)\n",
        "\n",
        "- 실제 데이터에서 예측 데이터가 얼마나 같은지를 판단하는 지표\n",
        "- 예측 결과가 동일한 데이터 건수 / 전체 예측 데이터 건수\n",
        "- 불균형한 레이블 값 분포에서 머신러닝 모델의 성능을 판단할 경우, 적합한 평가 지표가 될 수 없음"
      ],
      "metadata": {
        "id": "jbYuaFI2t7fO"
      }
    },
    {
      "cell_type": "code",
      "execution_count": 114,
      "metadata": {
        "id": "cv6l3kwQkEVi"
      },
      "outputs": [],
      "source": [
        "from sklearn.base import BaseEstimator\n",
        "\n",
        "class MyDummyClassifier(BaseEstimator):\n",
        "  # fit() 메서드는 아무것도 학습하지 않음.\n",
        "  def fit(self, X, y=None):\n",
        "    pass\n",
        "  # predict() 메서드는 단순히 Sex 피처가 1이면 0, 그렇지 않으면 1로 예측함.\n",
        "  def predict(self, X):\n",
        "    pred = np.zeros((X.shape[0],1))\n",
        "    for i in range (X.shape[0]):\n",
        "      if X['Sex'].iloc[i] == 1:\n",
        "        pred[i] = 0\n",
        "      else:\n",
        "        pred[i] = 1\n",
        "\n",
        "    return pred"
      ]
    },
    {
      "cell_type": "code",
      "source": [
        "from google.colab import drive\n",
        "drive.mount('/content/drive')"
      ],
      "metadata": {
        "id": "skCXcwLyl-HI",
        "outputId": "7c339114-7764-475f-a6a8-813702909ea7",
        "colab": {
          "base_uri": "https://localhost:8080/"
        }
      },
      "execution_count": 115,
      "outputs": [
        {
          "output_type": "stream",
          "name": "stdout",
          "text": [
            "Drive already mounted at /content/drive; to attempt to forcibly remount, call drive.mount(\"/content/drive\", force_remount=True).\n"
          ]
        }
      ]
    },
    {
      "cell_type": "code",
      "source": [
        "# Null 처리 함수\n",
        "def fillna(df):\n",
        "  df['Age'].fillna(df['Age'].mean(), inplace=True)\n",
        "  df['Cabin'].fillna('N', inplace=True)\n",
        "  df['Embarked'].fillna('N', inplace=True)\n",
        "  df['Fare'].fillna(0, inplace=True)\n",
        "  return df\n",
        "\n",
        "\n",
        "# 머신러닝 알고리즘에 불필요한 피처 제거\n",
        "def drop_features(df):\n",
        "  df.drop(['PassengerId', 'Name', 'Ticket'], axis=1, inplace=True)\n",
        "  return df\n",
        "\n",
        "\n",
        "# 레이블 인코딩 수행.\n",
        "from sklearn.preprocessing import LabelEncoder\n",
        "\n",
        "def format_features(df):\n",
        "  df['Cabin'] = df['Cabin'].str[:1]\n",
        "  features = ['Cabin', 'Sex', 'Embarked']\n",
        "  for feature in features:\n",
        "    le = LabelEncoder()\n",
        "    le = le.fit(df[feature])\n",
        "    df[feature] = le.transform(df[feature])\n",
        "  return df\n",
        "\n",
        "\n",
        "# 앞에서 설정한 데이터 전처리 함수 호출\n",
        "def transform_features(df):\n",
        "  df = fillna(df)\n",
        "  df = drop_features(df)\n",
        "  df = format_features(df)\n",
        "  return df"
      ],
      "metadata": {
        "id": "pcqgGqdveKDN"
      },
      "execution_count": 116,
      "outputs": []
    },
    {
      "cell_type": "code",
      "source": [
        "import pandas as pd\n",
        "from sklearn.model_selection import train_test_split\n",
        "from sklearn.metrics import accuracy_score\n",
        "\n",
        "# 원본 데이터를 재로딩, 데이터 가공, 학습 데이터/테스트 데이터 분할.\n",
        "titanic_df = pd.read_csv('/content/train.csv')\n",
        "y_titanic_df = titanic_df['Survived']\n",
        "X_titanic_df = titanic_df.drop('Survived', axis=1)\n",
        "X_titanic_df = transform_features(X_titanic_df)\n",
        "X_train, X_test, y_train, y_test = train_test_split(X_titanic_df, y_titanic_df, test_size=0.2, random_state=0)\n",
        "\n",
        "# 위에서 생성한 Dummy Classifier를 이용해 학습/예측/평가 수행.\n",
        "myclf = MyDummyClassifier()\n",
        "myclf.fit(X_train, y_train)\n",
        "\n",
        "mypredictions = myclf.predict(X_test)\n",
        "print('Dummy Classifier의 정확도는: {0:.4f}'.format(accuracy_score(y_test,mypredictions)))"
      ],
      "metadata": {
        "id": "sZz7UhXMk3c5",
        "outputId": "aeee0c40-685d-40ab-a46f-a87000b41ff7",
        "colab": {
          "base_uri": "https://localhost:8080/"
        }
      },
      "execution_count": 118,
      "outputs": [
        {
          "output_type": "stream",
          "name": "stdout",
          "text": [
            "Dummy Classifier의 정확도는: 0.7877\n"
          ]
        },
        {
          "output_type": "stream",
          "name": "stderr",
          "text": [
            "<ipython-input-116-c216999d4efa>:3: FutureWarning: A value is trying to be set on a copy of a DataFrame or Series through chained assignment using an inplace method.\n",
            "The behavior will change in pandas 3.0. This inplace method will never work because the intermediate object on which we are setting values always behaves as a copy.\n",
            "\n",
            "For example, when doing 'df[col].method(value, inplace=True)', try using 'df.method({col: value}, inplace=True)' or df[col] = df[col].method(value) instead, to perform the operation inplace on the original object.\n",
            "\n",
            "\n",
            "  df['Age'].fillna(df['Age'].mean(), inplace=True)\n",
            "<ipython-input-116-c216999d4efa>:4: FutureWarning: A value is trying to be set on a copy of a DataFrame or Series through chained assignment using an inplace method.\n",
            "The behavior will change in pandas 3.0. This inplace method will never work because the intermediate object on which we are setting values always behaves as a copy.\n",
            "\n",
            "For example, when doing 'df[col].method(value, inplace=True)', try using 'df.method({col: value}, inplace=True)' or df[col] = df[col].method(value) instead, to perform the operation inplace on the original object.\n",
            "\n",
            "\n",
            "  df['Cabin'].fillna('N', inplace=True)\n",
            "<ipython-input-116-c216999d4efa>:5: FutureWarning: A value is trying to be set on a copy of a DataFrame or Series through chained assignment using an inplace method.\n",
            "The behavior will change in pandas 3.0. This inplace method will never work because the intermediate object on which we are setting values always behaves as a copy.\n",
            "\n",
            "For example, when doing 'df[col].method(value, inplace=True)', try using 'df.method({col: value}, inplace=True)' or df[col] = df[col].method(value) instead, to perform the operation inplace on the original object.\n",
            "\n",
            "\n",
            "  df['Embarked'].fillna('N', inplace=True)\n",
            "<ipython-input-116-c216999d4efa>:6: FutureWarning: A value is trying to be set on a copy of a DataFrame or Series through chained assignment using an inplace method.\n",
            "The behavior will change in pandas 3.0. This inplace method will never work because the intermediate object on which we are setting values always behaves as a copy.\n",
            "\n",
            "For example, when doing 'df[col].method(value, inplace=True)', try using 'df.method({col: value}, inplace=True)' or df[col] = df[col].method(value) instead, to perform the operation inplace on the original object.\n",
            "\n",
            "\n",
            "  df['Fare'].fillna(0, inplace=True)\n"
          ]
        }
      ]
    },
    {
      "cell_type": "code",
      "source": [
        "from sklearn.datasets import load_digits\n",
        "from sklearn.model_selection import train_test_split\n",
        "from sklearn.base import BaseEstimator\n",
        "from sklearn.metrics import accuracy_score\n",
        "import numpy as np\n",
        "import pandas as pd\n",
        "\n",
        "class MyFakeClassifier(BaseEstimator):\n",
        "  def fit(self,X,y):\n",
        "    pass\n",
        "\n",
        "  # 입력값으로 들어오는 X 데이터 세트의 크기만큼 모두 0값으로 만들어서 반환\n",
        "  def predict(self, X):\n",
        "    return np.zeros((len(X),1),dtype=bool)\n",
        "\n",
        "# 사이킷런의 내장 데이터 세트인 load_digits()를 이용해 MNIST 데이터 로딩\n",
        "digits = load_digits()\n",
        "\n",
        "# digits 번호가 7번이면 True이고 이를 astype(int)로 1로 변환, 7번이 아니면 False이고 0으로 변환.\n",
        "y = (digits.target==7).astype(int)\n",
        "X_train, X_test, y_train, y_test = train_test_split(digits.data,y,random_state=11)"
      ],
      "metadata": {
        "id": "pYEHxin0k3rM"
      },
      "execution_count": 119,
      "outputs": []
    },
    {
      "cell_type": "code",
      "source": [
        "# 불균형한 레이블 데이터 분포도 확인\n",
        "print('레이블 테스트 세트 크기:', y_test.shape)\n",
        "print('테스트 세트 레이블 0과 1의 분포도')\n",
        "print(pd.Series(y_test).value_counts())\n",
        "\n",
        "# Dummy Classifier로 학습/예측/정확도 평가\n",
        "fakeclf = MyFakeClassifier()\n",
        "fakeclf.fit(X_train,y_train)\n",
        "fakepred = fakeclf.predict(X_test)\n",
        "print('모든 예측을 0으로 하여도 정확도는:{:.3f}'.format(accuracy_score(y_test,fakepred)))"
      ],
      "metadata": {
        "colab": {
          "base_uri": "https://localhost:8080/"
        },
        "id": "o23pGUzFgafX",
        "outputId": "ab36712c-40f6-417c-db50-11d30b01aaee"
      },
      "execution_count": 120,
      "outputs": [
        {
          "output_type": "stream",
          "name": "stdout",
          "text": [
            "레이블 테스트 세트 크기: (450,)\n",
            "테스트 세트 레이블 0과 1의 분포도\n",
            "0    405\n",
            "1     45\n",
            "Name: count, dtype: int64\n",
            "모든 예측을 0으로 하여도 정확도는:0.900\n"
          ]
        }
      ]
    },
    {
      "cell_type": "markdown",
      "source": [
        "# 오차 행렬 Confusion Matrix\n",
        "\n",
        "- 이진 분류의 예측 오류가 얼마인지와 더불어 어떠한 유형의 예측 오류가 발생하고 있는지를 함께 나타내는 지표\n",
        "\n",
        "![image.png](data:image/png;base64,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)"
      ],
      "metadata": {
        "id": "NYs26IZLudxL"
      }
    },
    {
      "cell_type": "markdown",
      "source": [
        "- TN는 예측값을 Negative 값 0으로 예측했고 실제 값 역시 Negative 값 0\n",
        "- FP는 예측값을 Positive 값 1로 예측했는데 실제 값은 Negative 값 0\n",
        "- FN은 예측값을 Negative값 0으로 예측했는데 실제 값은 Positive 값 1\n",
        "- TP는 예측값을 Positive값 1로 예측했는데 실제 값 역시 Positive 값\n",
        "\n",
        "> 이 값들을 조합해 정확도(Accuracy), 정밀도(Precision), 재현율(Recall) 값을 알 수 있음\n",
        "\n",
        "- 정확도 = 예측 결과와 실제 값이 동일한 건수/전체 데이터 수 = (TN + TP)/(TN + FP + FN + TP)\n",
        "- 정밀도 = TP / (FP + TP)\n",
        " > 실제 Negative 음성인 데이터 예측을 Positive 양성으로 잘못 판단하게 되면 업무상 큰 영향이 발생하는 경우, 정밀도가 중요함\n",
        "- 재현율 = TP / (FN + TP)\n",
        " > 실제 Positive 양성 데이터를 Negative로 잘못 판단하게 되면 업무상 큰 영향이 발생하는 경우, 재현율이 중요함\n"
      ],
      "metadata": {
        "id": "rOMa9uVBvB25"
      }
    },
    {
      "cell_type": "code",
      "source": [
        "from sklearn.metrics import confusion_matrix\n",
        "\n",
        "confusion_matrix(y_test, fakepred)"
      ],
      "metadata": {
        "colab": {
          "base_uri": "https://localhost:8080/"
        },
        "id": "asC6suGcgpQr",
        "outputId": "e16fccb9-08c8-4023-824c-102eddaa8737"
      },
      "execution_count": 121,
      "outputs": [
        {
          "output_type": "execute_result",
          "data": {
            "text/plain": [
              "array([[405,   0],\n",
              "       [ 45,   0]])"
            ]
          },
          "metadata": {},
          "execution_count": 121
        }
      ]
    },
    {
      "cell_type": "code",
      "source": [
        "from sklearn.metrics import accuracy_score, precision_score, recall_score, confusion_matrix\n",
        "\n",
        "def get_clf_eval(y_test,pred):\n",
        "  confusion = confusion_matrix(y_test,pred)\n",
        "  accuracy = accuracy_score(y_test,pred)\n",
        "  precision = precision_score(y_test,pred)\n",
        "  recall = recall_score(y_test,pred)\n",
        "  print('오차 행렬')\n",
        "  print(confusion)\n",
        "  print('정확도: {0:.4f}, 정밀도: {1:.4f}, 재현율: {2:.4f}'.format(accuracy, precision, recall))"
      ],
      "metadata": {
        "id": "DxlmZ-O6g19S"
      },
      "execution_count": 122,
      "outputs": []
    },
    {
      "cell_type": "code",
      "source": [
        "import pandas as pd\n",
        "from sklearn.model_selection import train_test_split\n",
        "from sklearn.linear_model import LogisticRegression\n",
        "\n",
        "# 원본 데이터를 재로딩, 데이터 가공, 학습 데이터/테스트 데이터 분할.\n",
        "titanic_df = pd.read_csv('/content/train.csv')\n",
        "y_titanic_df = titanic_df['Survived']\n",
        "X_titanic_df= titanic_df.drop('Survived', axis=1)\n",
        "X_titanic_df = transform_features(X_titanic_df)\n",
        "\n",
        "X_train, X_test, y_train, y_test = train_test_split(X_titanic_df, y_titanic_df,\n",
        "                                                    test_size=0.2, random_state=11)\n",
        "\n",
        "lr_clf = LogisticRegression(solver='liblinear')\n",
        "\n",
        "lr_clf.fit(X_train, y_train)\n",
        "pred = lr_clf.predict(X_test)\n",
        "get_clf_eval(y_test, pred)"
      ],
      "metadata": {
        "colab": {
          "base_uri": "https://localhost:8080/"
        },
        "id": "ALnfWAwWhRmL",
        "outputId": "69a43965-de42-4c05-bf4d-0a23863293f6"
      },
      "execution_count": 123,
      "outputs": [
        {
          "output_type": "stream",
          "name": "stdout",
          "text": [
            "오차 행렬\n",
            "[[108  10]\n",
            " [ 14  47]]\n",
            "정확도: 0.8659, 정밀도: 0.8246, 재현율: 0.7705\n"
          ]
        },
        {
          "output_type": "stream",
          "name": "stderr",
          "text": [
            "<ipython-input-116-c216999d4efa>:3: FutureWarning: A value is trying to be set on a copy of a DataFrame or Series through chained assignment using an inplace method.\n",
            "The behavior will change in pandas 3.0. This inplace method will never work because the intermediate object on which we are setting values always behaves as a copy.\n",
            "\n",
            "For example, when doing 'df[col].method(value, inplace=True)', try using 'df.method({col: value}, inplace=True)' or df[col] = df[col].method(value) instead, to perform the operation inplace on the original object.\n",
            "\n",
            "\n",
            "  df['Age'].fillna(df['Age'].mean(), inplace=True)\n",
            "<ipython-input-116-c216999d4efa>:4: FutureWarning: A value is trying to be set on a copy of a DataFrame or Series through chained assignment using an inplace method.\n",
            "The behavior will change in pandas 3.0. This inplace method will never work because the intermediate object on which we are setting values always behaves as a copy.\n",
            "\n",
            "For example, when doing 'df[col].method(value, inplace=True)', try using 'df.method({col: value}, inplace=True)' or df[col] = df[col].method(value) instead, to perform the operation inplace on the original object.\n",
            "\n",
            "\n",
            "  df['Cabin'].fillna('N', inplace=True)\n",
            "<ipython-input-116-c216999d4efa>:5: FutureWarning: A value is trying to be set on a copy of a DataFrame or Series through chained assignment using an inplace method.\n",
            "The behavior will change in pandas 3.0. This inplace method will never work because the intermediate object on which we are setting values always behaves as a copy.\n",
            "\n",
            "For example, when doing 'df[col].method(value, inplace=True)', try using 'df.method({col: value}, inplace=True)' or df[col] = df[col].method(value) instead, to perform the operation inplace on the original object.\n",
            "\n",
            "\n",
            "  df['Embarked'].fillna('N', inplace=True)\n",
            "<ipython-input-116-c216999d4efa>:6: FutureWarning: A value is trying to be set on a copy of a DataFrame or Series through chained assignment using an inplace method.\n",
            "The behavior will change in pandas 3.0. This inplace method will never work because the intermediate object on which we are setting values always behaves as a copy.\n",
            "\n",
            "For example, when doing 'df[col].method(value, inplace=True)', try using 'df.method({col: value}, inplace=True)' or df[col] = df[col].method(value) instead, to perform the operation inplace on the original object.\n",
            "\n",
            "\n",
            "  df['Fare'].fillna(0, inplace=True)\n"
          ]
        }
      ]
    },
    {
      "cell_type": "code",
      "source": [
        "pred_proba = lr_clf.predict_proba(X_test)\n",
        "pred = lr_clf.predict(X_test)\n",
        "print('pred_proba()결과 Shape : {0}'.format(pred_proba.shape))\n",
        "print('pred_proba array에서 앞 3개만 샘플로 추출 \\n:', pred_proba[:3])\n",
        "\n",
        "# 예측 확률 array와 예측 결괏값 array를 병합(concatenate)해 예측 확률과 결괏값을 한눈에 확인\n",
        "pred_proba_result = np.concatenate([pred_proba, pred.reshape(-1,1)],axis=1)\n",
        "print('두 개의 class 중에서 더 큰 확률을 클래스 값으로 예측 \\n', pred_proba_result[:3])"
      ],
      "metadata": {
        "colab": {
          "base_uri": "https://localhost:8080/"
        },
        "id": "Q9o30tosoULi",
        "outputId": "bc2bee61-26c6-43b3-f018-b93da2c29003"
      },
      "execution_count": 124,
      "outputs": [
        {
          "output_type": "stream",
          "name": "stdout",
          "text": [
            "pred_proba()결과 Shape : (179, 2)\n",
            "pred_proba array에서 앞 3개만 샘플로 추출 \n",
            ": [[0.44935227 0.55064773]\n",
            " [0.86335512 0.13664488]\n",
            " [0.86429645 0.13570355]]\n",
            "두 개의 class 중에서 더 큰 확률을 클래스 값으로 예측 \n",
            " [[0.44935227 0.55064773 1.        ]\n",
            " [0.86335512 0.13664488 0.        ]\n",
            " [0.86429645 0.13570355 0.        ]]\n"
          ]
        }
      ]
    },
    {
      "cell_type": "code",
      "source": [
        "from sklearn.preprocessing import Binarizer\n",
        "\n",
        "X = [[1,-1,2],\n",
        "     [2,0,0],\n",
        "     [0,1.1,1.2]]\n",
        "\n",
        "# X의 개별 원소들이 threshold 값보다 같거나 작으면 0을, 크면 1을 반환\n",
        "binarizer = Binarizer(threshold=1.1)\n",
        "print(binarizer.fit_transform(X))"
      ],
      "metadata": {
        "colab": {
          "base_uri": "https://localhost:8080/"
        },
        "id": "IOt2m4HdotC0",
        "outputId": "d22ff36e-be8e-4138-c46f-e97854ce5001"
      },
      "execution_count": 125,
      "outputs": [
        {
          "output_type": "stream",
          "name": "stdout",
          "text": [
            "[[0. 0. 1.]\n",
            " [1. 0. 0.]\n",
            " [0. 0. 1.]]\n"
          ]
        }
      ]
    },
    {
      "cell_type": "code",
      "source": [
        "from sklearn.preprocessing import Binarizer\n",
        "\n",
        "# Binarizer의 threshold 설정값. 분류 결정 임곗값임.\n",
        "custom_threshold = 0.5\n",
        "\n",
        "# predict_proba() 반환값의 두 번째 칼럼, 즉 Positive 클래스 칼럼 하나만 추출해 Binarizer를 적용.\n",
        "pred_proba_1 = pred_proba[:,1].reshape(-1,1)\n",
        "\n",
        "binarizer = Binarizer(threshold=custom_threshold).fit(pred_proba_1)\n",
        "custom_predict = binarizer.transform(pred_proba_1)\n",
        "\n",
        "get_clf_eval(y_test,custom_predict)"
      ],
      "metadata": {
        "colab": {
          "base_uri": "https://localhost:8080/"
        },
        "id": "D9FuVCuyo8XD",
        "outputId": "0e1488d4-ab6c-4d89-a09d-5ecaa7de9894"
      },
      "execution_count": 126,
      "outputs": [
        {
          "output_type": "stream",
          "name": "stdout",
          "text": [
            "오차 행렬\n",
            "[[108  10]\n",
            " [ 14  47]]\n",
            "정확도: 0.8659, 정밀도: 0.8246, 재현율: 0.7705\n"
          ]
        }
      ]
    },
    {
      "cell_type": "markdown",
      "source": [
        "# 정밀도/재현율 트레이드오프\n",
        "분류하려는 업무의 특성상 정밀도 또는 재현율이 특별히 강조돼야 할 경우 분류의 결정 임곗값\n",
        "(Threshold)을 조정해 정밀도 또는 재현율의 수치를 높일 수 있지만, 정밀도와 재현율은 트레이드오프(Trade-off) 관계임. 따라서 사이킷런으로 분류 결정 임곗값을 조절해 정밀도와 재현율의 성능 수치를 상호 보완적으로 조정함."
      ],
      "metadata": {
        "id": "NAjL0y_sv7vi"
      }
    },
    {
      "cell_type": "code",
      "source": [
        "# Binarizer의 threshold 설정값을 0.4로 설정. 즉 분류 결정 임곗값을 0.5에서 0.4로 낮춤\n",
        "custom_threshold = 0.4\n",
        "pred_proba_1 = pred_proba[:,1].reshape(-1,1)\n",
        "binarizer = Binarizer(threshold=custom_threshold).fit(pred_proba_1)\n",
        "custom_predict = binarizer.transform(pred_proba_1)\n",
        "\n",
        "get_clf_eval(y_test, custom_predict)"
      ],
      "metadata": {
        "colab": {
          "base_uri": "https://localhost:8080/"
        },
        "id": "K6fW6l7jpI-_",
        "outputId": "bda9bda1-43ed-494e-80c1-959a52714e57"
      },
      "execution_count": 127,
      "outputs": [
        {
          "output_type": "stream",
          "name": "stdout",
          "text": [
            "오차 행렬\n",
            "[[97 21]\n",
            " [11 50]]\n",
            "정확도: 0.8212, 정밀도: 0.7042, 재현율: 0.8197\n"
          ]
        }
      ]
    },
    {
      "cell_type": "code",
      "source": [
        "# 테스트를 수행할 모든 임곗값을 리스트 객체로 저장.\n",
        "thresholds = [0.4, 0.45, 0.50, 0.55, 0.60]\n",
        "\n",
        "def get_eval_by_threshold(y_test,pred_proba_c1,thresholds):\n",
        "  # thresholds list 객체 내의 값을 차례로 iteration하면서 Evaluation 수행.\n",
        "  for custom_threshold in thresholds:\n",
        "    binarizer = Binarizer(threshold=custom_threshold).fit(pred_proba_c1)\n",
        "    custom_predict = binarizer.transform(pred_proba_c1)\n",
        "    print('임곗값:', custom_threshold)\n",
        "    get_clf_eval(y_test, custom_predict)\n",
        "\n",
        "get_eval_by_threshold(y_test, pred_proba[:,1].reshape(-1,1), thresholds)"
      ],
      "metadata": {
        "colab": {
          "base_uri": "https://localhost:8080/"
        },
        "id": "Vh1FSYfopaIa",
        "outputId": "860fbe6e-69c7-4b82-aa8f-054e6b58694e"
      },
      "execution_count": 128,
      "outputs": [
        {
          "output_type": "stream",
          "name": "stdout",
          "text": [
            "임곗값: 0.4\n",
            "오차 행렬\n",
            "[[97 21]\n",
            " [11 50]]\n",
            "정확도: 0.8212, 정밀도: 0.7042, 재현율: 0.8197\n",
            "임곗값: 0.45\n",
            "오차 행렬\n",
            "[[105  13]\n",
            " [ 13  48]]\n",
            "정확도: 0.8547, 정밀도: 0.7869, 재현율: 0.7869\n",
            "임곗값: 0.5\n",
            "오차 행렬\n",
            "[[108  10]\n",
            " [ 14  47]]\n",
            "정확도: 0.8659, 정밀도: 0.8246, 재현율: 0.7705\n",
            "임곗값: 0.55\n",
            "오차 행렬\n",
            "[[111   7]\n",
            " [ 16  45]]\n",
            "정확도: 0.8715, 정밀도: 0.8654, 재현율: 0.7377\n",
            "임곗값: 0.6\n",
            "오차 행렬\n",
            "[[113   5]\n",
            " [ 17  44]]\n",
            "정확도: 0.8771, 정밀도: 0.8980, 재현율: 0.7213\n"
          ]
        }
      ]
    },
    {
      "cell_type": "code",
      "source": [
        "from sklearn.metrics import precision_recall_curve\n",
        "\n",
        "# 레이블 값이 1일 때의 예측 확률을 추출\n",
        "pred_proba_class1 = lr_clf.predict_proba(X_test)[:,1]\n",
        "\n",
        "# 실제값 데이터 세트와 레이블 값이 1일 때의 예측 확률을 precision_recall_curve 인자로 입력\n",
        "precisions, recalls, thresholds = precision_recall_curve(y_test,pred_proba_class1)\n",
        "print('반환된 분류 결정 임곗값 배열의 Shape:', thresholds.shape)\n",
        "\n",
        "# 반환된 임계값 배열 로우가 147건이므로 샘플로 10건만 추출하되, 임곗값을 15 Step으로 추출\n",
        "thr_index = np.arange(0, thresholds.shape[0], 15)\n",
        "print('샘플 추출을 위한 임계값 배열의 index 10개:',thr_index)\n",
        "print('샘플용 10개의 임곗값:', np.round(thresholds[thr_index],2))\n",
        "\n",
        "# 15 step 단위로 추출된 임계값에 따른 정밀도와 재현율 값\n",
        "print('샘플 임계값별 정밀도:', np.round(precisions[thr_index],3))\n",
        "print('샘플 임계값별 재현율:', np.round(recalls[thr_index],3))"
      ],
      "metadata": {
        "colab": {
          "base_uri": "https://localhost:8080/"
        },
        "id": "spfE4tuEYwXz",
        "outputId": "c10b7980-a62f-4943-dc7e-9b57976211a8"
      },
      "execution_count": 129,
      "outputs": [
        {
          "output_type": "stream",
          "name": "stdout",
          "text": [
            "반환된 분류 결정 임곗값 배열의 Shape: (165,)\n",
            "샘플 추출을 위한 임계값 배열의 index 10개: [  0  15  30  45  60  75  90 105 120 135 150]\n",
            "샘플용 10개의 임곗값: [0.02 0.11 0.13 0.14 0.16 0.24 0.32 0.45 0.62 0.73 0.87]\n",
            "샘플 임계값별 정밀도: [0.341 0.372 0.401 0.44  0.505 0.598 0.688 0.774 0.915 0.968 0.938]\n",
            "샘플 임계값별 재현율: [1.    1.    0.967 0.902 0.902 0.902 0.869 0.787 0.705 0.492 0.246]\n"
          ]
        }
      ]
    },
    {
      "cell_type": "code",
      "source": [
        "import matplotlib.pyplot as plt\n",
        "import matplotlib.ticker as ticker\n",
        "%matplotlib inline"
      ],
      "metadata": {
        "id": "Y3Rb0okcZur8"
      },
      "execution_count": 130,
      "outputs": []
    },
    {
      "cell_type": "code",
      "source": [
        "def precision_recall_curve_plot(y_test, pred_proba_c1):\n",
        "  # threshold ndarray와 이 threshold에 따른 정밀도, 재현율 ndarray 추출.\n",
        "  precisions, recalls, thresholds = precision_recall_curve(y_test,pred_proba_c1)\n",
        "\n",
        "  # X축을 threshold값으로, Y축은 정밀도, 재현율 값으로 각각 Plot 수행. 정밀도는 점선으로 표시\n",
        "  plt.figure(figsize=(8,6))\n",
        "  threshold_boundary = thresholds.shape[0]\n",
        "  plt.plot(thresholds, precisions[0:threshold_boundary], linestyle='--', label='precision')\n",
        "  plt.plot(thresholds, recalls[0:threshold_boundary], label='recall')\n",
        "\n",
        "  # threshold 값 X축의 Scale을 0.1 단위로 변경\n",
        "  start, end = plt.xlim()\n",
        "  plt.xticks(np.round(np.arange(start,end,0.1),2))\n",
        "\n",
        "  # x축, y축 label과 legend, 그리고 grid 설정\n",
        "  plt.xlabel('Threshold value'); plt.ylabel('Precision and Recall value')\n",
        "  plt.legend(); plt.grid()\n",
        "  plt.show()\n",
        "\n",
        "precision_recall_curve_plot(y_test,lr_clf.predict_proba(X_test)[:,1])"
      ],
      "metadata": {
        "colab": {
          "base_uri": "https://localhost:8080/",
          "height": 542
        },
        "id": "-WhKAsxQapV7",
        "outputId": "cf4da63c-b5d0-4844-eeac-f560d7862262"
      },
      "execution_count": 131,
      "outputs": [
        {
          "output_type": "display_data",
          "data": {
            "text/plain": [
              "<Figure size 800x600 with 1 Axes>"
            ],
            "image/png": "[encoded data removed]"
          },
          "metadata": {}
        }
      ]
    },
    {
      "cell_type": "markdown",
      "source": [
        "# F1 스코어\n",
        "\n",
        "- 정밀도와 재현율을 결합한 지표로, 두 값이 어느 한쪽으로 치우치지 않는 수치를 나타낼 때 상대적으로 높은 값을 가짐\n",
        "\n",
        "![image.png](data:image/png;base64,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)"
      ],
      "metadata": {
        "id": "xViKpM-Aws4z"
      }
    },
    {
      "cell_type": "code",
      "source": [
        "from sklearn.metrics import f1_score\n",
        "f1 = f1_score(y_test, pred)\n",
        "print('F1 스코어: {0:.4f}'.format(f1))"
      ],
      "metadata": {
        "colab": {
          "base_uri": "https://localhost:8080/"
        },
        "id": "jtC5WKx_brI4",
        "outputId": "1a8d11c8-aa6c-4e9f-88b4-1277f315ecc9"
      },
      "execution_count": 132,
      "outputs": [
        {
          "output_type": "stream",
          "name": "stdout",
          "text": [
            "F1 스코어: 0.7966\n"
          ]
        }
      ]
    },
    {
      "cell_type": "code",
      "source": [
        "def get_clf_eval(y_test,pred):\n",
        "  confusion = confusion_matrix(y_test,pred)\n",
        "  accuracy = accuracy_score(y_test, pred)\n",
        "  precision = precision_score(y_test, pred)\n",
        "  recall = recall_score(y_test, pred)\n",
        "  # F1 스코어 추가\n",
        "  f1 = f1_score(y_test, pred)\n",
        "  print('오차 행렬')\n",
        "  print(confusion)\n",
        "  # f1 score print 추가\n",
        "  print('정확도: {0:.4f}, 정밀도: {1:.4f}, 재현율: {2:.4f}, F1:{3:.4f}'.format(accuracy, precision, recall, f1))\n",
        "\n",
        "thresholds = [0.4,0.45,0.50,0.55,0.60]\n",
        "pred_proba = lr_clf.predict_proba(X_test)\n",
        "get_eval_by_threshold(y_test, pred_proba[:,1].reshape(-1,1), thresholds)"
      ],
      "metadata": {
        "colab": {
          "base_uri": "https://localhost:8080/"
        },
        "id": "vADcPeoybzBM",
        "outputId": "1b6f442e-4808-4a60-a2fb-a198b16dc39e"
      },
      "execution_count": 133,
      "outputs": [
        {
          "output_type": "stream",
          "name": "stdout",
          "text": [
            "임곗값: 0.4\n",
            "오차 행렬\n",
            "[[97 21]\n",
            " [11 50]]\n",
            "정확도: 0.8212, 정밀도: 0.7042, 재현율: 0.8197, F1:0.7576\n",
            "임곗값: 0.45\n",
            "오차 행렬\n",
            "[[105  13]\n",
            " [ 13  48]]\n",
            "정확도: 0.8547, 정밀도: 0.7869, 재현율: 0.7869, F1:0.7869\n",
            "임곗값: 0.5\n",
            "오차 행렬\n",
            "[[108  10]\n",
            " [ 14  47]]\n",
            "정확도: 0.8659, 정밀도: 0.8246, 재현율: 0.7705, F1:0.7966\n",
            "임곗값: 0.55\n",
            "오차 행렬\n",
            "[[111   7]\n",
            " [ 16  45]]\n",
            "정확도: 0.8715, 정밀도: 0.8654, 재현율: 0.7377, F1:0.7965\n",
            "임곗값: 0.6\n",
            "오차 행렬\n",
            "[[113   5]\n",
            " [ 17  44]]\n",
            "정확도: 0.8771, 정밀도: 0.8980, 재현율: 0.7213, F1:0.8000\n"
          ]
        }
      ]
    },
    {
      "cell_type": "markdown",
      "source": [
        "# ROC 곡선과 AUC\n",
        "\n",
        "- ROC: False Positive Rate(X축)가 변할 때 True Positive Rate(Y축)가 어떻게 변하는지를 나타내는 곡선\n",
        "\n",
        "> 민감도(TPR)는 실제값 Positive(양성)가 정확히 예측돼야 하는 수준을 나타냄 (질병이 있는 사람은 질병이 있는 것으\n",
        "로 양성 판정)\n",
        "\n",
        "> 특이성(TNR)은 실제값 Negative(음성)가 정확히 예측돼야 하는 수준을 나타냄(질병이 없는 건강한 사람은 질병이\n",
        "없는 것으로 음성 판정)\n",
        "\n",
        "- TNR(True Negative Rate)인 특이성은 다음과 같이 구할 수 있음\n",
        "- TNR = TN / ( FP + TN )\n",
        "- ROC 곡선의 X 축 기준인 FPR(False Positive Rate)은 FP / ( FP + TN)이므로 (1 - TNR) 또는\n",
        "(1 - 특이성)으로 표현됨.\n",
        "-  FPR = FP / (FP + TN) = 1 - TNR = 1- 특이성\n",
        "- ROC 곡선은 가운데 선에서 떨어질수록 성능이 뛰어난 것"
      ],
      "metadata": {
        "id": "fz-nnXzPxDRk"
      }
    },
    {
      "cell_type": "code",
      "source": [
        "from sklearn.metrics import roc_curve\n",
        "\n",
        "# 레이블 값이 1일때의 예측 확률을 추출\n",
        "pred_proba_class1 = lr_clf.predict_proba(X_test)[:,1]\n",
        "\n",
        "fprs, tprs, thresholds = roc_curve(y_test, pred_proba_class1)\n",
        "# 반환된 임곗값 배열에서 샘플로 데이터를 추출하되, 임곗값을 5 step으로 추출\n",
        "# thresholds[0]은 max(예측확률)+1로 임의 설정됨. 이를 제외하기 위해 np.arange는 1부터 시작\n",
        "thr_index = np.arange(1, thresholds.shape[0],5)\n",
        "print('샘플 추출을 위한 임곗값 배열의 index:', thr_index)\n",
        "print('샘플 index로 추출한 임곗값:', np.round(thresholds[thr_index],2))\n",
        "\n",
        "# 5 step 단위로 추출된 임계값에 따른 FPR, TPR 값\n",
        "print('샘플 임곗값별 FPR:', np.round(fprs[thr_index],3))\n",
        "print('샘플 임곗값별 TPR:', np.round(tprs[thr_index],3))"
      ],
      "metadata": {
        "colab": {
          "base_uri": "https://localhost:8080/"
        },
        "id": "bDmRODUPcl-8",
        "outputId": "a32f96c3-7404-454d-c80c-b443024ef8d2"
      },
      "execution_count": 134,
      "outputs": [
        {
          "output_type": "stream",
          "name": "stdout",
          "text": [
            "샘플 추출을 위한 임곗값 배열의 index: [ 1  6 11 16 21 26 31 36 41 46]\n",
            "샘플 index로 추출한 임곗값: [0.94 0.73 0.62 0.52 0.44 0.28 0.15 0.14 0.13 0.12]\n",
            "샘플 임곗값별 FPR: [0.    0.008 0.025 0.076 0.127 0.254 0.576 0.61  0.746 0.847]\n",
            "샘플 임곗값별 TPR: [0.016 0.492 0.705 0.738 0.803 0.885 0.902 0.951 0.967 1.   ]\n"
          ]
        }
      ]
    },
    {
      "cell_type": "code",
      "source": [
        "def roc_curve_plot(y_test, pred_proba_c1):\n",
        "  # 임곗값에 따른 FPR, TPR 값을 반환받음.\n",
        "  fprs, tprs, thresholds = roc_curve(y_test, pred_proba_c1)\n",
        "  # ROC 곡선을 그래프 곡선으로 그림.\n",
        "  plt.plot(fprs, tprs, label='ROC')\n",
        "  # 가운데 대각선 직선을 그림.\n",
        "  plt.plot([0,1],[0,1],'k--', label='Random')\n",
        "\n",
        "  # FPR X축의 Scale을 0.1단위로 변경, X,Y축 명 설정 등\n",
        "  start, end = plt.xlim()\n",
        "  plt.xticks(np.round(np.arange(start,end,0.1),2))\n",
        "  plt.xlim(0,1)\n",
        "  plt.ylim(0,1)\n",
        "  plt.xlabel('FPR(1-Specificity)')\n",
        "  plt.ylabel('TPR(Recall)')\n",
        "  plt.legend()\n",
        "\n",
        "roc_curve_plot(y_test, pred_proba[:,1])"
      ],
      "metadata": {
        "colab": {
          "base_uri": "https://localhost:8080/",
          "height": 455
        },
        "id": "NbJFfRgMdQvs",
        "outputId": "63d2fa48-13a6-44ed-b7df-852edf57a7e1"
      },
      "execution_count": 135,
      "outputs": [
        {
          "output_type": "display_data",
          "data": {
            "text/plain": [
              "<Figure size 640x480 with 1 Axes>"
            ],
            "image/png": "[encoded data removed]"
          },
          "metadata": {}
        }
      ]
    },
    {
      "cell_type": "code",
      "source": [
        "from sklearn.metrics import roc_auc_score\n",
        "\n",
        "pred_proba = lr_clf.predict_proba(X_test)[:,1]\n",
        "roc_score = roc_auc_score(y_test, pred_proba)\n",
        "print('ROC AUC 값: {0:.4f}'.format(roc_score))"
      ],
      "metadata": {
        "colab": {
          "base_uri": "https://localhost:8080/"
        },
        "id": "X15gnaJDd7Ia",
        "outputId": "fe50011a-6f2e-4f40-a444-7388b7f2e2cb"
      },
      "execution_count": 136,
      "outputs": [
        {
          "output_type": "stream",
          "name": "stdout",
          "text": [
            "ROC AUC 값: 0.8987\n"
          ]
        }
      ]
    },
    {
      "cell_type": "code",
      "source": [
        "def get_clf_eval(y_test, pred=None, pred_proba=None):\n",
        "  confusion = confusion_matrix(y_test, pred)\n",
        "  accuracy = accuracy_score(y_test, pred)\n",
        "  precision = precision_score(y_test, pred)\n",
        "  recall = recall_score(y_test, pred)\n",
        "  f1 = f1_score(y_test,pred)\n",
        "  # ROC-AUC 추가\n",
        "  roc_auc = roc_auc_score(y_test,pred_proba)\n",
        "  print('오차 행렬')\n",
        "  print(confusion)\n",
        "  # ROC-AUC print 추가\n",
        "  print('정확도:{0:4f},정밀도:{1:.4f}, 재현율: {2:.4f}, F1:{3:.4f}, AUC:{4:4f}'.format(accuracy,precision,recall,f1,roc_auc))"
      ],
      "metadata": {
        "id": "N_n529aOed5Y"
      },
      "execution_count": 137,
      "outputs": []
    },
    {
      "cell_type": "code",
      "source": [
        "import numpy as np\n",
        "import pandas as pd\n",
        "import matplotlib.pyplot as plt\n",
        "%matplotlib inline\n",
        "from sklearn.model_selection import train_test_split\n",
        "from sklearn.metrics import accuracy_score, precision_score, recall_score, roc_auc_score\n",
        "from sklearn.metrics import f1_score, confusion_matrix, precision_recall_curve, roc_curve\n",
        "from sklearn.preprocessing import StandardScaler"
      ],
      "metadata": {
        "id": "HomUCYESimXf"
      },
      "execution_count": 139,
      "outputs": []
    },
    {
      "cell_type": "code",
      "source": [
        "from sklearn.linear_model import LogisticRegression\n",
        "\n",
        "diabetes_data = pd.read_csv('/content/diabetes.csv')\n",
        "print(diabetes_data['Outcome'].value_counts())\n",
        "diabetes_data.head(3)"
      ],
      "metadata": {
        "colab": {
          "base_uri": "https://localhost:8080/",
          "height": 216
        },
        "id": "P8-x9S4gitlj",
        "outputId": "7c40f777-a266-46bc-b0a9-81326e9f0af2"
      },
      "execution_count": 141,
      "outputs": [
        {
          "output_type": "stream",
          "name": "stdout",
          "text": [
            "Outcome\n",
            "0    500\n",
            "1    268\n",
            "Name: count, dtype: int64\n"
          ]
        },
        {
          "output_type": "execute_result",
          "data": {
            "text/plain": [
              "   Pregnancies  Glucose  BloodPressure  SkinThickness  Insulin   BMI  \\\n",
              "0            6      148             72             35        0  33.6   \n",
              "1            1       85             66             29        0  26.6   \n",
              "2            8      183             64              0        0  23.3   \n",
              "\n",
              "   DiabetesPedigreeFunction  Age  Outcome  \n",
              "0                     0.627   50        1  \n",
              "1                     0.351   31        0  \n",
              "2                     0.672   32        1  "
            ],
            "text/html": [
              "\n",
              "  <div id=\"df-8c6e87da-587b-450f-b802-cea264f839a2\" class=\"colab-df-container\">\n",
              "    <div>\n",
              "<style scoped>\n",
              "    .dataframe tbody tr th:only-of-type {\n",
              "        vertical-align: middle;\n",
              "    }\n",
              "\n",
              "    .dataframe tbody tr th {\n",
              "        vertical-align: top;\n",
              "    }\n",
              "\n",
              "    .dataframe thead th {\n",
              "        text-align: right;\n",
              "    }\n",
              "</style>\n",
              "<table border=\"1\" class=\"dataframe\">\n",
              "  <thead>\n",
              "    <tr style=\"text-align: right;\">\n",
              "      <th></th>\n",
              "      <th>Pregnancies</th>\n",
              "      <th>Glucose</th>\n",
              "      <th>BloodPressure</th>\n",
              "      <th>SkinThickness</th>\n",
              "      <th>Insulin</th>\n",
              "      <th>BMI</th>\n",
              "      <th>DiabetesPedigreeFunction</th>\n",
              "      <th>Age</th>\n",
              "      <th>Outcome</th>\n",
              "    </tr>\n",
              "  </thead>\n",
              "  <tbody>\n",
              "    <tr>\n",
              "      <th>0</th>\n",
              "      <td>6</td>\n",
              "      <td>148</td>\n",
              "      <td>72</td>\n",
              "      <td>35</td>\n",
              "      <td>0</td>\n",
              "      <td>33.6</td>\n",
              "      <td>0.627</td>\n",
              "      <td>50</td>\n",
              "      <td>1</td>\n",
              "    </tr>\n",
              "    <tr>\n",
              "      <th>1</th>\n",
              "      <td>1</td>\n",
              "      <td>85</td>\n",
              "      <td>66</td>\n",
              "      <td>29</td>\n",
              "      <td>0</td>\n",
              "      <td>26.6</td>\n",
              "      <td>0.351</td>\n",
              "      <td>31</td>\n",
              "      <td>0</td>\n",
              "    </tr>\n",
              "    <tr>\n",
              "      <th>2</th>\n",
              "      <td>8</td>\n",
              "      <td>183</td>\n",
              "      <td>64</td>\n",
              "      <td>0</td>\n",
              "      <td>0</td>\n",
              "      <td>23.3</td>\n",
              "      <td>0.672</td>\n",
              "      <td>32</td>\n",
              "      <td>1</td>\n",
              "    </tr>\n",
              "  </tbody>\n",
              "</table>\n",
              "</div>\n",
              "    <div class=\"colab-df-buttons\">\n",
              "\n",
              "  <div class=\"colab-df-container\">\n",
              "    <button class=\"colab-df-convert\" onclick=\"convertToInteractive('df-8c6e87da-587b-450f-b802-cea264f839a2')\"\n",
              "            title=\"Convert this dataframe to an interactive table.\"\n",
              "            style=\"display:none;\">\n",
              "\n",
              "  <svg xmlns=\"http://www.w3.org/2000/svg\" height=\"24px\" viewBox=\"0 -960 960 960\">\n",
              "    <path d=\"M120-120v-720h720v720H120Zm60-500h600v-160H180v160Zm220 220h160v-160H400v160Zm0 220h160v-160H400v160ZM180-400h160v-160H180v160Zm440 0h160v-160H620v160ZM180-180h160v-160H180v160Zm440 0h160v-160H620v160Z\"/>\n",
              "  </svg>\n",
              "    </button>\n",
              "\n",
              "  <style>\n",
              "    .colab-df-container {\n",
              "      display:flex;\n",
              "      gap: 12px;\n",
              "    }\n",
              "\n",
              "    .colab-df-convert {\n",
              "      background-color: #E8F0FE;\n",
              "      border: none;\n",
              "      border-radius: 50%;\n",
              "      cursor: pointer;\n",
              "      display: none;\n",
              "      fill: #1967D2;\n",
              "      height: 32px;\n",
              "      padding: 0 0 0 0;\n",
              "      width: 32px;\n",
              "    }\n",
              "\n",
              "    .colab-df-convert:hover {\n",
              "      background-color: #E2EBFA;\n",
              "      box-shadow: 0px 1px 2px rgba(60, 64, 67, 0.3), 0px 1px 3px 1px rgba(60, 64, 67, 0.15);\n",
              "      fill: #174EA6;\n",
              "    }\n",
              "\n",
              "    .colab-df-buttons div {\n",
              "      margin-bottom: 4px;\n",
              "    }\n",
              "\n",
              "    [theme=dark] .colab-df-convert {\n",
              "      background-color: #3B4455;\n",
              "      fill: #D2E3FC;\n",
              "    }\n",
              "\n",
              "    [theme=dark] .colab-df-convert:hover {\n",
              "      background-color: #434B5C;\n",
              "      box-shadow: 0px 1px 3px 1px rgba(0, 0, 0, 0.15);\n",
              "      filter: drop-shadow(0px 1px 2px rgba(0, 0, 0, 0.3));\n",
              "      fill: #FFFFFF;\n",
              "    }\n",
              "  </style>\n",
              "\n",
              "    <script>\n",
              "      const buttonEl =\n",
              "        document.querySelector('#df-8c6e87da-587b-450f-b802-cea264f839a2 button.colab-df-convert');\n",
              "      buttonEl.style.display =\n",
              "        google.colab.kernel.accessAllowed ? 'block' : 'none';\n",
              "\n",
              "      async function convertToInteractive(key) {\n",
              "        const element = document.querySelector('#df-8c6e87da-587b-450f-b802-cea264f839a2');\n",
              "        const dataTable =\n",
              "          await google.colab.kernel.invokeFunction('convertToInteractive',\n",
              "                                                    [key], {});\n",
              "        if (!dataTable) return;\n",
              "\n",
              "        const docLinkHtml = 'Like what you see? Visit the ' +\n",
              "          '<a target=\"_blank\" href=https://colab.research.google.com/notebooks/data_table.ipynb>data table notebook</a>'\n",
              "          + ' to learn more about interactive tables.';\n",
              "        element.innerHTML = '';\n",
              "        dataTable['output_type'] = 'display_data';\n",
              "        await google.colab.output.renderOutput(dataTable, element);\n",
              "        const docLink = document.createElement('div');\n",
              "        docLink.innerHTML = docLinkHtml;\n",
              "        element.appendChild(docLink);\n",
              "      }\n",
              "    </script>\n",
              "  </div>\n",
              "\n",
              "\n",
              "<div id=\"df-3b01a765-4935-4c3e-adbc-7f70ba2d6cd3\">\n",
              "  <button class=\"colab-df-quickchart\" onclick=\"quickchart('df-3b01a765-4935-4c3e-adbc-7f70ba2d6cd3')\"\n",
              "            title=\"Suggest charts\"\n",
              "            style=\"display:none;\">\n",
              "\n",
              "<svg xmlns=\"http://www.w3.org/2000/svg\" height=\"24px\"viewBox=\"0 0 24 24\"\n",
              "     width=\"24px\">\n",
              "    <g>\n",
              "        <path d=\"M19 3H5c-1.1 0-2 .9-2 2v14c0 1.1.9 2 2 2h14c1.1 0 2-.9 2-2V5c0-1.1-.9-2-2-2zM9 17H7v-7h2v7zm4 0h-2V7h2v10zm4 0h-2v-4h2v4z\"/>\n",
              "    </g>\n",
              "</svg>\n",
              "  </button>\n",
              "\n",
              "<style>\n",
              "  .colab-df-quickchart {\n",
              "      --bg-color: #E8F0FE;\n",
              "      --fill-color: #1967D2;\n",
              "      --hover-bg-color: #E2EBFA;\n",
              "      --hover-fill-color: #174EA6;\n",
              "      --disabled-fill-color: #AAA;\n",
              "      --disabled-bg-color: #DDD;\n",
              "  }\n",
              "\n",
              "  [theme=dark] .colab-df-quickchart {\n",
              "      --bg-color: #3B4455;\n",
              "      --fill-color: #D2E3FC;\n",
              "      --hover-bg-color: #434B5C;\n",
              "      --hover-fill-color: #FFFFFF;\n",
              "      --disabled-bg-color: #3B4455;\n",
              "      --disabled-fill-color: #666;\n",
              "  }\n",
              "\n",
              "  .colab-df-quickchart {\n",
              "    background-color: var(--bg-color);\n",
              "    border: none;\n",
              "    border-radius: 50%;\n",
              "    cursor: pointer;\n",
              "    display: none;\n",
              "    fill: var(--fill-color);\n",
              "    height: 32px;\n",
              "    padding: 0;\n",
              "    width: 32px;\n",
              "  }\n",
              "\n",
              "  .colab-df-quickchart:hover {\n",
              "    background-color: var(--hover-bg-color);\n",
              "    box-shadow: 0 1px 2px rgba(60, 64, 67, 0.3), 0 1px 3px 1px rgba(60, 64, 67, 0.15);\n",
              "    fill: var(--button-hover-fill-color);\n",
              "  }\n",
              "\n",
              "  .colab-df-quickchart-complete:disabled,\n",
              "  .colab-df-quickchart-complete:disabled:hover {\n",
              "    background-color: var(--disabled-bg-color);\n",
              "    fill: var(--disabled-fill-color);\n",
              "    box-shadow: none;\n",
              "  }\n",
              "\n",
              "  .colab-df-spinner {\n",
              "    border: 2px solid var(--fill-color);\n",
              "    border-color: transparent;\n",
              "    border-bottom-color: var(--fill-color);\n",
              "    animation:\n",
              "      spin 1s steps(1) infinite;\n",
              "  }\n",
              "\n",
              "  @keyframes spin {\n",
              "    0% {\n",
              "      border-color: transparent;\n",
              "      border-bottom-color: var(--fill-color);\n",
              "      border-left-color: var(--fill-color);\n",
              "    }\n",
              "    20% {\n",
              "      border-color: transparent;\n",
              "      border-left-color: var(--fill-color);\n",
              "      border-top-color: var(--fill-color);\n",
              "    }\n",
              "    30% {\n",
              "      border-color: transparent;\n",
              "      border-left-color: var(--fill-color);\n",
              "      border-top-color: var(--fill-color);\n",
              "      border-right-color: var(--fill-color);\n",
              "    }\n",
              "    40% {\n",
              "      border-color: transparent;\n",
              "      border-right-color: var(--fill-color);\n",
              "      border-top-color: var(--fill-color);\n",
              "    }\n",
              "    60% {\n",
              "      border-color: transparent;\n",
              "      border-right-color: var(--fill-color);\n",
              "    }\n",
              "    80% {\n",
              "      border-color: transparent;\n",
              "      border-right-color: var(--fill-color);\n",
              "      border-bottom-color: var(--fill-color);\n",
              "    }\n",
              "    90% {\n",
              "      border-color: transparent;\n",
              "      border-bottom-color: var(--fill-color);\n",
              "    }\n",
              "  }\n",
              "</style>\n",
              "\n",
              "  <script>\n",
              "    async function quickchart(key) {\n",
              "      const quickchartButtonEl =\n",
              "        document.querySelector('#' + key + ' button');\n",
              "      quickchartButtonEl.disabled = true;  // To prevent multiple clicks.\n",
              "      quickchartButtonEl.classList.add('colab-df-spinner');\n",
              "      try {\n",
              "        const charts = await google.colab.kernel.invokeFunction(\n",
              "            'suggestCharts', [key], {});\n",
              "      } catch (error) {\n",
              "        console.error('Error during call to suggestCharts:', error);\n",
              "      }\n",
              "      quickchartButtonEl.classList.remove('colab-df-spinner');\n",
              "      quickchartButtonEl.classList.add('colab-df-quickchart-complete');\n",
              "    }\n",
              "    (() => {\n",
              "      let quickchartButtonEl =\n",
              "        document.querySelector('#df-3b01a765-4935-4c3e-adbc-7f70ba2d6cd3 button');\n",
              "      quickchartButtonEl.style.display =\n",
              "        google.colab.kernel.accessAllowed ? 'block' : 'none';\n",
              "    })();\n",
              "  </script>\n",
              "</div>\n",
              "\n",
              "    </div>\n",
              "  </div>\n"
            ],
            "application/vnd.google.colaboratory.intrinsic+json": {
              "type": "dataframe",
              "variable_name": "diabetes_data",
              "summary": "{\n  \"name\": \"diabetes_data\",\n  \"rows\": 768,\n  \"fields\": [\n    {\n      \"column\": \"Pregnancies\",\n      \"properties\": {\n        \"dtype\": \"number\",\n        \"std\": 3,\n        \"min\": 0,\n        \"max\": 17,\n        \"num_unique_values\": 17,\n        \"samples\": [\n          6,\n          1,\n          3\n        ],\n        \"semantic_type\": \"\",\n        \"description\": \"\"\n      }\n    },\n    {\n      \"column\": \"Glucose\",\n      \"properties\": {\n        \"dtype\": \"number\",\n        \"std\": 31,\n        \"min\": 0,\n        \"max\": 199,\n        \"num_unique_values\": 136,\n        \"samples\": [\n          151,\n          101,\n          112\n        ],\n        \"semantic_type\": \"\",\n        \"description\": \"\"\n      }\n    },\n    {\n      \"column\": \"BloodPressure\",\n      \"properties\": {\n        \"dtype\": \"number\",\n        \"std\": 19,\n        \"min\": 0,\n        \"max\": 122,\n        \"num_unique_values\": 47,\n        \"samples\": [\n          86,\n          46,\n          85\n        ],\n        \"semantic_type\": \"\",\n        \"description\": \"\"\n      }\n    },\n    {\n      \"column\": \"SkinThickness\",\n      \"properties\": {\n        \"dtype\": \"number\",\n        \"std\": 15,\n        \"min\": 0,\n        \"max\": 99,\n        \"num_unique_values\": 51,\n        \"samples\": [\n          7,\n          12,\n          48\n        ],\n        \"semantic_type\": \"\",\n        \"description\": \"\"\n      }\n    },\n    {\n      \"column\": \"Insulin\",\n      \"properties\": {\n        \"dtype\": \"number\",\n        \"std\": 115,\n        \"min\": 0,\n        \"max\": 846,\n        \"num_unique_values\": 186,\n        \"samples\": [\n          52,\n          41,\n          183\n        ],\n        \"semantic_type\": \"\",\n        \"description\": \"\"\n      }\n    },\n    {\n      \"column\": \"BMI\",\n      \"properties\": {\n        \"dtype\": \"number\",\n        \"std\": 7.8841603203754405,\n        \"min\": 0.0,\n        \"max\": 67.1,\n        \"num_unique_values\": 248,\n        \"samples\": [\n          19.9,\n          31.0,\n          38.1\n        ],\n        \"semantic_type\": \"\",\n        \"description\": \"\"\n      }\n    },\n    {\n      \"column\": \"DiabetesPedigreeFunction\",\n      \"properties\": {\n        \"dtype\": \"number\",\n        \"std\": 0.33132859501277484,\n        \"min\": 0.078,\n        \"max\": 2.42,\n        \"num_unique_values\": 517,\n        \"samples\": [\n          1.731,\n          0.426,\n          0.138\n        ],\n        \"semantic_type\": \"\",\n        \"description\": \"\"\n      }\n    },\n    {\n      \"column\": \"Age\",\n      \"properties\": {\n        \"dtype\": \"number\",\n        \"std\": 11,\n        \"min\": 21,\n        \"max\": 81,\n        \"num_unique_values\": 52,\n        \"samples\": [\n          60,\n          47,\n          72\n        ],\n        \"semantic_type\": \"\",\n        \"description\": \"\"\n      }\n    },\n    {\n      \"column\": \"Outcome\",\n      \"properties\": {\n        \"dtype\": \"number\",\n        \"std\": 0,\n        \"min\": 0,\n        \"max\": 1,\n        \"num_unique_values\": 2,\n        \"samples\": [\n          0,\n          1\n        ],\n        \"semantic_type\": \"\",\n        \"description\": \"\"\n      }\n    }\n  ]\n}"
            }
          },
          "metadata": {},
          "execution_count": 141
        }
      ]
    },
    {
      "cell_type": "code",
      "source": [
        "diabetes_data.info()"
      ],
      "metadata": {
        "colab": {
          "base_uri": "https://localhost:8080/"
        },
        "id": "yt2VleZKjk5t",
        "outputId": "b53147c6-5fe6-4e1d-d607-54b3a469addd"
      },
      "execution_count": 142,
      "outputs": [
        {
          "output_type": "stream",
          "name": "stdout",
          "text": [
            "<class 'pandas.core.frame.DataFrame'>\n",
            "RangeIndex: 768 entries, 0 to 767\n",
            "Data columns (total 9 columns):\n",
            " #   Column                    Non-Null Count  Dtype  \n",
            "---  ------                    --------------  -----  \n",
            " 0   Pregnancies               768 non-null    int64  \n",
            " 1   Glucose                   768 non-null    int64  \n",
            " 2   BloodPressure             768 non-null    int64  \n",
            " 3   SkinThickness             768 non-null    int64  \n",
            " 4   Insulin                   768 non-null    int64  \n",
            " 5   BMI                       768 non-null    float64\n",
            " 6   DiabetesPedigreeFunction  768 non-null    float64\n",
            " 7   Age                       768 non-null    int64  \n",
            " 8   Outcome                   768 non-null    int64  \n",
            "dtypes: float64(2), int64(7)\n",
            "memory usage: 54.1 KB\n"
          ]
        }
      ]
    },
    {
      "cell_type": "code",
      "source": [
        "# 피처 데이터 세트 X, 레이블 데이터 세트 y를 추출.\n",
        "# 맨 끝이 Outcome 칼럼으로 레이블 값임. 칼럼 위치를 -1을 이용해 추출\n",
        "X = diabetes_data.iloc[:,:-1]\n",
        "y = diabetes_data.iloc[:,-1]\n",
        "\n",
        "X_train, X_test, y_train, y_test = train_test_split(X,y,test_size=0.2, random_state=156,stratify=y)\n",
        "\n",
        "# 로지스틱 회귀로 학습, 예측 및 평가 수행.\n",
        "lr_clf = LogisticRegression(solver='liblinear')\n",
        "lr_clf.fit(X_train,y_train)\n",
        "pred = lr_clf.predict(X_test)\n",
        "pred_proba = lr_clf.predict_proba(X_test)[:,1]\n",
        "\n",
        "get_clf_eval(y_test, pred, pred_proba)"
      ],
      "metadata": {
        "colab": {
          "base_uri": "https://localhost:8080/"
        },
        "id": "Ru9Fi2NDjr0o",
        "outputId": "5ffab4ef-1826-4335-8d75-930436079e1d"
      },
      "execution_count": 143,
      "outputs": [
        {
          "output_type": "stream",
          "name": "stdout",
          "text": [
            "오차 행렬\n",
            "[[87 13]\n",
            " [22 32]]\n",
            "정확도:0.772727,정밀도:0.7111, 재현율: 0.5926, F1:0.6465, AUC:0.808333\n"
          ]
        }
      ]
    },
    {
      "cell_type": "code",
      "source": [
        "pred_proba_c1 = lr_clf.predict_proba(X_test)[:,1]\n",
        "precision_recall_curve_plot(y_test, pred_proba_c1)"
      ],
      "metadata": {
        "colab": {
          "base_uri": "https://localhost:8080/",
          "height": 542
        },
        "id": "D4z9AACfkULN",
        "outputId": "6050414f-60c3-402d-ec76-347f5da9dfdf"
      },
      "execution_count": 144,
      "outputs": [
        {
          "output_type": "display_data",
          "data": {
            "text/plain": [
              "<Figure size 800x600 with 1 Axes>"
            ],
            "image/png": "[encoded data removed]"
          },
          "metadata": {}
        }
      ]
    },
    {
      "cell_type": "code",
      "source": [
        "diabetes_data.describe()"
      ],
      "metadata": {
        "colab": {
          "base_uri": "https://localhost:8080/",
          "height": 300
        },
        "id": "xLGvbMuYkZxL",
        "outputId": "b53fc96c-1998-43d6-8cac-cb02c9079049"
      },
      "execution_count": 145,
      "outputs": [
        {
          "output_type": "execute_result",
          "data": {
            "text/plain": [
              "       Pregnancies     Glucose  BloodPressure  SkinThickness     Insulin  \\\n",
              "count   768.000000  768.000000     768.000000     768.000000  768.000000   \n",
              "mean      3.845052  120.894531      69.105469      20.536458   79.799479   \n",
              "std       3.369578   31.972618      19.355807      15.952218  115.244002   \n",
              "min       0.000000    0.000000       0.000000       0.000000    0.000000   \n",
              "25%       1.000000   99.000000      62.000000       0.000000    0.000000   \n",
              "50%       3.000000  117.000000      72.000000      23.000000   30.500000   \n",
              "75%       6.000000  140.250000      80.000000      32.000000  127.250000   \n",
              "max      17.000000  199.000000     122.000000      99.000000  846.000000   \n",
              "\n",
              "              BMI  DiabetesPedigreeFunction         Age     Outcome  \n",
              "count  768.000000                768.000000  768.000000  768.000000  \n",
              "mean    31.992578                  0.471876   33.240885    0.348958  \n",
              "std      7.884160                  0.331329   11.760232    0.476951  \n",
              "min      0.000000                  0.078000   21.000000    0.000000  \n",
              "25%     27.300000                  0.243750   24.000000    0.000000  \n",
              "50%     32.000000                  0.372500   29.000000    0.000000  \n",
              "75%     36.600000                  0.626250   41.000000    1.000000  \n",
              "max     67.100000                  2.420000   81.000000    1.000000  "
            ],
            "text/html": [
              "\n",
              "  <div id=\"df-33f37dfe-be42-4197-a6ee-915edf6204a9\" class=\"colab-df-container\">\n",
              "    <div>\n",
              "<style scoped>\n",
              "    .dataframe tbody tr th:only-of-type {\n",
              "        vertical-align: middle;\n",
              "    }\n",
              "\n",
              "    .dataframe tbody tr th {\n",
              "        vertical-align: top;\n",
              "    }\n",
              "\n",
              "    .dataframe thead th {\n",
              "        text-align: right;\n",
              "    }\n",
              "</style>\n",
              "<table border=\"1\" class=\"dataframe\">\n",
              "  <thead>\n",
              "    <tr style=\"text-align: right;\">\n",
              "      <th></th>\n",
              "      <th>Pregnancies</th>\n",
              "      <th>Glucose</th>\n",
              "      <th>BloodPressure</th>\n",
              "      <th>SkinThickness</th>\n",
              "      <th>Insulin</th>\n",
              "      <th>BMI</th>\n",
              "      <th>DiabetesPedigreeFunction</th>\n",
              "      <th>Age</th>\n",
              "      <th>Outcome</th>\n",
              "    </tr>\n",
              "  </thead>\n",
              "  <tbody>\n",
              "    <tr>\n",
              "      <th>count</th>\n",
              "      <td>768.000000</td>\n",
              "      <td>768.000000</td>\n",
              "      <td>768.000000</td>\n",
              "      <td>768.000000</td>\n",
              "      <td>768.000000</td>\n",
              "      <td>768.000000</td>\n",
              "      <td>768.000000</td>\n",
              "      <td>768.000000</td>\n",
              "      <td>768.000000</td>\n",
              "    </tr>\n",
              "    <tr>\n",
              "      <th>mean</th>\n",
              "      <td>3.845052</td>\n",
              "      <td>120.894531</td>\n",
              "      <td>69.105469</td>\n",
              "      <td>20.536458</td>\n",
              "      <td>79.799479</td>\n",
              "      <td>31.992578</td>\n",
              "      <td>0.471876</td>\n",
              "      <td>33.240885</td>\n",
              "      <td>0.348958</td>\n",
              "    </tr>\n",
              "    <tr>\n",
              "      <th>std</th>\n",
              "      <td>3.369578</td>\n",
              "      <td>31.972618</td>\n",
              "      <td>19.355807</td>\n",
              "      <td>15.952218</td>\n",
              "      <td>115.244002</td>\n",
              "      <td>7.884160</td>\n",
              "      <td>0.331329</td>\n",
              "      <td>11.760232</td>\n",
              "      <td>0.476951</td>\n",
              "    </tr>\n",
              "    <tr>\n",
              "      <th>min</th>\n",
              "      <td>0.000000</td>\n",
              "      <td>0.000000</td>\n",
              "      <td>0.000000</td>\n",
              "      <td>0.000000</td>\n",
              "      <td>0.000000</td>\n",
              "      <td>0.000000</td>\n",
              "      <td>0.078000</td>\n",
              "      <td>21.000000</td>\n",
              "      <td>0.000000</td>\n",
              "    </tr>\n",
              "    <tr>\n",
              "      <th>25%</th>\n",
              "      <td>1.000000</td>\n",
              "      <td>99.000000</td>\n",
              "      <td>62.000000</td>\n",
              "      <td>0.000000</td>\n",
              "      <td>0.000000</td>\n",
              "      <td>27.300000</td>\n",
              "      <td>0.243750</td>\n",
              "      <td>24.000000</td>\n",
              "      <td>0.000000</td>\n",
              "    </tr>\n",
              "    <tr>\n",
              "      <th>50%</th>\n",
              "      <td>3.000000</td>\n",
              "      <td>117.000000</td>\n",
              "      <td>72.000000</td>\n",
              "      <td>23.000000</td>\n",
              "      <td>30.500000</td>\n",
              "      <td>32.000000</td>\n",
              "      <td>0.372500</td>\n",
              "      <td>29.000000</td>\n",
              "      <td>0.000000</td>\n",
              "    </tr>\n",
              "    <tr>\n",
              "      <th>75%</th>\n",
              "      <td>6.000000</td>\n",
              "      <td>140.250000</td>\n",
              "      <td>80.000000</td>\n",
              "      <td>32.000000</td>\n",
              "      <td>127.250000</td>\n",
              "      <td>36.600000</td>\n",
              "      <td>0.626250</td>\n",
              "      <td>41.000000</td>\n",
              "      <td>1.000000</td>\n",
              "    </tr>\n",
              "    <tr>\n",
              "      <th>max</th>\n",
              "      <td>17.000000</td>\n",
              "      <td>199.000000</td>\n",
              "      <td>122.000000</td>\n",
              "      <td>99.000000</td>\n",
              "      <td>846.000000</td>\n",
              "      <td>67.100000</td>\n",
              "      <td>2.420000</td>\n",
              "      <td>81.000000</td>\n",
              "      <td>1.000000</td>\n",
              "    </tr>\n",
              "  </tbody>\n",
              "</table>\n",
              "</div>\n",
              "    <div class=\"colab-df-buttons\">\n",
              "\n",
              "  <div class=\"colab-df-container\">\n",
              "    <button class=\"colab-df-convert\" onclick=\"convertToInteractive('df-33f37dfe-be42-4197-a6ee-915edf6204a9')\"\n",
              "            title=\"Convert this dataframe to an interactive table.\"\n",
              "            style=\"display:none;\">\n",
              "\n",
              "  <svg xmlns=\"http://www.w3.org/2000/svg\" height=\"24px\" viewBox=\"0 -960 960 960\">\n",
              "    <path d=\"M120-120v-720h720v720H120Zm60-500h600v-160H180v160Zm220 220h160v-160H400v160Zm0 220h160v-160H400v160ZM180-400h160v-160H180v160Zm440 0h160v-160H620v160ZM180-180h160v-160H180v160Zm440 0h160v-160H620v160Z\"/>\n",
              "  </svg>\n",
              "    </button>\n",
              "\n",
              "  <style>\n",
              "    .colab-df-container {\n",
              "      display:flex;\n",
              "      gap: 12px;\n",
              "    }\n",
              "\n",
              "    .colab-df-convert {\n",
              "      background-color: #E8F0FE;\n",
              "      border: none;\n",
              "      border-radius: 50%;\n",
              "      cursor: pointer;\n",
              "      display: none;\n",
              "      fill: #1967D2;\n",
              "      height: 32px;\n",
              "      padding: 0 0 0 0;\n",
              "      width: 32px;\n",
              "    }\n",
              "\n",
              "    .colab-df-convert:hover {\n",
              "      background-color: #E2EBFA;\n",
              "      box-shadow: 0px 1px 2px rgba(60, 64, 67, 0.3), 0px 1px 3px 1px rgba(60, 64, 67, 0.15);\n",
              "      fill: #174EA6;\n",
              "    }\n",
              "\n",
              "    .colab-df-buttons div {\n",
              "      margin-bottom: 4px;\n",
              "    }\n",
              "\n",
              "    [theme=dark] .colab-df-convert {\n",
              "      background-color: #3B4455;\n",
              "      fill: #D2E3FC;\n",
              "    }\n",
              "\n",
              "    [theme=dark] .colab-df-convert:hover {\n",
              "      background-color: #434B5C;\n",
              "      box-shadow: 0px 1px 3px 1px rgba(0, 0, 0, 0.15);\n",
              "      filter: drop-shadow(0px 1px 2px rgba(0, 0, 0, 0.3));\n",
              "      fill: #FFFFFF;\n",
              "    }\n",
              "  </style>\n",
              "\n",
              "    <script>\n",
              "      const buttonEl =\n",
              "        document.querySelector('#df-33f37dfe-be42-4197-a6ee-915edf6204a9 button.colab-df-convert');\n",
              "      buttonEl.style.display =\n",
              "        google.colab.kernel.accessAllowed ? 'block' : 'none';\n",
              "\n",
              "      async function convertToInteractive(key) {\n",
              "        const element = document.querySelector('#df-33f37dfe-be42-4197-a6ee-915edf6204a9');\n",
              "        const dataTable =\n",
              "          await google.colab.kernel.invokeFunction('convertToInteractive',\n",
              "                                                    [key], {});\n",
              "        if (!dataTable) return;\n",
              "\n",
              "        const docLinkHtml = 'Like what you see? Visit the ' +\n",
              "          '<a target=\"_blank\" href=https://colab.research.google.com/notebooks/data_table.ipynb>data table notebook</a>'\n",
              "          + ' to learn more about interactive tables.';\n",
              "        element.innerHTML = '';\n",
              "        dataTable['output_type'] = 'display_data';\n",
              "        await google.colab.output.renderOutput(dataTable, element);\n",
              "        const docLink = document.createElement('div');\n",
              "        docLink.innerHTML = docLinkHtml;\n",
              "        element.appendChild(docLink);\n",
              "      }\n",
              "    </script>\n",
              "  </div>\n",
              "\n",
              "\n",
              "<div id=\"df-eb947d71-36fa-49c6-aca2-e59cb65a879a\">\n",
              "  <button class=\"colab-df-quickchart\" onclick=\"quickchart('df-eb947d71-36fa-49c6-aca2-e59cb65a879a')\"\n",
              "            title=\"Suggest charts\"\n",
              "            style=\"display:none;\">\n",
              "\n",
              "<svg xmlns=\"http://www.w3.org/2000/svg\" height=\"24px\"viewBox=\"0 0 24 24\"\n",
              "     width=\"24px\">\n",
              "    <g>\n",
              "        <path d=\"M19 3H5c-1.1 0-2 .9-2 2v14c0 1.1.9 2 2 2h14c1.1 0 2-.9 2-2V5c0-1.1-.9-2-2-2zM9 17H7v-7h2v7zm4 0h-2V7h2v10zm4 0h-2v-4h2v4z\"/>\n",
              "    </g>\n",
              "</svg>\n",
              "  </button>\n",
              "\n",
              "<style>\n",
              "  .colab-df-quickchart {\n",
              "      --bg-color: #E8F0FE;\n",
              "      --fill-color: #1967D2;\n",
              "      --hover-bg-color: #E2EBFA;\n",
              "      --hover-fill-color: #174EA6;\n",
              "      --disabled-fill-color: #AAA;\n",
              "      --disabled-bg-color: #DDD;\n",
              "  }\n",
              "\n",
              "  [theme=dark] .colab-df-quickchart {\n",
              "      --bg-color: #3B4455;\n",
              "      --fill-color: #D2E3FC;\n",
              "      --hover-bg-color: #434B5C;\n",
              "      --hover-fill-color: #FFFFFF;\n",
              "      --disabled-bg-color: #3B4455;\n",
              "      --disabled-fill-color: #666;\n",
              "  }\n",
              "\n",
              "  .colab-df-quickchart {\n",
              "    background-color: var(--bg-color);\n",
              "    border: none;\n",
              "    border-radius: 50%;\n",
              "    cursor: pointer;\n",
              "    display: none;\n",
              "    fill: var(--fill-color);\n",
              "    height: 32px;\n",
              "    padding: 0;\n",
              "    width: 32px;\n",
              "  }\n",
              "\n",
              "  .colab-df-quickchart:hover {\n",
              "    background-color: var(--hover-bg-color);\n",
              "    box-shadow: 0 1px 2px rgba(60, 64, 67, 0.3), 0 1px 3px 1px rgba(60, 64, 67, 0.15);\n",
              "    fill: var(--button-hover-fill-color);\n",
              "  }\n",
              "\n",
              "  .colab-df-quickchart-complete:disabled,\n",
              "  .colab-df-quickchart-complete:disabled:hover {\n",
              "    background-color: var(--disabled-bg-color);\n",
              "    fill: var(--disabled-fill-color);\n",
              "    box-shadow: none;\n",
              "  }\n",
              "\n",
              "  .colab-df-spinner {\n",
              "    border: 2px solid var(--fill-color);\n",
              "    border-color: transparent;\n",
              "    border-bottom-color: var(--fill-color);\n",
              "    animation:\n",
              "      spin 1s steps(1) infinite;\n",
              "  }\n",
              "\n",
              "  @keyframes spin {\n",
              "    0% {\n",
              "      border-color: transparent;\n",
              "      border-bottom-color: var(--fill-color);\n",
              "      border-left-color: var(--fill-color);\n",
              "    }\n",
              "    20% {\n",
              "      border-color: transparent;\n",
              "      border-left-color: var(--fill-color);\n",
              "      border-top-color: var(--fill-color);\n",
              "    }\n",
              "    30% {\n",
              "      border-color: transparent;\n",
              "      border-left-color: var(--fill-color);\n",
              "      border-top-color: var(--fill-color);\n",
              "      border-right-color: var(--fill-color);\n",
              "    }\n",
              "    40% {\n",
              "      border-color: transparent;\n",
              "      border-right-color: var(--fill-color);\n",
              "      border-top-color: var(--fill-color);\n",
              "    }\n",
              "    60% {\n",
              "      border-color: transparent;\n",
              "      border-right-color: var(--fill-color);\n",
              "    }\n",
              "    80% {\n",
              "      border-color: transparent;\n",
              "      border-right-color: var(--fill-color);\n",
              "      border-bottom-color: var(--fill-color);\n",
              "    }\n",
              "    90% {\n",
              "      border-color: transparent;\n",
              "      border-bottom-color: var(--fill-color);\n",
              "    }\n",
              "  }\n",
              "</style>\n",
              "\n",
              "  <script>\n",
              "    async function quickchart(key) {\n",
              "      const quickchartButtonEl =\n",
              "        document.querySelector('#' + key + ' button');\n",
              "      quickchartButtonEl.disabled = true;  // To prevent multiple clicks.\n",
              "      quickchartButtonEl.classList.add('colab-df-spinner');\n",
              "      try {\n",
              "        const charts = await google.colab.kernel.invokeFunction(\n",
              "            'suggestCharts', [key], {});\n",
              "      } catch (error) {\n",
              "        console.error('Error during call to suggestCharts:', error);\n",
              "      }\n",
              "      quickchartButtonEl.classList.remove('colab-df-spinner');\n",
              "      quickchartButtonEl.classList.add('colab-df-quickchart-complete');\n",
              "    }\n",
              "    (() => {\n",
              "      let quickchartButtonEl =\n",
              "        document.querySelector('#df-eb947d71-36fa-49c6-aca2-e59cb65a879a button');\n",
              "      quickchartButtonEl.style.display =\n",
              "        google.colab.kernel.accessAllowed ? 'block' : 'none';\n",
              "    })();\n",
              "  </script>\n",
              "</div>\n",
              "\n",
              "    </div>\n",
              "  </div>\n"
            ],
            "application/vnd.google.colaboratory.intrinsic+json": {
              "type": "dataframe",
              "summary": "{\n  \"name\": \"diabetes_data\",\n  \"rows\": 8,\n  \"fields\": [\n    {\n      \"column\": \"Pregnancies\",\n      \"properties\": {\n        \"dtype\": \"number\",\n        \"std\": 269.85223453356366,\n        \"min\": 0.0,\n        \"max\": 768.0,\n        \"num_unique_values\": 8,\n        \"samples\": [\n          3.8450520833333335,\n          3.0,\n          768.0\n        ],\n        \"semantic_type\": \"\",\n        \"description\": \"\"\n      }\n    },\n    {\n      \"column\": \"Glucose\",\n      \"properties\": {\n        \"dtype\": \"number\",\n        \"std\": 243.73802348295857,\n        \"min\": 0.0,\n        \"max\": 768.0,\n        \"num_unique_values\": 8,\n        \"samples\": [\n          120.89453125,\n          117.0,\n          768.0\n        ],\n        \"semantic_type\": \"\",\n        \"description\": \"\"\n      }\n    },\n    {\n      \"column\": \"BloodPressure\",\n      \"properties\": {\n        \"dtype\": \"number\",\n        \"std\": 252.85250535810619,\n        \"min\": 0.0,\n        \"max\": 768.0,\n        \"num_unique_values\": 8,\n        \"samples\": [\n          69.10546875,\n          72.0,\n          768.0\n        ],\n        \"semantic_type\": \"\",\n        \"description\": \"\"\n      }\n    },\n    {\n      \"column\": \"SkinThickness\",\n      \"properties\": {\n        \"dtype\": \"number\",\n        \"std\": 263.7684730531098,\n        \"min\": 0.0,\n        \"max\": 768.0,\n        \"num_unique_values\": 7,\n        \"samples\": [\n          768.0,\n          20.536458333333332,\n          32.0\n        ],\n        \"semantic_type\": \"\",\n        \"description\": \"\"\n      }\n    },\n    {\n      \"column\": \"Insulin\",\n      \"properties\": {\n        \"dtype\": \"number\",\n        \"std\": 350.26059167945886,\n        \"min\": 0.0,\n        \"max\": 846.0,\n        \"num_unique_values\": 7,\n        \"samples\": [\n          768.0,\n          79.79947916666667,\n          127.25\n        ],\n        \"semantic_type\": \"\",\n        \"description\": \"\"\n      }\n    },\n    {\n      \"column\": \"BMI\",\n      \"properties\": {\n        \"dtype\": \"number\",\n        \"std\": 262.05117817552093,\n        \"min\": 0.0,\n        \"max\": 768.0,\n        \"num_unique_values\": 8,\n        \"samples\": [\n          31.992578124999998,\n          32.0,\n          768.0\n        ],\n        \"semantic_type\": \"\",\n        \"description\": \"\"\n      }\n    },\n    {\n      \"column\": \"DiabetesPedigreeFunction\",\n      \"properties\": {\n        \"dtype\": \"number\",\n        \"std\": 271.3005221658502,\n        \"min\": 0.078,\n        \"max\": 768.0,\n        \"num_unique_values\": 8,\n        \"samples\": [\n          0.47187630208333325,\n          0.3725,\n          768.0\n        ],\n        \"semantic_type\": \"\",\n        \"description\": \"\"\n      }\n    },\n    {\n      \"column\": \"Age\",\n      \"properties\": {\n        \"dtype\": \"number\",\n        \"std\": 260.1941178528413,\n        \"min\": 11.76023154067868,\n        \"max\": 768.0,\n        \"num_unique_values\": 8,\n        \"samples\": [\n          33.240885416666664,\n          29.0,\n          768.0\n        ],\n        \"semantic_type\": \"\",\n        \"description\": \"\"\n      }\n    },\n    {\n      \"column\": \"Outcome\",\n      \"properties\": {\n        \"dtype\": \"number\",\n        \"std\": 271.3865920388932,\n        \"min\": 0.0,\n        \"max\": 768.0,\n        \"num_unique_values\": 5,\n        \"samples\": [\n          0.3489583333333333,\n          1.0,\n          0.4769513772427971\n        ],\n        \"semantic_type\": \"\",\n        \"description\": \"\"\n      }\n    }\n  ]\n}"
            }
          },
          "metadata": {},
          "execution_count": 145
        }
      ]
    },
    {
      "cell_type": "code",
      "source": [
        "plt.hist(diabetes_data['Glucose'], bins=100)\n",
        "plt.show()"
      ],
      "metadata": {
        "colab": {
          "base_uri": "https://localhost:8080/",
          "height": 430
        },
        "id": "gV5HN6qGkd1y",
        "outputId": "85427da2-362f-4894-9a51-f300efa5745d"
      },
      "execution_count": 146,
      "outputs": [
        {
          "output_type": "display_data",
          "data": {
            "text/plain": [
              "<Figure size 640x480 with 1 Axes>"
            ],
            "image/png": "[encoded data removed]"
          },
          "metadata": {}
        }
      ]
    },
    {
      "cell_type": "code",
      "source": [
        "# 0값을 검사할 피처명 리스트\n",
        "zero_features = ['Glucose','BloodPressure','SkinThickness','Insulin','BMI']\n",
        "\n",
        "# 전체 데이터 건수\n",
        "total_count = diabetes_data['Glucose'].count()\n",
        "\n",
        "# 피처별로 반복하면서 데이터 값이 0인 데이터 건수를 추출하고, 퍼센트 계산\n",
        "for feature in zero_features:\n",
        "  zero_count = diabetes_data[diabetes_data[feature]==0][feature].count()\n",
        "  print('{0} 0 건수는 {1}, 퍼센트 {2:.2f}%'.format(feature, zero_count,\n",
        "                                             100*zero_count/total_count))"
      ],
      "metadata": {
        "colab": {
          "base_uri": "https://localhost:8080/"
        },
        "id": "tM-t29J1kkko",
        "outputId": "26a43071-55e6-41b0-f010-ba1bf2401f3c"
      },
      "execution_count": 147,
      "outputs": [
        {
          "output_type": "stream",
          "name": "stdout",
          "text": [
            "Glucose 0 건수는 5, 퍼센트 0.65%\n",
            "BloodPressure 0 건수는 35, 퍼센트 4.56%\n",
            "SkinThickness 0 건수는 227, 퍼센트 29.56%\n",
            "Insulin 0 건수는 374, 퍼센트 48.70%\n",
            "BMI 0 건수는 11, 퍼센트 1.43%\n"
          ]
        }
      ]
    },
    {
      "cell_type": "code",
      "source": [
        "# zero_features 리스트 내부에 저장된 개별 피처들에 대해서 0값을 평균 값으로 대체\n",
        "mean_zero_features = diabetes_data[zero_features].mean()\n",
        "diabetes_data[zero_features] = diabetes_data[zero_features].replace(0,mean_zero_features)"
      ],
      "metadata": {
        "id": "ibi2wS24lFf0"
      },
      "execution_count": 148,
      "outputs": []
    },
    {
      "cell_type": "code",
      "source": [
        "X = diabetes_data.iloc[:,:-1]\n",
        "y = diabetes_data.iloc[:,-1]\n",
        "\n",
        "# StandardScaler 클래스를 이용해 피처 데이터 세트에 일괄적으로 스케일링 적용\n",
        "scaler = StandardScaler()\n",
        "X_scaled = scaler.fit_transform(X)\n",
        "\n",
        "X_train, X_test, y_train, y_test = train_test_split(X_scaled, y, test_size=0.2, random_state=156, stratify=y)\n",
        "\n",
        "# 로지스틱 회귀로 학습, 예측 및 평가 수행\n",
        "lr_clf = LogisticRegression()\n",
        "lr_clf.fit(X_train,y_train)\n",
        "pred = lr_clf.predict(X_test)\n",
        "pred_proba = lr_clf.predict_proba(X_test)[:,1]\n",
        "\n",
        "get_clf_eval(y_test,pred,pred_proba)"
      ],
      "metadata": {
        "colab": {
          "base_uri": "https://localhost:8080/"
        },
        "id": "WWpMColjlPSK",
        "outputId": "9672ed9f-258f-41a7-9f55-2467cff55ce9"
      },
      "execution_count": 149,
      "outputs": [
        {
          "output_type": "stream",
          "name": "stdout",
          "text": [
            "오차 행렬\n",
            "[[90 10]\n",
            " [21 33]]\n",
            "정확도:0.798701,정밀도:0.7674, 재현율: 0.6111, F1:0.6804, AUC:0.843333\n"
          ]
        }
      ]
    },
    {
      "cell_type": "code",
      "source": [
        "def get_eval_by_threshold(y_test, pred_proba_c1, thresholds):\n",
        "    for custom_threshold in thresholds:\n",
        "        binarizer = Binarizer(threshold=custom_threshold).fit(pred_proba_c1)\n",
        "        custom_predict = binarizer.transform(pred_proba_c1)\n",
        "        print('임곗값:', custom_threshold)\n",
        "        get_clf_eval(y_test, pred=custom_predict, pred_proba=pred_proba_c1)"
      ],
      "metadata": {
        "id": "csc-BpiGsaut"
      },
      "execution_count": 154,
      "outputs": []
    },
    {
      "cell_type": "code",
      "source": [
        "thresholds = [0.3,0.33,0.36,0.39,0.42,0.45,0.48,0.50]\n",
        "pred_proba = lr_clf.predict_proba(X_test)\n",
        "get_eval_by_threshold(y_test, pred_proba[:,1].reshape(-1,1), thresholds)"
      ],
      "metadata": {
        "colab": {
          "base_uri": "https://localhost:8080/"
        },
        "id": "TdLermlEoCrd",
        "outputId": "df95840c-037a-4d08-9627-7c4c9eeb9e9d"
      },
      "execution_count": 155,
      "outputs": [
        {
          "output_type": "stream",
          "name": "stdout",
          "text": [
            "임곗값: 0.3\n",
            "오차 행렬\n",
            "[[67 33]\n",
            " [11 43]]\n",
            "정확도:0.714286,정밀도:0.5658, 재현율: 0.7963, F1:0.6615, AUC:0.843333\n",
            "임곗값: 0.33\n",
            "오차 행렬\n",
            "[[72 28]\n",
            " [12 42]]\n",
            "정확도:0.740260,정밀도:0.6000, 재현율: 0.7778, F1:0.6774, AUC:0.843333\n",
            "임곗값: 0.36\n",
            "오차 행렬\n",
            "[[76 24]\n",
            " [15 39]]\n",
            "정확도:0.746753,정밀도:0.6190, 재현율: 0.7222, F1:0.6667, AUC:0.843333\n",
            "임곗값: 0.39\n",
            "오차 행렬\n",
            "[[78 22]\n",
            " [16 38]]\n",
            "정확도:0.753247,정밀도:0.6333, 재현율: 0.7037, F1:0.6667, AUC:0.843333\n",
            "임곗값: 0.42\n",
            "오차 행렬\n",
            "[[84 16]\n",
            " [18 36]]\n",
            "정확도:0.779221,정밀도:0.6923, 재현율: 0.6667, F1:0.6792, AUC:0.843333\n",
            "임곗값: 0.45\n",
            "오차 행렬\n",
            "[[85 15]\n",
            " [18 36]]\n",
            "정확도:0.785714,정밀도:0.7059, 재현율: 0.6667, F1:0.6857, AUC:0.843333\n",
            "임곗값: 0.48\n",
            "오차 행렬\n",
            "[[88 12]\n",
            " [19 35]]\n",
            "정확도:0.798701,정밀도:0.7447, 재현율: 0.6481, F1:0.6931, AUC:0.843333\n",
            "임곗값: 0.5\n",
            "오차 행렬\n",
            "[[90 10]\n",
            " [21 33]]\n",
            "정확도:0.798701,정밀도:0.7674, 재현율: 0.6111, F1:0.6804, AUC:0.843333\n"
          ]
        }
      ]
    },
    {
      "cell_type": "code",
      "source": [
        "# 임곗값을 0.48로 설정한 Binarizer 생성\n",
        "binarizer = Binarizer(threshold=0.48)\n",
        "\n",
        "# 위에서 구한 lr_clf의 predict_proba() 예측 확률 array에서 1에 해당하는 칼럼값을 Binarizer 변환.\n",
        "pred_th_048 = binarizer.fit_transform(pred_proba[:, 1].reshape(-1, 1))\n",
        "get_clf_eval(y_test, pred_th_048, pred_proba[:, 1])"
      ],
      "metadata": {
        "colab": {
          "base_uri": "https://localhost:8080/"
        },
        "id": "l7jCwbg7m6Im",
        "outputId": "a5db9fe0-b9b0-47ca-f170-1bc75664f51a"
      },
      "execution_count": 156,
      "outputs": [
        {
          "output_type": "stream",
          "name": "stdout",
          "text": [
            "오차 행렬\n",
            "[[88 12]\n",
            " [19 35]]\n",
            "정확도:0.798701,정밀도:0.7447, 재현율: 0.6481, F1:0.6931, AUC:0.843333\n"
          ]
        }
      ]
    }
  ]
}