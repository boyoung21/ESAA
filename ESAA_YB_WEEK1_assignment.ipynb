{
  "nbformat": 4,
  "nbformat_minor": 5,
  "metadata": {
    "colab": {
      "provenance": []
    },
    "language_info": {
      "name": "python"
    },
    "kernelspec": {
      "name": "python3",
      "display_name": "Python 3"
    }
  },
  "cells": [
    {
      "cell_type": "markdown",
      "metadata": {
        "id": "bf79c78b"
      },
      "source": [
        "# Numpy exercises\n",
        "\n",
        "This is a collection of exercises that have been collected in the numpy mailing list, on stack overflow\n",
        "and in the numpy documentation. The goal of this collection is to offer a quick reference for both old\n",
        "and new users but also to provide a set of exercises for those who teach.\n",
        "\n",
        "\n",
        "If you find an error or think you've a better way to solve some of them, feel\n",
        "free to open an issue at <https://github.com/rougier/numpy-100>."
      ],
      "id": "bf79c78b"
    },
    {
      "cell_type": "markdown",
      "metadata": {
        "id": "8536e059"
      },
      "source": [
        "File automatically generated. See the documentation to update questions/answers/hints programmatically."
      ],
      "id": "8536e059"
    },
    {
      "cell_type": "markdown",
      "metadata": {
        "id": "017db353"
      },
      "source": [
        "#### 1. Import the numpy package under the name `np` (★☆☆)"
      ],
      "id": "017db353"
    },
    {
      "cell_type": "code",
      "metadata": {
        "id": "68182a76"
      },
      "source": [
        "import numpy as np"
      ],
      "id": "68182a76",
      "execution_count": null,
      "outputs": []
    },
    {
      "cell_type": "markdown",
      "metadata": {
        "id": "46950f4f"
      },
      "source": [
        "#### 2. Print the numpy version and the configuration (★☆☆)"
      ],
      "id": "46950f4f"
    },
    {
      "cell_type": "code",
      "source": [
        "print(np.__version__)\n",
        "print(np.show_config())"
      ],
      "metadata": {
        "id": "T2NNljuPNL8z",
        "colab": {
          "base_uri": "https://localhost:8080/"
        },
        "outputId": "8f8fb10a-f646-4279-d6ca-289da55cb217"
      },
      "id": "T2NNljuPNL8z",
      "execution_count": null,
      "outputs": [
        {
          "output_type": "stream",
          "name": "stdout",
          "text": [
            "1.26.4\n",
            "Build Dependencies:\n",
            "  blas:\n",
            "    detection method: pkgconfig\n",
            "    found: true\n",
            "    include directory: /usr/local/include\n",
            "    lib directory: /usr/local/lib\n",
            "    name: openblas64\n",
            "    openblas configuration: USE_64BITINT=1 DYNAMIC_ARCH=1 DYNAMIC_OLDER= NO_CBLAS=\n",
            "      NO_LAPACK= NO_LAPACKE= NO_AFFINITY=1 USE_OPENMP= HASWELL MAX_THREADS=2\n",
            "    pc file directory: /usr/local/lib/pkgconfig\n",
            "    version: 0.3.23.dev\n",
            "  lapack:\n",
            "    detection method: internal\n",
            "    found: true\n",
            "    include directory: unknown\n",
            "    lib directory: unknown\n",
            "    name: dep140213194937296\n",
            "    openblas configuration: unknown\n",
            "    pc file directory: unknown\n",
            "    version: 1.26.4\n",
            "Compilers:\n",
            "  c:\n",
            "    args: -fno-strict-aliasing\n",
            "    commands: cc\n",
            "    linker: ld.bfd\n",
            "    linker args: -Wl,--strip-debug, -fno-strict-aliasing\n",
            "    name: gcc\n",
            "    version: 10.2.1\n",
            "  c++:\n",
            "    commands: c++\n",
            "    linker: ld.bfd\n",
            "    linker args: -Wl,--strip-debug\n",
            "    name: gcc\n",
            "    version: 10.2.1\n",
            "  cython:\n",
            "    commands: cython\n",
            "    linker: cython\n",
            "    name: cython\n",
            "    version: 3.0.8\n",
            "Machine Information:\n",
            "  build:\n",
            "    cpu: x86_64\n",
            "    endian: little\n",
            "    family: x86_64\n",
            "    system: linux\n",
            "  host:\n",
            "    cpu: x86_64\n",
            "    endian: little\n",
            "    family: x86_64\n",
            "    system: linux\n",
            "Python Information:\n",
            "  path: /opt/python/cp311-cp311/bin/python\n",
            "  version: '3.11'\n",
            "SIMD Extensions:\n",
            "  baseline:\n",
            "  - SSE\n",
            "  - SSE2\n",
            "  - SSE3\n",
            "  found:\n",
            "  - SSSE3\n",
            "  - SSE41\n",
            "  - POPCNT\n",
            "  - SSE42\n",
            "  - AVX\n",
            "  - F16C\n",
            "  - FMA3\n",
            "  - AVX2\n",
            "  not found:\n",
            "  - AVX512F\n",
            "  - AVX512CD\n",
            "  - AVX512_KNL\n",
            "  - AVX512_KNM\n",
            "  - AVX512_SKX\n",
            "  - AVX512_CLX\n",
            "  - AVX512_CNL\n",
            "  - AVX512_ICL\n",
            "\n",
            "None\n"
          ]
        }
      ]
    },
    {
      "cell_type": "markdown",
      "metadata": {
        "id": "e3c20b3d"
      },
      "source": [
        "#### 3. Create a null vector of size 10 (★☆☆)"
      ],
      "id": "e3c20b3d"
    },
    {
      "cell_type": "code",
      "metadata": {
        "id": "8a758bcf",
        "colab": {
          "base_uri": "https://localhost:8080/"
        },
        "outputId": "7029afb2-dab2-4d38-d97b-261051ee9a90"
      },
      "source": [
        "null_vector = np.zeros(10)\n",
        "print(null_vector)"
      ],
      "id": "8a758bcf",
      "execution_count": null,
      "outputs": [
        {
          "output_type": "stream",
          "name": "stdout",
          "text": [
            "[0. 0. 0. 0. 0. 0. 0. 0. 0. 0.]\n"
          ]
        }
      ]
    },
    {
      "cell_type": "markdown",
      "metadata": {
        "id": "b15a879f"
      },
      "source": [
        "#### 4. How to find the memory size of any array (★☆☆)"
      ],
      "id": "b15a879f"
    },
    {
      "cell_type": "code",
      "metadata": {
        "id": "1cc3cbc5",
        "colab": {
          "base_uri": "https://localhost:8080/"
        },
        "outputId": "ede3d0d3-079e-4b78-ac99-0102041bfab0"
      },
      "source": [
        "array1 = np.arange(10)\n",
        "print(array1.nbytes)"
      ],
      "id": "1cc3cbc5",
      "execution_count": null,
      "outputs": [
        {
          "output_type": "stream",
          "name": "stdout",
          "text": [
            "80\n"
          ]
        }
      ]
    },
    {
      "cell_type": "markdown",
      "metadata": {
        "id": "0b16cd77"
      },
      "source": [
        "#### 5. Create a null vector of size 10 but the fifth value which is 1 (★☆☆)"
      ],
      "id": "0b16cd77"
    },
    {
      "cell_type": "code",
      "metadata": {
        "id": "4d9b5975",
        "colab": {
          "base_uri": "https://localhost:8080/"
        },
        "outputId": "015aff41-b4f8-459e-9e2d-b5f6c926f53b"
      },
      "source": [
        "null2 = np.zeros(10)\n",
        "null2[4] = 1\n",
        "print(null2)"
      ],
      "id": "4d9b5975",
      "execution_count": null,
      "outputs": [
        {
          "output_type": "stream",
          "name": "stdout",
          "text": [
            "[0. 0. 0. 0. 1. 0. 0. 0. 0. 0.]\n"
          ]
        }
      ]
    },
    {
      "cell_type": "markdown",
      "metadata": {
        "id": "782d4c77"
      },
      "source": [
        "#### 6. Create a vector with values ranging from 10 to 49 (★☆☆)"
      ],
      "id": "782d4c77"
    },
    {
      "cell_type": "code",
      "metadata": {
        "id": "5dbe1a08",
        "colab": {
          "base_uri": "https://localhost:8080/"
        },
        "outputId": "540460f7-a802-4605-db9f-3d57b20d875c"
      },
      "source": [
        "array2 = np.arange(50)\n",
        "print(array2[10:50])"
      ],
      "id": "5dbe1a08",
      "execution_count": null,
      "outputs": [
        {
          "output_type": "stream",
          "name": "stdout",
          "text": [
            "[10 11 12 13 14 15 16 17 18 19 20 21 22 23 24 25 26 27 28 29 30 31 32 33\n",
            " 34 35 36 37 38 39 40 41 42 43 44 45 46 47 48 49]\n"
          ]
        }
      ]
    },
    {
      "cell_type": "markdown",
      "metadata": {
        "id": "48d48f01"
      },
      "source": [
        "#### 7. Reverse a vector (first element becomes last) (★☆☆)"
      ],
      "id": "48d48f01"
    },
    {
      "cell_type": "code",
      "metadata": {
        "id": "3ed233e7",
        "colab": {
          "base_uri": "https://localhost:8080/"
        },
        "outputId": "eff25f24-fc5d-42d8-cc3c-aa4e5da54c84"
      },
      "source": [
        "array2_desc = np.sort(array2[10:50])[::-1]\n",
        "print(array2_desc)"
      ],
      "id": "3ed233e7",
      "execution_count": null,
      "outputs": [
        {
          "output_type": "stream",
          "name": "stdout",
          "text": [
            "[49 48 47 46 45 44 43 42 41 40 39 38 37 36 35 34 33 32 31 30 29 28 27 26\n",
            " 25 24 23 22 21 20 19 18 17 16 15 14 13 12 11 10]\n"
          ]
        }
      ]
    },
    {
      "cell_type": "markdown",
      "metadata": {
        "id": "4fa39382"
      },
      "source": [
        "#### 8. Create a 3x3 matrix with values ranging from 0 to 8 (★☆☆)"
      ],
      "id": "4fa39382"
    },
    {
      "cell_type": "code",
      "metadata": {
        "id": "c97757ec",
        "colab": {
          "base_uri": "https://localhost:8080/"
        },
        "outputId": "fbd7df79-40cf-4c61-ab02-b779f3cf7b0a"
      },
      "source": [
        "array3 = np.arange(9)\n",
        "print(array3.reshape(3, 3))"
      ],
      "id": "c97757ec",
      "execution_count": null,
      "outputs": [
        {
          "output_type": "stream",
          "name": "stdout",
          "text": [
            "[[0 1 2]\n",
            " [3 4 5]\n",
            " [6 7 8]]\n"
          ]
        }
      ]
    },
    {
      "cell_type": "markdown",
      "metadata": {
        "id": "da64551a"
      },
      "source": [
        "#### 9. Find indices of non-zero elements from [1,2,0,0,4,0] (★☆☆)"
      ],
      "id": "da64551a"
    },
    {
      "cell_type": "code",
      "metadata": {
        "id": "327f7adb",
        "colab": {
          "base_uri": "https://localhost:8080/"
        },
        "outputId": "4ae8894b-e66d-4469-8b2a-fea41dcde3e5"
      },
      "source": [
        "array4 = np.array([1, 2, 0, 0, 4, 0])\n",
        "indices = np.arange(len(array4))\n",
        "\n",
        "print(indices[array4 != 0])"
      ],
      "id": "327f7adb",
      "execution_count": null,
      "outputs": [
        {
          "output_type": "stream",
          "name": "stdout",
          "text": [
            "[0 1 4]\n"
          ]
        }
      ]
    },
    {
      "cell_type": "markdown",
      "metadata": {
        "id": "f89d9c9e"
      },
      "source": [
        "#### 10. Create a 3x3 identity matrix (★☆☆)\n",
        "Hint : identity & eye, try to use 'help' to learn how to use two functions of numpy"
      ],
      "id": "f89d9c9e"
    },
    {
      "cell_type": "code",
      "source": [
        "I_matrix = np.identity(3)\n",
        "print(I_matrix)"
      ],
      "metadata": {
        "id": "fQFB1sJ8Q8cj",
        "colab": {
          "base_uri": "https://localhost:8080/"
        },
        "outputId": "bb23205e-fc2a-403e-d566-0d01f7d6728f"
      },
      "id": "fQFB1sJ8Q8cj",
      "execution_count": null,
      "outputs": [
        {
          "output_type": "stream",
          "name": "stdout",
          "text": [
            "[[1. 0. 0.]\n",
            " [0. 1. 0.]\n",
            " [0. 0. 1.]]\n"
          ]
        }
      ]
    },
    {
      "cell_type": "markdown",
      "metadata": {
        "id": "7e44c6fa"
      },
      "source": [
        "#### 11. Create a 3x3x3 array with random values (★☆☆)\n",
        "Hint : numpy.random.random"
      ],
      "id": "7e44c6fa"
    },
    {
      "cell_type": "code",
      "metadata": {
        "id": "1cb3dddf",
        "colab": {
          "base_uri": "https://localhost:8080/"
        },
        "outputId": "88692d54-4065-461b-d273-f0b5f30d2818"
      },
      "source": [
        "random_arr = np.random.random((3, 3, 3))\n",
        "print(random_arr)"
      ],
      "id": "1cb3dddf",
      "execution_count": null,
      "outputs": [
        {
          "output_type": "stream",
          "name": "stdout",
          "text": [
            "[[[0.01314671 0.96169425 0.47154907]\n",
            "  [0.04777003 0.82404656 0.99573244]\n",
            "  [0.45633716 0.48065988 0.11228716]]\n",
            "\n",
            " [[0.67535785 0.80131537 0.78855467]\n",
            "  [0.95521604 0.16174466 0.35119779]\n",
            "  [0.34868775 0.10510312 0.66563493]]\n",
            "\n",
            " [[0.4460362  0.87378365 0.64269587]\n",
            "  [0.80161742 0.54022802 0.0520566 ]\n",
            "  [0.53190474 0.54073401 0.56903319]]]\n"
          ]
        }
      ]
    },
    {
      "cell_type": "markdown",
      "metadata": {
        "id": "13c5928c"
      },
      "source": [
        "#### 12. Create a 10x10 array with random values and find the **min**imum and **max**imum values (★☆☆)"
      ],
      "id": "13c5928c"
    },
    {
      "cell_type": "code",
      "metadata": {
        "id": "911c9b93",
        "colab": {
          "base_uri": "https://localhost:8080/"
        },
        "outputId": "2a5871eb-0cbe-40dd-9353-6fc48d6f7a86"
      },
      "source": [
        "random_arr2 = np.random.random((10, 10))\n",
        "print(random_arr2)\n",
        "print(\"max:\", np.max(random_arr2), \"min:\", np.min(random_arr2))"
      ],
      "id": "911c9b93",
      "execution_count": null,
      "outputs": [
        {
          "output_type": "stream",
          "name": "stdout",
          "text": [
            "[[0.0069717  0.11043789 0.79063749 0.38918719 0.19487282 0.75170898\n",
            "  0.24820183 0.15939248 0.9698194  0.76685635]\n",
            " [0.01583924 0.4169108  0.03357189 0.69775352 0.76041246 0.46969353\n",
            "  0.06538565 0.65976626 0.17166646 0.11612184]\n",
            " [0.63585537 0.79139911 0.61721738 0.94836578 0.79707043 0.78357521\n",
            "  0.38997542 0.3650171  0.00991749 0.25061115]\n",
            " [0.89220743 0.87655777 0.32599031 0.27925804 0.51326845 0.39321722\n",
            "  0.54129118 0.28409556 0.21994469 0.72310532]\n",
            " [0.23734156 0.30884072 0.1865372  0.38773673 0.98754835 0.02309363\n",
            "  0.50677216 0.07847039 0.07878606 0.73761648]\n",
            " [0.15319031 0.18029947 0.8252434  0.92605602 0.42482132 0.352847\n",
            "  0.69380369 0.69803729 0.28702553 0.2325934 ]\n",
            " [0.900688   0.20256114 0.54228687 0.7211966  0.54907255 0.67463801\n",
            "  0.89216453 0.61908487 0.24218631 0.93440461]\n",
            " [0.53956728 0.64990584 0.71568119 0.85249846 0.20991984 0.79166695\n",
            "  0.57258491 0.68482    0.97089095 0.70389633]\n",
            " [0.41150723 0.64586823 0.57847364 0.75704443 0.16919386 0.23156814\n",
            "  0.32006933 0.90778769 0.10577678 0.95976214]\n",
            " [0.60507946 0.63590222 0.53451539 0.89118867 0.05982338 0.71272562\n",
            "  0.13481436 0.26483205 0.97337162 0.95461526]]\n",
            "max: 0.9875483479443931 min: 0.006971701797505281\n"
          ]
        }
      ]
    },
    {
      "cell_type": "markdown",
      "metadata": {
        "id": "3fa2e461"
      },
      "source": [
        "#### 13. Create a random vector of size 30 and find the **mean** value (★☆☆)"
      ],
      "id": "3fa2e461"
    },
    {
      "cell_type": "code",
      "metadata": {
        "id": "323eb38a",
        "colab": {
          "base_uri": "https://localhost:8080/"
        },
        "outputId": "e0382a7b-3121-48fb-c3a8-30d9148aece0"
      },
      "source": [
        "random_arr3 = np.random.random(30)\n",
        "print(random_arr3)\n",
        "print(\"mean:\", np.mean(random_arr3))"
      ],
      "id": "323eb38a",
      "execution_count": null,
      "outputs": [
        {
          "output_type": "stream",
          "name": "stdout",
          "text": [
            "[0.70569945 0.13511018 0.18152387 0.33748475 0.7223592  0.13046329\n",
            " 0.49792468 0.02601718 0.25678609 0.88780984 0.878644   0.68216022\n",
            " 0.79199622 0.32688094 0.29315147 0.91480219 0.35831818 0.44340159\n",
            " 0.90471633 0.31151236 0.26941785 0.80620721 0.59044779 0.75655087\n",
            " 0.36624823 0.3516328  0.30582407 0.16150129 0.97061808 0.08042832]\n",
            "mean: 0.48152128456436183\n"
          ]
        }
      ]
    },
    {
      "cell_type": "markdown",
      "metadata": {
        "id": "73f7a549"
      },
      "source": [
        "#### 14. Create a 2d array with 1 on the border and 0 inside (★☆☆)"
      ],
      "id": "73f7a549"
    },
    {
      "cell_type": "code",
      "source": [
        "array5 = np.zeros((5, 5), dtype=int)\n",
        "\n",
        "array5[0, :] = 1\n",
        "array5[-1, :] = 1\n",
        "array5[:, 0] = 1\n",
        "array5[:, -1] = 1\n",
        "\n",
        "print(array5)"
      ],
      "metadata": {
        "id": "NF8T5OETM32i",
        "colab": {
          "base_uri": "https://localhost:8080/"
        },
        "outputId": "df87eadd-62d9-464c-eae8-3c4d0c03e67b"
      },
      "id": "NF8T5OETM32i",
      "execution_count": null,
      "outputs": [
        {
          "output_type": "stream",
          "name": "stdout",
          "text": [
            "[[1 1 1 1 1]\n",
            " [1 0 0 0 1]\n",
            " [1 0 0 0 1]\n",
            " [1 0 0 0 1]\n",
            " [1 1 1 1 1]]\n"
          ]
        }
      ]
    },
    {
      "cell_type": "markdown",
      "metadata": {
        "id": "d6ad1a9f"
      },
      "source": [
        "#### 15. What is the result of the following expression? (★☆☆)\n",
        "```python\n",
        "0 * np.nan\n",
        "np.nan == np.nan\n",
        "np.inf > np.nan\n",
        "np.nan - np.nan\n",
        "np.nan in set([np.nan])\n",
        "0.3 == 3 * 0.1\n",
        "```"
      ],
      "id": "d6ad1a9f"
    },
    {
      "cell_type": "markdown",
      "source": [
        "nan, False, False, nan, True, True"
      ],
      "metadata": {
        "id": "D1R9AmCGQrgn"
      },
      "id": "D1R9AmCGQrgn"
    },
    {
      "cell_type": "markdown",
      "source": [
        "nan은 계산 결과를 예측할 수 없는 특수한 값을 의미한다.\n",
        "따라서 0을 곱하는 것을 포함해 어떤 사칙연산을 해도 nan이 유지되며, nan이라고 해도 모두 같은 값을 의미하지 않는다. 또한 비교할 수 없으므로 항상 false의 결과가 나오기 때문에 무한대 inf와 비교해도 false 결과를 갖는다. 그러나 집합 내에서는 해시값을 기반으로 판단하며, nan은 집합 내에서 동일한 해시값을 가지므로 True가 결과로 도출된다. 0.1은 이진수로 정확하게 표현할 수 없는 값이므로, 파이썬에서 연산하면 미세한 오차가 발생하기 때문에 3을 곱했을 때 0.3이라고 볼 수 없다."
      ],
      "metadata": {
        "id": "jPESjSiacX9i"
      },
      "id": "jPESjSiacX9i"
    },
    {
      "cell_type": "markdown",
      "metadata": {
        "id": "e3a7ba7f"
      },
      "source": [
        "#### 16. Create a 5x5 matrix with values 1,2,3,4 just below the **diag**onal (★☆☆)"
      ],
      "id": "e3a7ba7f"
    },
    {
      "cell_type": "code",
      "metadata": {
        "id": "01d8e257",
        "colab": {
          "base_uri": "https://localhost:8080/"
        },
        "outputId": "ab258126-9c5e-4e5b-fb5f-0ca90d0d5253"
      },
      "source": [
        "arr = np.zeros((5, 5))\n",
        "\n",
        "arr[np.arange(1, 5), np.arange(0, 4)] = [1, 2, 3, 4]\n",
        "\n",
        "print(arr)"
      ],
      "id": "01d8e257",
      "execution_count": null,
      "outputs": [
        {
          "output_type": "stream",
          "name": "stdout",
          "text": [
            "[[0. 0. 0. 0. 0.]\n",
            " [1. 0. 0. 0. 0.]\n",
            " [0. 2. 0. 0. 0.]\n",
            " [0. 0. 3. 0. 0.]\n",
            " [0. 0. 0. 4. 0.]]\n"
          ]
        }
      ]
    },
    {
      "cell_type": "markdown",
      "metadata": {
        "id": "6d17ab5d"
      },
      "source": [
        "#### 17. Create a 8x8 matrix and fill it with a checkerboard pattern (★☆☆)"
      ],
      "id": "6d17ab5d"
    },
    {
      "cell_type": "code",
      "metadata": {
        "id": "841373cd",
        "colab": {
          "base_uri": "https://localhost:8080/"
        },
        "outputId": "26d66dae-bd02-4824-af83-fb1fe3cc20d3"
      },
      "source": [
        "checkerboard = np.zeros((4, 4))\n",
        "\n",
        "checkerboard[1::2, ::2] = 1\n",
        "checkerboard[::2, 1::2] = 1\n",
        "\n",
        "print(checkerboard)"
      ],
      "id": "841373cd",
      "execution_count": null,
      "outputs": [
        {
          "output_type": "stream",
          "name": "stdout",
          "text": [
            "[[0. 1. 0. 1.]\n",
            " [1. 0. 1. 0.]\n",
            " [0. 1. 0. 1.]\n",
            " [1. 0. 1. 0.]]\n"
          ]
        }
      ]
    },
    {
      "cell_type": "markdown",
      "metadata": {
        "id": "8837119b"
      },
      "source": [
        "#### 18. Consider a (6,7,8) shape array, what is the index (x,y,z) of the 100th element? (★☆☆)\n",
        "Hint : use 'numpy.unravel_index(value, (x, y, z))"
      ],
      "id": "8837119b"
    },
    {
      "cell_type": "code",
      "metadata": {
        "id": "2c0d16f1",
        "colab": {
          "base_uri": "https://localhost:8080/"
        },
        "outputId": "3bbc9837-de5e-441b-a33d-992472b91e37"
      },
      "source": [
        "arr3d = (6, 7, 8)\n",
        "index = np.unravel_index(99, arr3d)\n",
        "print(index)"
      ],
      "id": "2c0d16f1",
      "execution_count": null,
      "outputs": [
        {
          "output_type": "stream",
          "name": "stdout",
          "text": [
            "(1, 5, 3)\n"
          ]
        }
      ]
    },
    {
      "cell_type": "markdown",
      "metadata": {
        "id": "391791e0"
      },
      "source": [
        "#### 19. Normalize a 5x5 random matrix (★☆☆)\n",
        "Hint : $Z = \\frac{X - \\overline{X}}{S}$"
      ],
      "id": "391791e0"
    },
    {
      "cell_type": "code",
      "metadata": {
        "id": "f6533d39",
        "colab": {
          "base_uri": "https://localhost:8080/"
        },
        "outputId": "95fd4abd-a632-4eab-8a0b-00b74832cd0b"
      },
      "source": [
        "X = np.random.rand(5, 5)\n",
        "\n",
        "X_bar = np.mean(X)\n",
        "X_std = np.std(X)\n",
        "Z = (X-X_bar)/X_std\n",
        "\n",
        "print(\"random matrix:\", X)\n",
        "print(\"normalized matrix:\", Z)"
      ],
      "id": "f6533d39",
      "execution_count": null,
      "outputs": [
        {
          "output_type": "stream",
          "name": "stdout",
          "text": [
            "random matrix: [[0.43071309 0.34099022 0.72279572 0.54516501 0.57021346]\n",
            " [0.66487928 0.16182512 0.83455736 0.14172627 0.93986935]\n",
            " [0.0909227  0.56649059 0.76096577 0.98471532 0.93804077]\n",
            " [0.77568655 0.63526288 0.75358929 0.82039405 0.74812134]\n",
            " [0.29436315 0.7961935  0.75494845 0.80291045 0.99190395]]\n",
            "normalized matrix: [[-0.81985186 -1.16686868  0.30982202 -0.37719171 -0.28031301]\n",
            " [ 0.08582139 -1.85981692  0.74207712 -1.93755225  1.14938722]\n",
            " [-2.13404277 -0.29471181  0.45745047  1.32283582  1.14231488]\n",
            " [ 0.51438532 -0.02872455  0.42892081  0.68729838  0.40777268]\n",
            " [-1.34720598  0.59369906  0.43417757  0.61967788  1.35063893]]\n"
          ]
        }
      ]
    },
    {
      "cell_type": "markdown",
      "metadata": {
        "id": "1e74d39e"
      },
      "source": [
        "20. Create a custom dtype that describes a color as four unsigned bytes (RGBA) (★☆☆)\n",
        "Hint : modify the code below\n",
        "```python\n",
        "numpy.dtype([(value, numpy.ubyte), … , (value, numpy.ubyte)])\n",
        "```"
      ],
      "id": "1e74d39e"
    },
    {
      "cell_type": "code",
      "metadata": {
        "id": "3f639d33"
      },
      "source": [
        "color_dtype = np.dtype([\n",
        "    ('R', np.ubyte),\n",
        "    ('G', np.ubyte),\n",
        "    ('B', np.ubyte),\n",
        "    ('A', np.ubyte)\n",
        "])"
      ],
      "id": "3f639d33",
      "execution_count": null,
      "outputs": []
    },
    {
      "cell_type": "code",
      "source": [],
      "metadata": {
        "id": "X2Wg_3mdjjEN"
      },
      "id": "X2Wg_3mdjjEN",
      "execution_count": null,
      "outputs": []
    }
  ]
}