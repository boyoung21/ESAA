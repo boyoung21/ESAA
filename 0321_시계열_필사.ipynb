{
  "nbformat": 4,
  "nbformat_minor": 0,
  "metadata": {
    "colab": {
      "provenance": [],
      "authorship_tag": "ABX9TyNli9NmsrBFA/W5H6wHuuQ6",
      "include_colab_link": true
    },
    "kernelspec": {
      "name": "python3",
      "display_name": "Python 3"
    },
    "language_info": {
      "name": "python"
    }
  },
  "cells": [
    {
      "cell_type": "markdown",
      "metadata": {
        "id": "view-in-github",
        "colab_type": "text"
      },
      "source": [
        "<a href=\"https://colab.research.google.com/github/boyoung21/ESAA/blob/main/0321_%EC%8B%9C%EA%B3%84%EC%97%B4_%ED%95%84%EC%82%AC.ipynb\" target=\"_parent\"><img src=\"https://colab.research.google.com/assets/colab-badge.svg\" alt=\"Open In Colab\"/></a>"
      ]
    },
    {
      "cell_type": "markdown",
      "source": [
        "datetime 라이브러리: 날자와 시간을 처리하는 등의 다양한 기능을 제공\n",
        "- 날짜 처리: date 오브젝트\n",
        "- 시간 처리: time 오브젝트\n",
        "- 날짜와 시간 모두 처리: datetime 오브젝트"
      ],
      "metadata": {
        "id": "aw_KEn72YGQ8"
      }
    },
    {
      "cell_type": "code",
      "execution_count": 164,
      "metadata": {
        "id": "fetFjpLA3QqE"
      },
      "outputs": [],
      "source": [
        "from datetime import datetime"
      ]
    },
    {
      "cell_type": "markdown",
      "source": [
        "now() 메서드: datetime.now()\n",
        "today() 메서드: datetime.today()\n",
        "- 현재 시간 출력 메서드"
      ],
      "metadata": {
        "id": "1wRHmAmLZRfS"
      }
    },
    {
      "cell_type": "code",
      "source": [
        "now1 = datetime.now()\n",
        "print(now1)"
      ],
      "metadata": {
        "colab": {
          "base_uri": "https://localhost:8080/"
        },
        "id": "4-m1GH49-DrH",
        "outputId": "6c2eb5d8-706c-44f2-de22-e741f87f47c7"
      },
      "execution_count": 165,
      "outputs": [
        {
          "output_type": "stream",
          "name": "stdout",
          "text": [
            "2025-03-22 09:51:31.891790\n"
          ]
        }
      ]
    },
    {
      "cell_type": "code",
      "source": [
        "now2 = datetime.today()\n",
        "print(now2)"
      ],
      "metadata": {
        "colab": {
          "base_uri": "https://localhost:8080/"
        },
        "id": "UY_eBdFW-HOr",
        "outputId": "6e1e0dfd-b027-433c-c689-88ff1b7f4821"
      },
      "execution_count": 166,
      "outputs": [
        {
          "output_type": "stream",
          "name": "stdout",
          "text": [
            "2025-03-22 09:51:32.579760\n"
          ]
        }
      ]
    },
    {
      "cell_type": "markdown",
      "source": [
        "datetime(년, 월, 일, 시, 분, 초): 직접 인자 설정으로 오브젝트 설정 가능, datetime은 밀리초 단위까지 구할 수 있음"
      ],
      "metadata": {
        "id": "ztSaOwyaZoZ7"
      }
    },
    {
      "cell_type": "code",
      "source": [
        "t1 = datetime.now()\n",
        "t2 = datetime(1970, 1, 1)\n",
        "t3 = datetime(1970, 12, 12, 13, 24, 34)\n",
        "\n",
        "print(t1)\n",
        "print(t2)\n",
        "print(t3)"
      ],
      "metadata": {
        "colab": {
          "base_uri": "https://localhost:8080/"
        },
        "id": "GyHBqdX4-NbF",
        "outputId": "1808ab44-a921-440e-92fc-6d217cd4f60f"
      },
      "execution_count": 167,
      "outputs": [
        {
          "output_type": "stream",
          "name": "stdout",
          "text": [
            "2025-03-22 09:51:33.322926\n",
            "1970-01-01 00:00:00\n",
            "1970-12-12 13:24:34\n"
          ]
        }
      ]
    },
    {
      "cell_type": "markdown",
      "source": [
        "datetime 오브젝트는 시간 계산 가능, 사칙연산을 적용하면 결과값에 따른 시간을 출력해 줌"
      ],
      "metadata": {
        "id": "xDANxzCmZz4N"
      }
    },
    {
      "cell_type": "code",
      "source": [
        "diff1 = t1 - t2\n",
        "\n",
        "print(diff1)\n",
        "print(type(diff1))"
      ],
      "metadata": {
        "colab": {
          "base_uri": "https://localhost:8080/"
        },
        "id": "leLMbGUT-0KF",
        "outputId": "cb6fde5c-07fb-4759-cb03-e5d3aa163bd6"
      },
      "execution_count": 168,
      "outputs": [
        {
          "output_type": "stream",
          "name": "stdout",
          "text": [
            "20169 days, 9:51:33.322926\n",
            "<class 'datetime.timedelta'>\n"
          ]
        }
      ]
    },
    {
      "cell_type": "code",
      "source": [
        "diff2 = t2 - t1\n",
        "\n",
        "print(diff2)\n",
        "print(type(diff2))"
      ],
      "metadata": {
        "colab": {
          "base_uri": "https://localhost:8080/"
        },
        "id": "0qGM5xJB-7uG",
        "outputId": "a1647990-cad3-47c8-b25c-4fb03b71bb4b"
      },
      "execution_count": 169,
      "outputs": [
        {
          "output_type": "stream",
          "name": "stdout",
          "text": [
            "-20170 days, 14:08:26.677074\n",
            "<class 'datetime.timedelta'>\n"
          ]
        }
      ]
    },
    {
      "cell_type": "code",
      "source": [
        "from google.colab import drive\n",
        "drive.mount('/content/drive')"
      ],
      "metadata": {
        "id": "jwCl5TdvndLC",
        "colab": {
          "base_uri": "https://localhost:8080/"
        },
        "outputId": "09652543-f35d-404e-b1e9-157ed0f08f45"
      },
      "execution_count": 170,
      "outputs": [
        {
          "output_type": "stream",
          "name": "stdout",
          "text": [
            "Drive already mounted at /content/drive; to attempt to forcibly remount, call drive.mount(\"/content/drive\", force_remount=True).\n"
          ]
        }
      ]
    },
    {
      "cell_type": "code",
      "source": [
        "import pandas as pd\n",
        "import os\n",
        "\n",
        "ebola = pd.read_csv('/content/country_timeseries.csv')"
      ],
      "metadata": {
        "id": "xY1zwn8X_FQi"
      },
      "execution_count": 171,
      "outputs": []
    },
    {
      "cell_type": "markdown",
      "source": [
        "to_datetime('변경할 컬럼명')\n",
        "- 시계열 데이터가 문자열로 지정된 경우, 시간 계산을 할 수 없기 때문에 datetime 오브젝트로 변환해 주어야 함.\n",
        "- 변경되면 데이터타입이 info에서 datetime으로 표시됨"
      ],
      "metadata": {
        "id": "KCN9UHzNaEcz"
      }
    },
    {
      "cell_type": "code",
      "source": [
        "print(ebola.info()) #데이터 타입 확인"
      ],
      "metadata": {
        "id": "W3rKFALv__qL",
        "colab": {
          "base_uri": "https://localhost:8080/"
        },
        "outputId": "8af4b08c-dd24-44cd-d42c-b057ced7da57"
      },
      "execution_count": 118,
      "outputs": [
        {
          "output_type": "stream",
          "name": "stdout",
          "text": [
            "<class 'pandas.core.frame.DataFrame'>\n",
            "RangeIndex: 122 entries, 0 to 121\n",
            "Data columns (total 18 columns):\n",
            " #   Column               Non-Null Count  Dtype  \n",
            "---  ------               --------------  -----  \n",
            " 0   Date                 122 non-null    object \n",
            " 1   Day                  122 non-null    int64  \n",
            " 2   Cases_Guinea         93 non-null     float64\n",
            " 3   Cases_Liberia        83 non-null     float64\n",
            " 4   Cases_SierraLeone    87 non-null     float64\n",
            " 5   Cases_Nigeria        38 non-null     float64\n",
            " 6   Cases_Senegal        25 non-null     float64\n",
            " 7   Cases_UnitedStates   18 non-null     float64\n",
            " 8   Cases_Spain          16 non-null     float64\n",
            " 9   Cases_Mali           12 non-null     float64\n",
            " 10  Deaths_Guinea        92 non-null     float64\n",
            " 11  Deaths_Liberia       81 non-null     float64\n",
            " 12  Deaths_SierraLeone   87 non-null     float64\n",
            " 13  Deaths_Nigeria       38 non-null     float64\n",
            " 14  Deaths_Senegal       22 non-null     float64\n",
            " 15  Deaths_UnitedStates  18 non-null     float64\n",
            " 16  Deaths_Spain         16 non-null     float64\n",
            " 17  Deaths_Mali          12 non-null     float64\n",
            "dtypes: float64(16), int64(1), object(1)\n",
            "memory usage: 17.3+ KB\n",
            "None\n"
          ]
        }
      ]
    },
    {
      "cell_type": "code",
      "source": [
        "ebola['date_dt'] = pd.to_datetime(ebola['Date']) #데이터 타입을 바꿔서 새로운 열로 추가\n",
        "print(ebola.info())"
      ],
      "metadata": {
        "id": "sz6RSDOZADHI",
        "colab": {
          "base_uri": "https://localhost:8080/"
        },
        "outputId": "f6042a5f-6b56-4cd0-ec51-adca8a5f574a"
      },
      "execution_count": 119,
      "outputs": [
        {
          "output_type": "stream",
          "name": "stdout",
          "text": [
            "<class 'pandas.core.frame.DataFrame'>\n",
            "RangeIndex: 122 entries, 0 to 121\n",
            "Data columns (total 19 columns):\n",
            " #   Column               Non-Null Count  Dtype         \n",
            "---  ------               --------------  -----         \n",
            " 0   Date                 122 non-null    object        \n",
            " 1   Day                  122 non-null    int64         \n",
            " 2   Cases_Guinea         93 non-null     float64       \n",
            " 3   Cases_Liberia        83 non-null     float64       \n",
            " 4   Cases_SierraLeone    87 non-null     float64       \n",
            " 5   Cases_Nigeria        38 non-null     float64       \n",
            " 6   Cases_Senegal        25 non-null     float64       \n",
            " 7   Cases_UnitedStates   18 non-null     float64       \n",
            " 8   Cases_Spain          16 non-null     float64       \n",
            " 9   Cases_Mali           12 non-null     float64       \n",
            " 10  Deaths_Guinea        92 non-null     float64       \n",
            " 11  Deaths_Liberia       81 non-null     float64       \n",
            " 12  Deaths_SierraLeone   87 non-null     float64       \n",
            " 13  Deaths_Nigeria       38 non-null     float64       \n",
            " 14  Deaths_Senegal       22 non-null     float64       \n",
            " 15  Deaths_UnitedStates  18 non-null     float64       \n",
            " 16  Deaths_Spain         16 non-null     float64       \n",
            " 17  Deaths_Mali          12 non-null     float64       \n",
            " 18  date_dt              122 non-null    datetime64[ns]\n",
            "dtypes: datetime64[ns](1), float64(16), int64(1), object(1)\n",
            "memory usage: 18.2+ KB\n",
            "None\n"
          ]
        }
      ]
    },
    {
      "cell_type": "markdown",
      "source": [
        "시간 형식 지정자\n",
        "\n",
        "- %a, %A, %w: 요일 출력 인자들 (영어 3글자, 영어 full, 숫자 0~6)\n",
        "- %b, %B, %m: 월 출력 인자들 (영어 3글자, 영어 full, 숫자 01~12)\n",
        "- %p: AM 또는 PM 출력\n",
        "- %M: 분 출력 (2자리) (%m과 구분, 시간 관련 인자들은 다 대문자)\n",
        "- %S: 초 출력 (2자리)\n",
        "- %d: 날짜 출력 (2자리)\n",
        "\n",
        "(그 외 p.245)\n",
        "\n"
      ],
      "metadata": {
        "id": "0aC9T5tzbAei"
      }
    },
    {
      "cell_type": "code",
      "source": [
        "test_df1 = pd.DataFrame({'order_day':['01/01/15', '02/01/15', '03/01/15']})\n",
        "\n",
        "test_df1['date_dt1'] = pd.to_datetime(test_df1['order_day'], format = '%d/%m/%y')\n",
        "test_df1['date_dt2'] = pd.to_datetime(test_df1['order_day'], format = '%m/%d/%y')\n",
        "test_df1['date_dt3'] = pd.to_datetime(test_df1['order_day'], format = '%y/%m/%d')\n",
        "\n",
        "print(test_df1)"
      ],
      "metadata": {
        "colab": {
          "base_uri": "https://localhost:8080/"
        },
        "id": "vXVwwBvPoI51",
        "outputId": "58a54a2b-14fa-4043-d5c6-ce06bd8051dc"
      },
      "execution_count": 120,
      "outputs": [
        {
          "output_type": "stream",
          "name": "stdout",
          "text": [
            "  order_day   date_dt1   date_dt2   date_dt3\n",
            "0  01/01/15 2015-01-01 2015-01-01 2001-01-15\n",
            "1  02/01/15 2015-01-02 2015-02-01 2002-01-15\n",
            "2  03/01/15 2015-01-03 2015-03-01 2003-01-15\n"
          ]
        }
      ]
    },
    {
      "cell_type": "code",
      "source": [
        "test_df2 = pd.DataFrame({'order_day':['01-01-15', '02-01-15', '03-01-15']})\n",
        "test_df2['date_dt2'] = pd.to_datetime(test_df2['order_day'], format = '%d-%m-%y')\n",
        "\n",
        "print(test_df2)"
      ],
      "metadata": {
        "colab": {
          "base_uri": "https://localhost:8080/"
        },
        "id": "Yup3OASzqqkM",
        "outputId": "58e8c807-9eb6-4dc7-c38c-f8d2d20e83ea"
      },
      "execution_count": 121,
      "outputs": [
        {
          "output_type": "stream",
          "name": "stdout",
          "text": [
            "  order_day   date_dt2\n",
            "0  01-01-15 2015-01-01\n",
            "1  02-01-15 2015-01-02\n",
            "2  03-01-15 2015-01-03\n"
          ]
        }
      ]
    },
    {
      "cell_type": "markdown",
      "source": [
        "now 메서드로 얻은 현재 시가느이 시계열 데이터는 정밀 단위까지 시간을 표현함. 만약 원하는 데이터의 형태보다 길다면, 형식 지정자를 사용하여 출력 결과를 조절할 수 있음."
      ],
      "metadata": {
        "id": "tYwOepCrcP-s"
      }
    },
    {
      "cell_type": "code",
      "source": [
        "now = datetime.now()\n",
        "print(now)"
      ],
      "metadata": {
        "colab": {
          "base_uri": "https://localhost:8080/"
        },
        "id": "VMpGxtolrDsP",
        "outputId": "7fdc3a93-e381-45f3-dd32-d7d58a233f12"
      },
      "execution_count": 122,
      "outputs": [
        {
          "output_type": "stream",
          "name": "stdout",
          "text": [
            "2025-03-22 09:39:30.475724\n"
          ]
        }
      ]
    },
    {
      "cell_type": "code",
      "source": [
        "nowDate = now.strftime('%Y-%m-%d')\n",
        "print(nowDate)"
      ],
      "metadata": {
        "colab": {
          "base_uri": "https://localhost:8080/"
        },
        "id": "GoCjamRfrIpe",
        "outputId": "32d4aa1c-b219-4f40-f597-039fabd890ce"
      },
      "execution_count": 123,
      "outputs": [
        {
          "output_type": "stream",
          "name": "stdout",
          "text": [
            "2025-03-22\n"
          ]
        }
      ]
    },
    {
      "cell_type": "code",
      "source": [
        "nowTime = now.strftime('%H:%M:%S')\n",
        "print(nowTime)"
      ],
      "metadata": {
        "colab": {
          "base_uri": "https://localhost:8080/"
        },
        "id": "DU4TnJawrSlc",
        "outputId": "4fea3357-8cc7-4b2e-cd25-8e3de45e9e18"
      },
      "execution_count": 124,
      "outputs": [
        {
          "output_type": "stream",
          "name": "stdout",
          "text": [
            "09:39:30\n"
          ]
        }
      ]
    },
    {
      "cell_type": "code",
      "source": [
        "nowDatetime = now.strftime('%Y-%m-%d %H:%M:%S')\n",
        "print(nowDatetime)"
      ],
      "metadata": {
        "colab": {
          "base_uri": "https://localhost:8080/"
        },
        "id": "H7BJ6eq7re-K",
        "outputId": "f34aa94d-a687-4e1a-f210-d9f77b6216fa"
      },
      "execution_count": 125,
      "outputs": [
        {
          "output_type": "stream",
          "name": "stdout",
          "text": [
            "2025-03-22 09:39:30\n"
          ]
        }
      ]
    },
    {
      "cell_type": "code",
      "source": [
        "ebola1 = pd.read_csv('/content/country_timeseries.csv')\n",
        "print(ebola1.info())"
      ],
      "metadata": {
        "colab": {
          "base_uri": "https://localhost:8080/"
        },
        "id": "L7IC_r4krruS",
        "outputId": "d177f95b-6377-4b7f-8c1b-d73cb813d486"
      },
      "execution_count": 126,
      "outputs": [
        {
          "output_type": "stream",
          "name": "stdout",
          "text": [
            "<class 'pandas.core.frame.DataFrame'>\n",
            "RangeIndex: 122 entries, 0 to 121\n",
            "Data columns (total 18 columns):\n",
            " #   Column               Non-Null Count  Dtype  \n",
            "---  ------               --------------  -----  \n",
            " 0   Date                 122 non-null    object \n",
            " 1   Day                  122 non-null    int64  \n",
            " 2   Cases_Guinea         93 non-null     float64\n",
            " 3   Cases_Liberia        83 non-null     float64\n",
            " 4   Cases_SierraLeone    87 non-null     float64\n",
            " 5   Cases_Nigeria        38 non-null     float64\n",
            " 6   Cases_Senegal        25 non-null     float64\n",
            " 7   Cases_UnitedStates   18 non-null     float64\n",
            " 8   Cases_Spain          16 non-null     float64\n",
            " 9   Cases_Mali           12 non-null     float64\n",
            " 10  Deaths_Guinea        92 non-null     float64\n",
            " 11  Deaths_Liberia       81 non-null     float64\n",
            " 12  Deaths_SierraLeone   87 non-null     float64\n",
            " 13  Deaths_Nigeria       38 non-null     float64\n",
            " 14  Deaths_Senegal       22 non-null     float64\n",
            " 15  Deaths_UnitedStates  18 non-null     float64\n",
            " 16  Deaths_Spain         16 non-null     float64\n",
            " 17  Deaths_Mali          12 non-null     float64\n",
            "dtypes: float64(16), int64(1), object(1)\n",
            "memory usage: 17.3+ KB\n",
            "None\n"
          ]
        }
      ]
    },
    {
      "cell_type": "markdown",
      "source": [
        "datetime 오브젝트에서 날짜 정보 추출하기\n",
        "\n",
        "- 문자열로 저장된 날짜를 시리즈에 담아 datetime 오브젝트로 변환 가능"
      ],
      "metadata": {
        "id": "sPGe7vALc39z"
      }
    },
    {
      "cell_type": "code",
      "source": [
        "date_series = pd.Series(['2018-05-16', '2018-05-17', '2018-05-18'])\n",
        "d1 = pd.to_datetime(date_series)\n",
        "print(d1)"
      ],
      "metadata": {
        "colab": {
          "base_uri": "https://localhost:8080/"
        },
        "id": "xIkMp89IsO6d",
        "outputId": "cdaad3ff-8203-4374-9bc1-e9be545d664f"
      },
      "execution_count": 127,
      "outputs": [
        {
          "output_type": "stream",
          "name": "stdout",
          "text": [
            "0   2018-05-16\n",
            "1   2018-05-17\n",
            "2   2018-05-18\n",
            "dtype: datetime64[ns]\n"
          ]
        }
      ]
    },
    {
      "cell_type": "code",
      "source": [
        "print(d1[0].year)"
      ],
      "metadata": {
        "colab": {
          "base_uri": "https://localhost:8080/"
        },
        "id": "GrVvN4Iosip8",
        "outputId": "a11d016f-d99b-4977-b730-ca9fc8c19764"
      },
      "execution_count": 128,
      "outputs": [
        {
          "output_type": "stream",
          "name": "stdout",
          "text": [
            "2018\n"
          ]
        }
      ]
    },
    {
      "cell_type": "code",
      "source": [
        "print(d1[0].month)"
      ],
      "metadata": {
        "colab": {
          "base_uri": "https://localhost:8080/"
        },
        "id": "7DlHqIK5smn8",
        "outputId": "21b9e9ff-36d7-4499-9a8d-0593a2669748"
      },
      "execution_count": 129,
      "outputs": [
        {
          "output_type": "stream",
          "name": "stdout",
          "text": [
            "5\n"
          ]
        }
      ]
    },
    {
      "cell_type": "code",
      "source": [
        "print(d1[0].day)"
      ],
      "metadata": {
        "colab": {
          "base_uri": "https://localhost:8080/"
        },
        "id": "bYki-17WsrZe",
        "outputId": "152b1cd8-57e7-48fc-c8a6-341933d217cf"
      },
      "execution_count": 130,
      "outputs": [
        {
          "output_type": "stream",
          "name": "stdout",
          "text": [
            "16\n"
          ]
        }
      ]
    },
    {
      "cell_type": "markdown",
      "source": [
        "dt 접근자를 사용하면 datetime 속성이나 메서드를 사용하여 시계열 데이터를 처리 가능"
      ],
      "metadata": {
        "id": "RsqJvkUVd4Gg"
      }
    },
    {
      "cell_type": "markdown",
      "source": [
        "ex) dt 접근자 사용하지 않고 데이터 추출\n",
        "\n",
        "- 칼럼의 특정 데이터에 인덱스로 접근하는 방법\n",
        "- datetime 타입에만 적용 가능하며, dt 인자로 출력한 데이터의 형태는 int 등의 형태"
      ],
      "metadata": {
        "id": "UhQE7vrZeJda"
      }
    },
    {
      "cell_type": "code",
      "source": [
        "ebola = pd.read_csv('/content/country_timeseries.csv')\n",
        "ebola['date_dt'] = pd.to_datetime(ebola['Date'])"
      ],
      "metadata": {
        "id": "3lgD4nsWsvQP"
      },
      "execution_count": 131,
      "outputs": []
    },
    {
      "cell_type": "code",
      "source": [
        "print(ebola[['Date', 'date_dt']].head())"
      ],
      "metadata": {
        "colab": {
          "base_uri": "https://localhost:8080/"
        },
        "id": "QrwpIgV6s6Z6",
        "outputId": "befa2ec5-cb88-45e7-aa37-6dc170fc8ab2"
      },
      "execution_count": 132,
      "outputs": [
        {
          "output_type": "stream",
          "name": "stdout",
          "text": [
            "         Date    date_dt\n",
            "0    1/5/2015 2015-01-05\n",
            "1    1/4/2015 2015-01-04\n",
            "2    1/3/2015 2015-01-03\n",
            "3    1/2/2015 2015-01-02\n",
            "4  12/31/2014 2014-12-31\n"
          ]
        }
      ]
    },
    {
      "cell_type": "code",
      "source": [
        "print(ebola['date_dt'][3].year)"
      ],
      "metadata": {
        "colab": {
          "base_uri": "https://localhost:8080/"
        },
        "id": "hkTvX3hPtCm7",
        "outputId": "4ce6c5a2-03b5-4f28-bcd4-ec22add1b7a6"
      },
      "execution_count": 133,
      "outputs": [
        {
          "output_type": "stream",
          "name": "stdout",
          "text": [
            "2015\n"
          ]
        }
      ]
    },
    {
      "cell_type": "code",
      "source": [
        "print(ebola['date_dt'][3].month)"
      ],
      "metadata": {
        "colab": {
          "base_uri": "https://localhost:8080/"
        },
        "id": "ToFttd2BtWHP",
        "outputId": "abcbf6b5-db0d-4046-c918-017b8b787b4c"
      },
      "execution_count": 134,
      "outputs": [
        {
          "output_type": "stream",
          "name": "stdout",
          "text": [
            "1\n"
          ]
        }
      ]
    },
    {
      "cell_type": "code",
      "source": [
        "print(ebola['date_dt'][3].day)"
      ],
      "metadata": {
        "colab": {
          "base_uri": "https://localhost:8080/"
        },
        "id": "vGo_KBheta9H",
        "outputId": "fc108ab9-5d15-49b6-bafa-4cbf93c5c704"
      },
      "execution_count": 135,
      "outputs": [
        {
          "output_type": "stream",
          "name": "stdout",
          "text": [
            "2\n"
          ]
        }
      ]
    },
    {
      "cell_type": "markdown",
      "source": [
        "ex) dt 인자 사용하여 데이터 추출\n",
        "\n",
        "- 데이터를 인덱스로 접근하지 않아도 dt 접근자 + 열의 속성을 이용하여 데이터 추출 가능\n",
        "- .dt.속성 형태"
      ],
      "metadata": {
        "id": "9yEXCUPVeSjT"
      }
    },
    {
      "cell_type": "code",
      "source": [
        "ebola['year'] = ebola['date_dt'].dt.year #이런 식으로 새로운 객체에 지정하면 데이터프레임에 새로운 열 생성됨\n",
        "print(ebola[['Date', 'date_dt', 'year']].head())"
      ],
      "metadata": {
        "colab": {
          "base_uri": "https://localhost:8080/"
        },
        "id": "jFh2yRxctccG",
        "outputId": "a3afd7b8-80a5-4751-ee9b-e48c81006ece"
      },
      "execution_count": 136,
      "outputs": [
        {
          "output_type": "stream",
          "name": "stdout",
          "text": [
            "         Date    date_dt  year\n",
            "0    1/5/2015 2015-01-05  2015\n",
            "1    1/4/2015 2015-01-04  2015\n",
            "2    1/3/2015 2015-01-03  2015\n",
            "3    1/2/2015 2015-01-02  2015\n",
            "4  12/31/2014 2014-12-31  2014\n"
          ]
        }
      ]
    },
    {
      "cell_type": "code",
      "source": [
        "ebola['month'], ebola['day'] = (ebola['date_dt'].dt.month, ebola['date_dt'].dt.day)\n",
        "print(ebola[['Date', 'date_dt', 'year', 'month', 'day']].head())"
      ],
      "metadata": {
        "colab": {
          "base_uri": "https://localhost:8080/"
        },
        "id": "SnR66oGItuq5",
        "outputId": "13287332-b6da-48b1-fdb5-0b63fed375bd"
      },
      "execution_count": 137,
      "outputs": [
        {
          "output_type": "stream",
          "name": "stdout",
          "text": [
            "         Date    date_dt  year  month  day\n",
            "0    1/5/2015 2015-01-05  2015      1    5\n",
            "1    1/4/2015 2015-01-04  2015      1    4\n",
            "2    1/3/2015 2015-01-03  2015      1    3\n",
            "3    1/2/2015 2015-01-02  2015      1    2\n",
            "4  12/31/2014 2014-12-31  2014     12   31\n"
          ]
        }
      ]
    },
    {
      "cell_type": "code",
      "source": [
        "print(ebola.info())"
      ],
      "metadata": {
        "colab": {
          "base_uri": "https://localhost:8080/"
        },
        "id": "drZwKbRSuJs1",
        "outputId": "db19f83e-48b4-4a22-9537-5c41e3f7cfb0"
      },
      "execution_count": 138,
      "outputs": [
        {
          "output_type": "stream",
          "name": "stdout",
          "text": [
            "<class 'pandas.core.frame.DataFrame'>\n",
            "RangeIndex: 122 entries, 0 to 121\n",
            "Data columns (total 22 columns):\n",
            " #   Column               Non-Null Count  Dtype         \n",
            "---  ------               --------------  -----         \n",
            " 0   Date                 122 non-null    object        \n",
            " 1   Day                  122 non-null    int64         \n",
            " 2   Cases_Guinea         93 non-null     float64       \n",
            " 3   Cases_Liberia        83 non-null     float64       \n",
            " 4   Cases_SierraLeone    87 non-null     float64       \n",
            " 5   Cases_Nigeria        38 non-null     float64       \n",
            " 6   Cases_Senegal        25 non-null     float64       \n",
            " 7   Cases_UnitedStates   18 non-null     float64       \n",
            " 8   Cases_Spain          16 non-null     float64       \n",
            " 9   Cases_Mali           12 non-null     float64       \n",
            " 10  Deaths_Guinea        92 non-null     float64       \n",
            " 11  Deaths_Liberia       81 non-null     float64       \n",
            " 12  Deaths_SierraLeone   87 non-null     float64       \n",
            " 13  Deaths_Nigeria       38 non-null     float64       \n",
            " 14  Deaths_Senegal       22 non-null     float64       \n",
            " 15  Deaths_UnitedStates  18 non-null     float64       \n",
            " 16  Deaths_Spain         16 non-null     float64       \n",
            " 17  Deaths_Mali          12 non-null     float64       \n",
            " 18  date_dt              122 non-null    datetime64[ns]\n",
            " 19  year                 122 non-null    int32         \n",
            " 20  month                122 non-null    int32         \n",
            " 21  day                  122 non-null    int32         \n",
            "dtypes: datetime64[ns](1), float64(16), int32(3), int64(1), object(1)\n",
            "memory usage: 19.7+ KB\n",
            "None\n"
          ]
        }
      ]
    },
    {
      "cell_type": "code",
      "source": [
        "print(ebola.iloc[-5:, :5])\n",
        "#위치 기반 인덱싱 iloc으로 마지막 5개 행의 처음부터 5번째 열 데이터 확인"
      ],
      "metadata": {
        "colab": {
          "base_uri": "https://localhost:8080/"
        },
        "id": "uHxwJodFuSsf",
        "outputId": "dc8ac1aa-515f-4efd-9685-06e6dc91fe58"
      },
      "execution_count": 139,
      "outputs": [
        {
          "output_type": "stream",
          "name": "stdout",
          "text": [
            "          Date  Day  Cases_Guinea  Cases_Liberia  Cases_SierraLeone\n",
            "117  3/27/2014    5         103.0            8.0                6.0\n",
            "118  3/26/2014    4          86.0            NaN                NaN\n",
            "119  3/25/2014    3          86.0            NaN                NaN\n",
            "120  3/24/2014    2          86.0            NaN                NaN\n",
            "121  3/22/2014    0          49.0            NaN                NaN\n"
          ]
        }
      ]
    },
    {
      "cell_type": "code",
      "source": [
        "print(ebola['date_dt'].min()) #최초 발병일\n",
        "print(type(ebola['date_dt'].min()))\n",
        "\n",
        "#timestamps > datetime 오브젝트와 호환되는 자료"
      ],
      "metadata": {
        "colab": {
          "base_uri": "https://localhost:8080/"
        },
        "id": "cC4FMtEFuY1a",
        "outputId": "9ebb0449-2102-48f8-e39c-ce24eb9eb263"
      },
      "execution_count": 140,
      "outputs": [
        {
          "output_type": "stream",
          "name": "stdout",
          "text": [
            "2014-03-22 00:00:00\n",
            "<class 'pandas._libs.tslibs.timestamps.Timestamp'>\n"
          ]
        }
      ]
    },
    {
      "cell_type": "code",
      "source": [
        "ebola['outbreak_d'] = ebola['date_dt'] - ebola['date_dt'].min()\n",
        "# 최초 발병일 데이터 제거, datetime은 연산 가능\n",
        "\n",
        "print(ebola[['Date', 'Day', 'outbreak_d']].head())"
      ],
      "metadata": {
        "colab": {
          "base_uri": "https://localhost:8080/"
        },
        "id": "AAXC4VwLwWUA",
        "outputId": "5d4f3078-1bf7-4a37-8c60-9e0c21df8e22"
      },
      "execution_count": 141,
      "outputs": [
        {
          "output_type": "stream",
          "name": "stdout",
          "text": [
            "         Date  Day outbreak_d\n",
            "0    1/5/2015  289   289 days\n",
            "1    1/4/2015  288   288 days\n",
            "2    1/3/2015  287   287 days\n",
            "3    1/2/2015  286   286 days\n",
            "4  12/31/2014  284   284 days\n"
          ]
        }
      ]
    },
    {
      "cell_type": "markdown",
      "source": [
        "**파산한 은행 개수 계산**"
      ],
      "metadata": {
        "id": "oh1VM6yFgSXu"
      }
    },
    {
      "cell_type": "code",
      "source": [
        "banks = pd.read_csv('/content/banklist.csv')\n",
        "print(banks.head())"
      ],
      "metadata": {
        "colab": {
          "base_uri": "https://localhost:8080/"
        },
        "id": "Ho1NfYPcwoP8",
        "outputId": "7f900d28-fab0-4837-f434-411a1e048165"
      },
      "execution_count": 142,
      "outputs": [
        {
          "output_type": "stream",
          "name": "stdout",
          "text": [
            "                                           Bank Name         City  ST   CERT  \\\n",
            "0                Washington Federal Bank for Savings      Chicago  IL  30570   \n",
            "1    The Farmers and Merchants State Bank of Argonia      Argonia  KS  17719   \n",
            "2                                Fayette County Bank   Saint Elmo  IL   1802   \n",
            "3  Guaranty Bank, (d/b/a BestBank in Georgia & Mi...    Milwaukee  WI  30003   \n",
            "4                                     First NBC Bank  New Orleans  LA  58302   \n",
            "\n",
            "                 Acquiring Institution Closing Date Updated Date  \n",
            "0                   Royal Savings Bank    15-Dec-17    20-Dec-17  \n",
            "1                          Conway Bank    13-Oct-17    20-Oct-17  \n",
            "2            United Fidelity Bank, fsb    26-May-17    26-Jul-17  \n",
            "3  First-Citizens Bank & Trust Company     5-May-17    26-Jul-17  \n",
            "4                         Whitney Bank    28-Apr-17     5-Dec-17  \n"
          ]
        }
      ]
    },
    {
      "cell_type": "code",
      "source": [
        "banks_no_dates = pd.read_csv('/content/banklist.csv')\n",
        "print(banks_no_dates.info())"
      ],
      "metadata": {
        "colab": {
          "base_uri": "https://localhost:8080/"
        },
        "id": "Lcc2fUPsxKrk",
        "outputId": "b38b23e0-91bf-492d-a7ab-4d7449cf644b"
      },
      "execution_count": 143,
      "outputs": [
        {
          "output_type": "stream",
          "name": "stdout",
          "text": [
            "<class 'pandas.core.frame.DataFrame'>\n",
            "RangeIndex: 555 entries, 0 to 554\n",
            "Data columns (total 7 columns):\n",
            " #   Column                 Non-Null Count  Dtype \n",
            "---  ------                 --------------  ----- \n",
            " 0   Bank Name              555 non-null    object\n",
            " 1   City                   555 non-null    object\n",
            " 2   ST                     555 non-null    object\n",
            " 3   CERT                   555 non-null    int64 \n",
            " 4   Acquiring Institution  555 non-null    object\n",
            " 5   Closing Date           555 non-null    object\n",
            " 6   Updated Date           555 non-null    object\n",
            "dtypes: int64(1), object(6)\n",
            "memory usage: 30.5+ KB\n",
            "None\n"
          ]
        }
      ]
    },
    {
      "cell_type": "markdown",
      "source": [
        "parse_dates = [datetime 오브젝트로 변환하고자 하는 인덱스 번호]"
      ],
      "metadata": {
        "id": "8x0aWbKwhQc7"
      }
    },
    {
      "cell_type": "code",
      "source": [
        "banks = pd.read_csv('/content/banklist.csv', parse_dates=[5, 6])\n",
        "print(banks.info())"
      ],
      "metadata": {
        "colab": {
          "base_uri": "https://localhost:8080/"
        },
        "id": "_YW0WMAH_haf",
        "outputId": "c5fa3ce2-61cd-4cf7-b9e0-57b5245ee20b"
      },
      "execution_count": 144,
      "outputs": [
        {
          "output_type": "stream",
          "name": "stdout",
          "text": [
            "<class 'pandas.core.frame.DataFrame'>\n",
            "RangeIndex: 555 entries, 0 to 554\n",
            "Data columns (total 7 columns):\n",
            " #   Column                 Non-Null Count  Dtype         \n",
            "---  ------                 --------------  -----         \n",
            " 0   Bank Name              555 non-null    object        \n",
            " 1   City                   555 non-null    object        \n",
            " 2   ST                     555 non-null    object        \n",
            " 3   CERT                   555 non-null    int64         \n",
            " 4   Acquiring Institution  555 non-null    object        \n",
            " 5   Closing Date           555 non-null    datetime64[ns]\n",
            " 6   Updated Date           555 non-null    datetime64[ns]\n",
            "dtypes: datetime64[ns](2), int64(1), object(4)\n",
            "memory usage: 30.5+ KB\n",
            "None\n"
          ]
        },
        {
          "output_type": "stream",
          "name": "stderr",
          "text": [
            "<ipython-input-144-c538f69f5948>:1: UserWarning: Could not infer format, so each element will be parsed individually, falling back to `dateutil`. To ensure parsing is consistent and as-expected, please specify a format.\n",
            "  banks = pd.read_csv('/content/banklist.csv', parse_dates=[5, 6])\n",
            "<ipython-input-144-c538f69f5948>:1: UserWarning: Could not infer format, so each element will be parsed individually, falling back to `dateutil`. To ensure parsing is consistent and as-expected, please specify a format.\n",
            "  banks = pd.read_csv('/content/banklist.csv', parse_dates=[5, 6])\n"
          ]
        }
      ]
    },
    {
      "cell_type": "markdown",
      "source": [
        ".dt.quarter > 은행 파산 분기 출력\n",
        "\n",
        ".dt.year > 은행 파산 연도 출력"
      ],
      "metadata": {
        "id": "rVpcOXrRhmwr"
      }
    },
    {
      "cell_type": "code",
      "source": [
        "banks['closing_quarter'], banks['closing_year'] = (banks['Closing Date'].dt.quarter,\n",
        "                                                   banks['Closing Date'].dt.year)\n",
        "\n",
        "print(banks.head())"
      ],
      "metadata": {
        "colab": {
          "base_uri": "https://localhost:8080/"
        },
        "id": "cIjDomaU-nn1",
        "outputId": "a13162e3-5104-4184-d7fd-f06c396be2b4"
      },
      "execution_count": 145,
      "outputs": [
        {
          "output_type": "stream",
          "name": "stdout",
          "text": [
            "                                           Bank Name         City  ST   CERT  \\\n",
            "0                Washington Federal Bank for Savings      Chicago  IL  30570   \n",
            "1    The Farmers and Merchants State Bank of Argonia      Argonia  KS  17719   \n",
            "2                                Fayette County Bank   Saint Elmo  IL   1802   \n",
            "3  Guaranty Bank, (d/b/a BestBank in Georgia & Mi...    Milwaukee  WI  30003   \n",
            "4                                     First NBC Bank  New Orleans  LA  58302   \n",
            "\n",
            "                 Acquiring Institution Closing Date Updated Date  \\\n",
            "0                   Royal Savings Bank   2017-12-15   2017-12-20   \n",
            "1                          Conway Bank   2017-10-13   2017-10-20   \n",
            "2            United Fidelity Bank, fsb   2017-05-26   2017-07-26   \n",
            "3  First-Citizens Bank & Trust Company   2017-05-05   2017-07-26   \n",
            "4                         Whitney Bank   2017-04-28   2017-12-05   \n",
            "\n",
            "   closing_quarter  closing_year  \n",
            "0                4          2017  \n",
            "1                4          2017  \n",
            "2                2          2017  \n",
            "3                2          2017  \n",
            "4                2          2017  \n"
          ]
        }
      ]
    },
    {
      "cell_type": "code",
      "source": [
        "closing_year = banks.groupby(['closing_year']).size()\n",
        "# 연도 별로 그룹을 나눠서, size()를 이용해 그룹별로 몇 개의 행이 있는지 개수 반환\n",
        "print(closing_year)"
      ],
      "metadata": {
        "colab": {
          "base_uri": "https://localhost:8080/"
        },
        "id": "Hox0phxp-47d",
        "outputId": "d5955841-aeb8-4e28-a5e8-4809e7caed01"
      },
      "execution_count": 146,
      "outputs": [
        {
          "output_type": "stream",
          "name": "stdout",
          "text": [
            "closing_year\n",
            "2000      2\n",
            "2001      4\n",
            "2002     11\n",
            "2003      3\n",
            "2004      4\n",
            "2007      3\n",
            "2008     25\n",
            "2009    140\n",
            "2010    157\n",
            "2011     92\n",
            "2012     51\n",
            "2013     24\n",
            "2014     18\n",
            "2015      8\n",
            "2016      5\n",
            "2017      8\n",
            "dtype: int64\n"
          ]
        }
      ]
    },
    {
      "cell_type": "code",
      "source": [
        "closing_year_q = banks.groupby(['closing_year', 'closing_quarter']).size( )\n",
        "print(closing_year_q)"
      ],
      "metadata": {
        "colab": {
          "base_uri": "https://localhost:8080/"
        },
        "id": "sjm8JhJA_6mk",
        "outputId": "da94c9f5-31a0-40ff-bf52-8ea7fd6f406f"
      },
      "execution_count": 147,
      "outputs": [
        {
          "output_type": "stream",
          "name": "stdout",
          "text": [
            "closing_year  closing_quarter\n",
            "2000          4                   2\n",
            "2001          1                   1\n",
            "              2                   1\n",
            "              3                   2\n",
            "2002          1                   6\n",
            "              2                   2\n",
            "              3                   1\n",
            "              4                   2\n",
            "2003          1                   1\n",
            "              2                   1\n",
            "              4                   1\n",
            "2004          1                   3\n",
            "              2                   1\n",
            "2007          1                   1\n",
            "              3                   1\n",
            "              4                   1\n",
            "2008          1                   2\n",
            "              2                   2\n",
            "              3                   9\n",
            "              4                  12\n",
            "2009          1                  21\n",
            "              2                  24\n",
            "              3                  50\n",
            "              4                  45\n",
            "2010          1                  41\n",
            "              2                  45\n",
            "              3                  41\n",
            "              4                  30\n",
            "2011          1                  26\n",
            "              2                  22\n",
            "              3                  26\n",
            "              4                  18\n",
            "2012          1                  16\n",
            "              2                  15\n",
            "              3                  12\n",
            "              4                   8\n",
            "2013          1                   4\n",
            "              2                  12\n",
            "              3                   6\n",
            "              4                   2\n",
            "2014          1                   5\n",
            "              2                   7\n",
            "              3                   2\n",
            "              4                   4\n",
            "2015          1                   4\n",
            "              2                   1\n",
            "              3                   1\n",
            "              4                   2\n",
            "2016          1                   1\n",
            "              2                   2\n",
            "              3                   2\n",
            "2017          1                   3\n",
            "              2                   3\n",
            "              4                   2\n",
            "dtype: int64\n"
          ]
        }
      ]
    },
    {
      "cell_type": "code",
      "source": [
        "import matplotlib.pyplot as plt\n",
        "\n",
        "fig, ax = plt.subplots()\n",
        "\n",
        "ax = closing_year.plot()\n",
        "plt.show()\n",
        "\n",
        "fig, ax = plt.subplots()\n",
        "ax = closing_year_q.plot()\n",
        "plt.show()"
      ],
      "metadata": {
        "colab": {
          "base_uri": "https://localhost:8080/",
          "height": 883
        },
        "id": "j-RCvYSREA1j",
        "outputId": "7085dec0-bbc6-4fe4-a232-96a389359d27"
      },
      "execution_count": 148,
      "outputs": [
        {
          "output_type": "display_data",
          "data": {
            "text/plain": [
              "<Figure size 640x480 with 1 Axes>"
            ],
            "image/png": "[encoded data removed]"
          },
          "metadata": {}
        },
        {
          "output_type": "display_data",
          "data": {
            "text/plain": [
              "<Figure size 640x480 with 1 Axes>"
            ],
            "image/png": "[encoded data removed]"
          },
          "metadata": {}
        }
      ]
    },
    {
      "cell_type": "code",
      "source": [
        "pip install pandas-datareader"
      ],
      "metadata": {
        "colab": {
          "base_uri": "https://localhost:8080/"
        },
        "id": "T3s4vgZLEWLp",
        "outputId": "995023f8-a27c-4e31-e8b6-7e85c9b4c0f7"
      },
      "execution_count": 91,
      "outputs": [
        {
          "output_type": "stream",
          "name": "stdout",
          "text": [
            "Requirement already satisfied: pandas-datareader in /usr/local/lib/python3.11/dist-packages (0.10.0)\n",
            "Requirement already satisfied: lxml in /usr/local/lib/python3.11/dist-packages (from pandas-datareader) (5.3.1)\n",
            "Requirement already satisfied: pandas>=0.23 in /usr/local/lib/python3.11/dist-packages (from pandas-datareader) (2.2.2)\n",
            "Requirement already satisfied: requests>=2.19.0 in /usr/local/lib/python3.11/dist-packages (from pandas-datareader) (2.32.3)\n",
            "Requirement already satisfied: numpy>=1.23.2 in /usr/local/lib/python3.11/dist-packages (from pandas>=0.23->pandas-datareader) (2.0.2)\n",
            "Requirement already satisfied: python-dateutil>=2.8.2 in /usr/local/lib/python3.11/dist-packages (from pandas>=0.23->pandas-datareader) (2.8.2)\n",
            "Requirement already satisfied: pytz>=2020.1 in /usr/local/lib/python3.11/dist-packages (from pandas>=0.23->pandas-datareader) (2025.1)\n",
            "Requirement already satisfied: tzdata>=2022.7 in /usr/local/lib/python3.11/dist-packages (from pandas>=0.23->pandas-datareader) (2025.1)\n",
            "Requirement already satisfied: charset-normalizer<4,>=2 in /usr/local/lib/python3.11/dist-packages (from requests>=2.19.0->pandas-datareader) (3.4.1)\n",
            "Requirement already satisfied: idna<4,>=2.5 in /usr/local/lib/python3.11/dist-packages (from requests>=2.19.0->pandas-datareader) (3.10)\n",
            "Requirement already satisfied: urllib3<3,>=1.21.1 in /usr/local/lib/python3.11/dist-packages (from requests>=2.19.0->pandas-datareader) (2.3.0)\n",
            "Requirement already satisfied: certifi>=2017.4.17 in /usr/local/lib/python3.11/dist-packages (from requests>=2.19.0->pandas-datareader) (2025.1.31)\n",
            "Requirement already satisfied: six>=1.5 in /usr/local/lib/python3.11/dist-packages (from python-dateutil>=2.8.2->pandas>=0.23->pandas-datareader) (1.17.0)\n"
          ]
        }
      ]
    },
    {
      "cell_type": "markdown",
      "source": [
        "테슬라 주식 데이터로 시간 계산하기"
      ],
      "metadata": {
        "id": "h2xh6QH8iLCd"
      }
    },
    {
      "cell_type": "code",
      "source": [
        "tesla = pd.read_csv('/content/tesla_stock_quandl.csv')\n",
        "\n",
        "print(tesla.head())"
      ],
      "metadata": {
        "colab": {
          "base_uri": "https://localhost:8080/"
        },
        "id": "mVS9bU1XE5F0",
        "outputId": "b5251d72-a024-43d8-8939-88f5be330d8b"
      },
      "execution_count": 172,
      "outputs": [
        {
          "output_type": "stream",
          "name": "stdout",
          "text": [
            "         Date    Open    High     Low   Close      Volume  ExDividend  \\\n",
            "0  2018-03-27  304.00  304.27  277.18  279.18  13696168.0         0.0   \n",
            "1  2018-03-26  307.34  307.59  291.36  304.18   8324639.0         0.0   \n",
            "2  2018-03-23  311.25  311.61  300.45  301.54   6600538.0         0.0   \n",
            "3  2018-03-22  313.89  318.82  308.18  309.10   4914307.0         0.0   \n",
            "4  2018-03-21  310.25  322.44  310.19  316.53   5927881.0         0.0   \n",
            "\n",
            "   SplitRatio  AdjOpen  AdjHigh  AdjLow  AdjClose   AdjVolume  \n",
            "0         1.0   304.00   304.27  277.18    279.18  13696168.0  \n",
            "1         1.0   307.34   307.59  291.36    304.18   8324639.0  \n",
            "2         1.0   311.25   311.61  300.45    301.54   6600538.0  \n",
            "3         1.0   313.89   318.82  308.18    309.10   4914307.0  \n",
            "4         1.0   310.25   322.44  310.19    316.53   5927881.0  \n"
          ]
        }
      ]
    },
    {
      "cell_type": "code",
      "source": [
        "tesla = pd.read_csv('/content/tesla_stock_quandl.csv', parse_dates=[0])\n",
        "print(tesla.info())"
      ],
      "metadata": {
        "colab": {
          "base_uri": "https://localhost:8080/"
        },
        "id": "ns1TgPSjHzIp",
        "outputId": "71158966-4a22-4bd5-cc63-0c3a240456e0"
      },
      "execution_count": 173,
      "outputs": [
        {
          "output_type": "stream",
          "name": "stdout",
          "text": [
            "<class 'pandas.core.frame.DataFrame'>\n",
            "RangeIndex: 1949 entries, 0 to 1948\n",
            "Data columns (total 13 columns):\n",
            " #   Column      Non-Null Count  Dtype         \n",
            "---  ------      --------------  -----         \n",
            " 0   Date        1949 non-null   datetime64[ns]\n",
            " 1   Open        1949 non-null   float64       \n",
            " 2   High        1949 non-null   float64       \n",
            " 3   Low         1949 non-null   float64       \n",
            " 4   Close       1949 non-null   float64       \n",
            " 5   Volume      1949 non-null   float64       \n",
            " 6   ExDividend  1949 non-null   float64       \n",
            " 7   SplitRatio  1949 non-null   float64       \n",
            " 8   AdjOpen     1949 non-null   float64       \n",
            " 9   AdjHigh     1949 non-null   float64       \n",
            " 10  AdjLow      1949 non-null   float64       \n",
            " 11  AdjClose    1949 non-null   float64       \n",
            " 12  AdjVolume   1949 non-null   float64       \n",
            "dtypes: datetime64[ns](1), float64(12)\n",
            "memory usage: 198.1 KB\n",
            "None\n"
          ]
        }
      ]
    },
    {
      "cell_type": "code",
      "source": [
        "print(tesla.loc[(tesla.Date.dt.year == 2010) & (tesla.Date.dt.month == 6)])"
      ],
      "metadata": {
        "colab": {
          "base_uri": "https://localhost:8080/"
        },
        "id": "xEKibA9dKZTD",
        "outputId": "cb7c3934-773a-4944-a89b-5db017874e25"
      },
      "execution_count": 174,
      "outputs": [
        {
          "output_type": "stream",
          "name": "stdout",
          "text": [
            "           Date   Open     High    Low  Close      Volume  ExDividend  \\\n",
            "1947 2010-06-30  25.79  30.4192  23.30  23.83  17187100.0         0.0   \n",
            "1948 2010-06-29  19.00  25.0000  17.54  23.89  18766300.0         0.0   \n",
            "\n",
            "      SplitRatio  AdjOpen  AdjHigh  AdjLow  AdjClose   AdjVolume  \n",
            "1947         1.0    25.79  30.4192   23.30     23.83  17187100.0  \n",
            "1948         1.0    19.00  25.0000   17.54     23.89  18766300.0  \n"
          ]
        }
      ]
    },
    {
      "cell_type": "markdown",
      "source": [
        "datetime 오브젝트를 데이터프레임의 인덱스로 설정하면 원하는 시간의 데이터를 추출하기 조금 더 용이함\n",
        "\n",
        "- 데이터프레임.index 객체에 datetime 오브젝트를 반환하면 됨"
      ],
      "metadata": {
        "id": "Kq733oE3iTM3"
      }
    },
    {
      "cell_type": "code",
      "source": [
        "tesla.index = tesla['Date']\n",
        "print(tesla.index)"
      ],
      "metadata": {
        "colab": {
          "base_uri": "https://localhost:8080/"
        },
        "id": "QP6uBDExKnJe",
        "outputId": "3f3dc449-6420-4f13-ea9e-72c608b994e4"
      },
      "execution_count": 177,
      "outputs": [
        {
          "output_type": "stream",
          "name": "stdout",
          "text": [
            "DatetimeIndex(['2018-03-27', '2018-03-26', '2018-03-23', '2018-03-22',\n",
            "               '2018-03-21', '2018-03-20', '2018-03-19', '2018-03-16',\n",
            "               '2018-03-15', '2018-03-14',\n",
            "               ...\n",
            "               '2010-07-13', '2010-07-12', '2010-07-09', '2010-07-08',\n",
            "               '2010-07-07', '2010-07-06', '2010-07-02', '2010-07-01',\n",
            "               '2010-06-30', '2010-06-29'],\n",
            "              dtype='datetime64[ns]', name='Date', length=1949, freq=None)\n"
          ]
        }
      ]
    },
    {
      "cell_type": "code",
      "source": [
        "tesla.info()"
      ],
      "metadata": {
        "colab": {
          "base_uri": "https://localhost:8080/"
        },
        "id": "zSbmMErXQjPf",
        "outputId": "f199c460-ef6a-4488-9dd9-f293e855e459"
      },
      "execution_count": 178,
      "outputs": [
        {
          "output_type": "stream",
          "name": "stdout",
          "text": [
            "<class 'pandas.core.frame.DataFrame'>\n",
            "DatetimeIndex: 1949 entries, 2018-03-27 to 2010-06-29\n",
            "Data columns (total 13 columns):\n",
            " #   Column      Non-Null Count  Dtype         \n",
            "---  ------      --------------  -----         \n",
            " 0   Date        1949 non-null   datetime64[ns]\n",
            " 1   Open        1949 non-null   float64       \n",
            " 2   High        1949 non-null   float64       \n",
            " 3   Low         1949 non-null   float64       \n",
            " 4   Close       1949 non-null   float64       \n",
            " 5   Volume      1949 non-null   float64       \n",
            " 6   ExDividend  1949 non-null   float64       \n",
            " 7   SplitRatio  1949 non-null   float64       \n",
            " 8   AdjOpen     1949 non-null   float64       \n",
            " 9   AdjHigh     1949 non-null   float64       \n",
            " 10  AdjLow      1949 non-null   float64       \n",
            " 11  AdjClose    1949 non-null   float64       \n",
            " 12  AdjVolume   1949 non-null   float64       \n",
            "dtypes: datetime64[ns](1), float64(12)\n",
            "memory usage: 213.2 KB\n"
          ]
        }
      ]
    },
    {
      "cell_type": "code",
      "source": [
        "print(tesla['2015'].iloc[:5, :5])\n",
        "\n",
        "#2015라는 컬럼이 존재하지 않아 오류 발생"
      ],
      "metadata": {
        "colab": {
          "base_uri": "https://localhost:8080/",
          "height": 572
        },
        "id": "FPQtaRF9PkoW",
        "outputId": "cb58ef55-b3cf-4679-d191-4987915b26c0"
      },
      "execution_count": 179,
      "outputs": [
        {
          "output_type": "error",
          "ename": "KeyError",
          "evalue": "'2015'",
          "traceback": [
            "\u001b[0;31m---------------------------------------------------------------------------\u001b[0m",
            "\u001b[0;31mKeyError\u001b[0m                                  Traceback (most recent call last)",
            "\u001b[0;32m/usr/local/lib/python3.11/dist-packages/pandas/core/indexes/base.py\u001b[0m in \u001b[0;36mget_loc\u001b[0;34m(self, key)\u001b[0m\n\u001b[1;32m   3804\u001b[0m         \u001b[0;32mtry\u001b[0m\u001b[0;34m:\u001b[0m\u001b[0;34m\u001b[0m\u001b[0;34m\u001b[0m\u001b[0m\n\u001b[0;32m-> 3805\u001b[0;31m             \u001b[0;32mreturn\u001b[0m \u001b[0mself\u001b[0m\u001b[0;34m.\u001b[0m\u001b[0m_engine\u001b[0m\u001b[0;34m.\u001b[0m\u001b[0mget_loc\u001b[0m\u001b[0;34m(\u001b[0m\u001b[0mcasted_key\u001b[0m\u001b[0;34m)\u001b[0m\u001b[0;34m\u001b[0m\u001b[0;34m\u001b[0m\u001b[0m\n\u001b[0m\u001b[1;32m   3806\u001b[0m         \u001b[0;32mexcept\u001b[0m \u001b[0mKeyError\u001b[0m \u001b[0;32mas\u001b[0m \u001b[0merr\u001b[0m\u001b[0;34m:\u001b[0m\u001b[0;34m\u001b[0m\u001b[0;34m\u001b[0m\u001b[0m\n",
            "\u001b[0;32mindex.pyx\u001b[0m in \u001b[0;36mpandas._libs.index.IndexEngine.get_loc\u001b[0;34m()\u001b[0m\n",
            "\u001b[0;32mindex.pyx\u001b[0m in \u001b[0;36mpandas._libs.index.IndexEngine.get_loc\u001b[0;34m()\u001b[0m\n",
            "\u001b[0;32mpandas/_libs/hashtable_class_helper.pxi\u001b[0m in \u001b[0;36mpandas._libs.hashtable.PyObjectHashTable.get_item\u001b[0;34m()\u001b[0m\n",
            "\u001b[0;32mpandas/_libs/hashtable_class_helper.pxi\u001b[0m in \u001b[0;36mpandas._libs.hashtable.PyObjectHashTable.get_item\u001b[0;34m()\u001b[0m\n",
            "\u001b[0;31mKeyError\u001b[0m: '2015'",
            "\nThe above exception was the direct cause of the following exception:\n",
            "\u001b[0;31mKeyError\u001b[0m                                  Traceback (most recent call last)",
            "\u001b[0;32m<ipython-input-179-846783a4896c>\u001b[0m in \u001b[0;36m<cell line: 0>\u001b[0;34m()\u001b[0m\n\u001b[0;32m----> 1\u001b[0;31m \u001b[0mprint\u001b[0m\u001b[0;34m(\u001b[0m\u001b[0mtesla\u001b[0m\u001b[0;34m[\u001b[0m\u001b[0;34m'2015'\u001b[0m\u001b[0;34m]\u001b[0m\u001b[0;34m.\u001b[0m\u001b[0miloc\u001b[0m\u001b[0;34m[\u001b[0m\u001b[0;34m:\u001b[0m\u001b[0;36m5\u001b[0m\u001b[0;34m,\u001b[0m \u001b[0;34m:\u001b[0m\u001b[0;36m5\u001b[0m\u001b[0;34m]\u001b[0m\u001b[0;34m)\u001b[0m\u001b[0;34m\u001b[0m\u001b[0;34m\u001b[0m\u001b[0m\n\u001b[0m",
            "\u001b[0;32m/usr/local/lib/python3.11/dist-packages/pandas/core/frame.py\u001b[0m in \u001b[0;36m__getitem__\u001b[0;34m(self, key)\u001b[0m\n\u001b[1;32m   4100\u001b[0m             \u001b[0;32mif\u001b[0m \u001b[0mself\u001b[0m\u001b[0;34m.\u001b[0m\u001b[0mcolumns\u001b[0m\u001b[0;34m.\u001b[0m\u001b[0mnlevels\u001b[0m \u001b[0;34m>\u001b[0m \u001b[0;36m1\u001b[0m\u001b[0;34m:\u001b[0m\u001b[0;34m\u001b[0m\u001b[0;34m\u001b[0m\u001b[0m\n\u001b[1;32m   4101\u001b[0m                 \u001b[0;32mreturn\u001b[0m \u001b[0mself\u001b[0m\u001b[0;34m.\u001b[0m\u001b[0m_getitem_multilevel\u001b[0m\u001b[0;34m(\u001b[0m\u001b[0mkey\u001b[0m\u001b[0;34m)\u001b[0m\u001b[0;34m\u001b[0m\u001b[0;34m\u001b[0m\u001b[0m\n\u001b[0;32m-> 4102\u001b[0;31m             \u001b[0mindexer\u001b[0m \u001b[0;34m=\u001b[0m \u001b[0mself\u001b[0m\u001b[0;34m.\u001b[0m\u001b[0mcolumns\u001b[0m\u001b[0;34m.\u001b[0m\u001b[0mget_loc\u001b[0m\u001b[0;34m(\u001b[0m\u001b[0mkey\u001b[0m\u001b[0;34m)\u001b[0m\u001b[0;34m\u001b[0m\u001b[0;34m\u001b[0m\u001b[0m\n\u001b[0m\u001b[1;32m   4103\u001b[0m             \u001b[0;32mif\u001b[0m \u001b[0mis_integer\u001b[0m\u001b[0;34m(\u001b[0m\u001b[0mindexer\u001b[0m\u001b[0;34m)\u001b[0m\u001b[0;34m:\u001b[0m\u001b[0;34m\u001b[0m\u001b[0;34m\u001b[0m\u001b[0m\n\u001b[1;32m   4104\u001b[0m                 \u001b[0mindexer\u001b[0m \u001b[0;34m=\u001b[0m \u001b[0;34m[\u001b[0m\u001b[0mindexer\u001b[0m\u001b[0;34m]\u001b[0m\u001b[0;34m\u001b[0m\u001b[0;34m\u001b[0m\u001b[0m\n",
            "\u001b[0;32m/usr/local/lib/python3.11/dist-packages/pandas/core/indexes/base.py\u001b[0m in \u001b[0;36mget_loc\u001b[0;34m(self, key)\u001b[0m\n\u001b[1;32m   3810\u001b[0m             ):\n\u001b[1;32m   3811\u001b[0m                 \u001b[0;32mraise\u001b[0m \u001b[0mInvalidIndexError\u001b[0m\u001b[0;34m(\u001b[0m\u001b[0mkey\u001b[0m\u001b[0;34m)\u001b[0m\u001b[0;34m\u001b[0m\u001b[0;34m\u001b[0m\u001b[0m\n\u001b[0;32m-> 3812\u001b[0;31m             \u001b[0;32mraise\u001b[0m \u001b[0mKeyError\u001b[0m\u001b[0;34m(\u001b[0m\u001b[0mkey\u001b[0m\u001b[0;34m)\u001b[0m \u001b[0;32mfrom\u001b[0m \u001b[0merr\u001b[0m\u001b[0;34m\u001b[0m\u001b[0;34m\u001b[0m\u001b[0m\n\u001b[0m\u001b[1;32m   3813\u001b[0m         \u001b[0;32mexcept\u001b[0m \u001b[0mTypeError\u001b[0m\u001b[0;34m:\u001b[0m\u001b[0;34m\u001b[0m\u001b[0;34m\u001b[0m\u001b[0m\n\u001b[1;32m   3814\u001b[0m             \u001b[0;31m# If we have a listlike key, _check_indexing_error will raise\u001b[0m\u001b[0;34m\u001b[0m\u001b[0;34m\u001b[0m\u001b[0m\n",
            "\u001b[0;31mKeyError\u001b[0m: '2015'"
          ]
        }
      ]
    },
    {
      "cell_type": "markdown",
      "source": [
        "tesla['2015']에 .loc()를 추가로 사용하여 2015를 날짜 슬라이싱 조건으로 해석할 수 있도록 함. Datetimeindex를 기준으로 시계열을 슬라이싱한다는 것을 분명히 해야 오류가 나지 않음."
      ],
      "metadata": {
        "id": "-hIwzi38NdwE"
      }
    },
    {
      "cell_type": "code",
      "source": [
        "print(tesla.loc['2015'].iloc[:5, :5])"
      ],
      "metadata": {
        "colab": {
          "base_uri": "https://localhost:8080/"
        },
        "id": "YuZQJ2E4LwYf",
        "outputId": "4b2d8ee4-1675-4072-9bfc-d76a6947339e"
      },
      "execution_count": 180,
      "outputs": [
        {
          "output_type": "stream",
          "name": "stdout",
          "text": [
            "                 Date    Open     High       Low   Close\n",
            "Date                                                    \n",
            "2015-12-31 2015-12-31  238.51  243.450  238.3700  240.01\n",
            "2015-12-30 2015-12-30  236.60  243.634  235.6707  238.09\n",
            "2015-12-29 2015-12-29  230.06  237.720  229.5470  237.19\n",
            "2015-12-28 2015-12-28  231.49  231.980  225.5400  228.95\n",
            "2015-12-24 2015-12-24  230.56  231.880  228.2800  230.57\n"
          ]
        }
      ]
    },
    {
      "cell_type": "code",
      "source": [
        "print(tesla['2010-06'].iloc[:, :5])"
      ],
      "metadata": {
        "colab": {
          "base_uri": "https://localhost:8080/",
          "height": 572
        },
        "id": "i1nBKXDtL0xR",
        "outputId": "dc044a1e-5d2b-4f24-b0cb-47e41ea3656e"
      },
      "execution_count": 181,
      "outputs": [
        {
          "output_type": "error",
          "ename": "KeyError",
          "evalue": "'2010-06'",
          "traceback": [
            "\u001b[0;31m---------------------------------------------------------------------------\u001b[0m",
            "\u001b[0;31mKeyError\u001b[0m                                  Traceback (most recent call last)",
            "\u001b[0;32m/usr/local/lib/python3.11/dist-packages/pandas/core/indexes/base.py\u001b[0m in \u001b[0;36mget_loc\u001b[0;34m(self, key)\u001b[0m\n\u001b[1;32m   3804\u001b[0m         \u001b[0;32mtry\u001b[0m\u001b[0;34m:\u001b[0m\u001b[0;34m\u001b[0m\u001b[0;34m\u001b[0m\u001b[0m\n\u001b[0;32m-> 3805\u001b[0;31m             \u001b[0;32mreturn\u001b[0m \u001b[0mself\u001b[0m\u001b[0;34m.\u001b[0m\u001b[0m_engine\u001b[0m\u001b[0;34m.\u001b[0m\u001b[0mget_loc\u001b[0m\u001b[0;34m(\u001b[0m\u001b[0mcasted_key\u001b[0m\u001b[0;34m)\u001b[0m\u001b[0;34m\u001b[0m\u001b[0;34m\u001b[0m\u001b[0m\n\u001b[0m\u001b[1;32m   3806\u001b[0m         \u001b[0;32mexcept\u001b[0m \u001b[0mKeyError\u001b[0m \u001b[0;32mas\u001b[0m \u001b[0merr\u001b[0m\u001b[0;34m:\u001b[0m\u001b[0;34m\u001b[0m\u001b[0;34m\u001b[0m\u001b[0m\n",
            "\u001b[0;32mindex.pyx\u001b[0m in \u001b[0;36mpandas._libs.index.IndexEngine.get_loc\u001b[0;34m()\u001b[0m\n",
            "\u001b[0;32mindex.pyx\u001b[0m in \u001b[0;36mpandas._libs.index.IndexEngine.get_loc\u001b[0;34m()\u001b[0m\n",
            "\u001b[0;32mpandas/_libs/hashtable_class_helper.pxi\u001b[0m in \u001b[0;36mpandas._libs.hashtable.PyObjectHashTable.get_item\u001b[0;34m()\u001b[0m\n",
            "\u001b[0;32mpandas/_libs/hashtable_class_helper.pxi\u001b[0m in \u001b[0;36mpandas._libs.hashtable.PyObjectHashTable.get_item\u001b[0;34m()\u001b[0m\n",
            "\u001b[0;31mKeyError\u001b[0m: '2010-06'",
            "\nThe above exception was the direct cause of the following exception:\n",
            "\u001b[0;31mKeyError\u001b[0m                                  Traceback (most recent call last)",
            "\u001b[0;32m<ipython-input-181-01bd23607ac5>\u001b[0m in \u001b[0;36m<cell line: 0>\u001b[0;34m()\u001b[0m\n\u001b[0;32m----> 1\u001b[0;31m \u001b[0mprint\u001b[0m\u001b[0;34m(\u001b[0m\u001b[0mtesla\u001b[0m\u001b[0;34m[\u001b[0m\u001b[0;34m'2010-06'\u001b[0m\u001b[0;34m]\u001b[0m\u001b[0;34m.\u001b[0m\u001b[0miloc\u001b[0m\u001b[0;34m[\u001b[0m\u001b[0;34m:\u001b[0m\u001b[0;34m,\u001b[0m \u001b[0;34m:\u001b[0m\u001b[0;36m5\u001b[0m\u001b[0;34m]\u001b[0m\u001b[0;34m)\u001b[0m\u001b[0;34m\u001b[0m\u001b[0;34m\u001b[0m\u001b[0m\n\u001b[0m",
            "\u001b[0;32m/usr/local/lib/python3.11/dist-packages/pandas/core/frame.py\u001b[0m in \u001b[0;36m__getitem__\u001b[0;34m(self, key)\u001b[0m\n\u001b[1;32m   4100\u001b[0m             \u001b[0;32mif\u001b[0m \u001b[0mself\u001b[0m\u001b[0;34m.\u001b[0m\u001b[0mcolumns\u001b[0m\u001b[0;34m.\u001b[0m\u001b[0mnlevels\u001b[0m \u001b[0;34m>\u001b[0m \u001b[0;36m1\u001b[0m\u001b[0;34m:\u001b[0m\u001b[0;34m\u001b[0m\u001b[0;34m\u001b[0m\u001b[0m\n\u001b[1;32m   4101\u001b[0m                 \u001b[0;32mreturn\u001b[0m \u001b[0mself\u001b[0m\u001b[0;34m.\u001b[0m\u001b[0m_getitem_multilevel\u001b[0m\u001b[0;34m(\u001b[0m\u001b[0mkey\u001b[0m\u001b[0;34m)\u001b[0m\u001b[0;34m\u001b[0m\u001b[0;34m\u001b[0m\u001b[0m\n\u001b[0;32m-> 4102\u001b[0;31m             \u001b[0mindexer\u001b[0m \u001b[0;34m=\u001b[0m \u001b[0mself\u001b[0m\u001b[0;34m.\u001b[0m\u001b[0mcolumns\u001b[0m\u001b[0;34m.\u001b[0m\u001b[0mget_loc\u001b[0m\u001b[0;34m(\u001b[0m\u001b[0mkey\u001b[0m\u001b[0;34m)\u001b[0m\u001b[0;34m\u001b[0m\u001b[0;34m\u001b[0m\u001b[0m\n\u001b[0m\u001b[1;32m   4103\u001b[0m             \u001b[0;32mif\u001b[0m \u001b[0mis_integer\u001b[0m\u001b[0;34m(\u001b[0m\u001b[0mindexer\u001b[0m\u001b[0;34m)\u001b[0m\u001b[0;34m:\u001b[0m\u001b[0;34m\u001b[0m\u001b[0;34m\u001b[0m\u001b[0m\n\u001b[1;32m   4104\u001b[0m                 \u001b[0mindexer\u001b[0m \u001b[0;34m=\u001b[0m \u001b[0;34m[\u001b[0m\u001b[0mindexer\u001b[0m\u001b[0;34m]\u001b[0m\u001b[0;34m\u001b[0m\u001b[0;34m\u001b[0m\u001b[0m\n",
            "\u001b[0;32m/usr/local/lib/python3.11/dist-packages/pandas/core/indexes/base.py\u001b[0m in \u001b[0;36mget_loc\u001b[0;34m(self, key)\u001b[0m\n\u001b[1;32m   3810\u001b[0m             ):\n\u001b[1;32m   3811\u001b[0m                 \u001b[0;32mraise\u001b[0m \u001b[0mInvalidIndexError\u001b[0m\u001b[0;34m(\u001b[0m\u001b[0mkey\u001b[0m\u001b[0;34m)\u001b[0m\u001b[0;34m\u001b[0m\u001b[0;34m\u001b[0m\u001b[0m\n\u001b[0;32m-> 3812\u001b[0;31m             \u001b[0;32mraise\u001b[0m \u001b[0mKeyError\u001b[0m\u001b[0;34m(\u001b[0m\u001b[0mkey\u001b[0m\u001b[0;34m)\u001b[0m \u001b[0;32mfrom\u001b[0m \u001b[0merr\u001b[0m\u001b[0;34m\u001b[0m\u001b[0;34m\u001b[0m\u001b[0m\n\u001b[0m\u001b[1;32m   3813\u001b[0m         \u001b[0;32mexcept\u001b[0m \u001b[0mTypeError\u001b[0m\u001b[0;34m:\u001b[0m\u001b[0;34m\u001b[0m\u001b[0;34m\u001b[0m\u001b[0m\n\u001b[1;32m   3814\u001b[0m             \u001b[0;31m# If we have a listlike key, _check_indexing_error will raise\u001b[0m\u001b[0;34m\u001b[0m\u001b[0;34m\u001b[0m\u001b[0m\n",
            "\u001b[0;31mKeyError\u001b[0m: '2010-06'"
          ]
        }
      ]
    },
    {
      "cell_type": "code",
      "source": [
        "print(tesla.loc['2010-06'].iloc[:, :5])"
      ],
      "metadata": {
        "colab": {
          "base_uri": "https://localhost:8080/"
        },
        "id": "Wudy8sqmPtjL",
        "outputId": "645f6d01-9e4e-4934-fd87-3e0584f99242"
      },
      "execution_count": 182,
      "outputs": [
        {
          "output_type": "stream",
          "name": "stdout",
          "text": [
            "                 Date   Open     High    Low  Close\n",
            "Date                                               \n",
            "2010-06-30 2010-06-30  25.79  30.4192  23.30  23.83\n",
            "2010-06-29 2010-06-29  19.00  25.0000  17.54  23.89\n"
          ]
        }
      ]
    },
    {
      "cell_type": "markdown",
      "source": [
        "마찬가지로 .loc()를 통해 해결"
      ],
      "metadata": {
        "id": "-K_monHQPz7S"
      }
    },
    {
      "cell_type": "code",
      "source": [
        "tesla['ref_date'] = tesla['Date'] - tesla['Date'].min()\n",
        "print(tesla.head())"
      ],
      "metadata": {
        "colab": {
          "base_uri": "https://localhost:8080/"
        },
        "id": "i35K8_lEPwcr",
        "outputId": "460d29e7-7815-46ed-a4f0-53f41092b68d"
      },
      "execution_count": 183,
      "outputs": [
        {
          "output_type": "stream",
          "name": "stdout",
          "text": [
            "                 Date    Open    High     Low   Close      Volume  ExDividend  \\\n",
            "Date                                                                            \n",
            "2018-03-27 2018-03-27  304.00  304.27  277.18  279.18  13696168.0         0.0   \n",
            "2018-03-26 2018-03-26  307.34  307.59  291.36  304.18   8324639.0         0.0   \n",
            "2018-03-23 2018-03-23  311.25  311.61  300.45  301.54   6600538.0         0.0   \n",
            "2018-03-22 2018-03-22  313.89  318.82  308.18  309.10   4914307.0         0.0   \n",
            "2018-03-21 2018-03-21  310.25  322.44  310.19  316.53   5927881.0         0.0   \n",
            "\n",
            "            SplitRatio  AdjOpen  AdjHigh  AdjLow  AdjClose   AdjVolume  \\\n",
            "Date                                                                     \n",
            "2018-03-27         1.0   304.00   304.27  277.18    279.18  13696168.0   \n",
            "2018-03-26         1.0   307.34   307.59  291.36    304.18   8324639.0   \n",
            "2018-03-23         1.0   311.25   311.61  300.45    301.54   6600538.0   \n",
            "2018-03-22         1.0   313.89   318.82  308.18    309.10   4914307.0   \n",
            "2018-03-21         1.0   310.25   322.44  310.19    316.53   5927881.0   \n",
            "\n",
            "            ref_date  \n",
            "Date                  \n",
            "2018-03-27 2828 days  \n",
            "2018-03-26 2827 days  \n",
            "2018-03-23 2824 days  \n",
            "2018-03-22 2823 days  \n",
            "2018-03-21 2822 days  \n"
          ]
        }
      ]
    },
    {
      "cell_type": "code",
      "source": [
        "tesla.index = tesla['ref_date']\n",
        "print(tesla.iloc[:5, :5])"
      ],
      "metadata": {
        "colab": {
          "base_uri": "https://localhost:8080/"
        },
        "id": "w-mBV3_NQA0S",
        "outputId": "2cd7f866-ef6e-40b4-f42b-f3b45b9408b3"
      },
      "execution_count": 184,
      "outputs": [
        {
          "output_type": "stream",
          "name": "stdout",
          "text": [
            "                Date    Open    High     Low   Close\n",
            "ref_date                                            \n",
            "2828 days 2018-03-27  304.00  304.27  277.18  279.18\n",
            "2827 days 2018-03-26  307.34  307.59  291.36  304.18\n",
            "2824 days 2018-03-23  311.25  311.61  300.45  301.54\n",
            "2823 days 2018-03-22  313.89  318.82  308.18  309.10\n",
            "2822 days 2018-03-21  310.25  322.44  310.19  316.53\n"
          ]
        }
      ]
    },
    {
      "cell_type": "code",
      "source": [
        "print(tesla['5 days':].iloc[:5, :5]) #데이터가 내림차순이라 5days보다 작은 것들 출력됨"
      ],
      "metadata": {
        "colab": {
          "base_uri": "https://localhost:8080/"
        },
        "id": "zes7wuOZRymP",
        "outputId": "96d320d3-97fe-4125-9856-e4c9e6fb02b0"
      },
      "execution_count": 186,
      "outputs": [
        {
          "output_type": "stream",
          "name": "stdout",
          "text": [
            "               Date   Open     High    Low  Close\n",
            "ref_date                                         \n",
            "3 days   2010-07-02  23.00  23.1000  18.71  19.20\n",
            "2 days   2010-07-01  25.00  25.9200  20.27  21.96\n",
            "1 days   2010-06-30  25.79  30.4192  23.30  23.83\n",
            "0 days   2010-06-29  19.00  25.0000  17.54  23.89\n"
          ]
        }
      ]
    },
    {
      "cell_type": "markdown",
      "source": [
        "특정 일에 누락된 데이터도 포함시켜 데이터를 살펴봐야 할 경우, 임의로 시간 범위를 생성하여 인덱스를 지정해야 함\n",
        "\n",
        "ex) 2015년 1월 1일, 2014년 3월 23일 데이터 누락인 경우"
      ],
      "metadata": {
        "id": "mWk-Cj-XkmNc"
      }
    },
    {
      "cell_type": "code",
      "source": [
        "ebola = pd.read_csv('/content/country_timeseries.csv', parse_dates = [0])\n",
        "print(ebola.iloc[:5, :5])"
      ],
      "metadata": {
        "colab": {
          "base_uri": "https://localhost:8080/"
        },
        "id": "ttdk8np2R4qZ",
        "outputId": "de73f84c-ed91-498f-9a92-d862afa4a505"
      },
      "execution_count": 189,
      "outputs": [
        {
          "output_type": "stream",
          "name": "stdout",
          "text": [
            "        Date  Day  Cases_Guinea  Cases_Liberia  Cases_SierraLeone\n",
            "0 2015-01-05  289        2776.0            NaN            10030.0\n",
            "1 2015-01-04  288        2775.0            NaN             9780.0\n",
            "2 2015-01-03  287        2769.0         8166.0             9722.0\n",
            "3 2015-01-02  286           NaN         8157.0                NaN\n",
            "4 2014-12-31  284        2730.0         8115.0             9633.0\n"
          ]
        }
      ]
    },
    {
      "cell_type": "code",
      "source": [
        "print(ebola.iloc[-5:,:5])"
      ],
      "metadata": {
        "colab": {
          "base_uri": "https://localhost:8080/"
        },
        "id": "8znzNJ4wSE-J",
        "outputId": "f0f2fd9f-beb8-4c8e-e68b-ec74e8eb0fa8"
      },
      "execution_count": 190,
      "outputs": [
        {
          "output_type": "stream",
          "name": "stdout",
          "text": [
            "          Date  Day  Cases_Guinea  Cases_Liberia  Cases_SierraLeone\n",
            "117 2014-03-27    5         103.0            8.0                6.0\n",
            "118 2014-03-26    4          86.0            NaN                NaN\n",
            "119 2014-03-25    3          86.0            NaN                NaN\n",
            "120 2014-03-24    2          86.0            NaN                NaN\n",
            "121 2014-03-22    0          49.0            NaN                NaN\n"
          ]
        }
      ]
    },
    {
      "cell_type": "markdown",
      "source": [
        "date_range 메서드\n",
        "- 기간을 지정하면, 그 기간 동안의 시간 인덱스 DatetimeIndex 생성됨\n",
        "- date_range(start = '시작일', end = '끝')\n",
        "- 채워 넣을 시간 범위의 주기 설정을 freq 인자로 설정 가능"
      ],
      "metadata": {
        "id": "r2AqN_jJk5Y8"
      }
    },
    {
      "cell_type": "code",
      "source": [
        "head_range = pd.date_range(start = '2014-12-31', end = '2015-01-05')\n",
        "print(head_range)"
      ],
      "metadata": {
        "colab": {
          "base_uri": "https://localhost:8080/"
        },
        "id": "7Mb0mfv9SQp4",
        "outputId": "b625f854-43ea-4074-8588-6bf5593ab77f"
      },
      "execution_count": 191,
      "outputs": [
        {
          "output_type": "stream",
          "name": "stdout",
          "text": [
            "DatetimeIndex(['2014-12-31', '2015-01-01', '2015-01-02', '2015-01-03',\n",
            "               '2015-01-04', '2015-01-05'],\n",
            "              dtype='datetime64[ns]', freq='D')\n"
          ]
        }
      ]
    },
    {
      "cell_type": "markdown",
      "source": [
        "reindex()\n",
        "- 기존 데이터프레임/시리즈의 인덱스를 새로운 인덱스로 재구성하는 함수\n"
      ],
      "metadata": {
        "id": "BkKMuPvdlj7j"
      }
    },
    {
      "cell_type": "code",
      "source": [
        "ebola_5 = ebola.head( )\n",
        "ebola_5.index = ebola_5['Date'] #reindex가 날짜 값을 기준으로 작동하게 하기 위해 필요한 코드\n",
        "#기존 인덱스와 같은 인덱스는 값이 그대로 들어가고\n",
        "#기존 인덱스에 없는 새로운 인덱스는 결측치 NaN으로 값이 채워짐\n",
        "ebola_5.reindex(head_range)\n",
        "print(ebola_5.iloc[:5, :5])"
      ],
      "metadata": {
        "colab": {
          "base_uri": "https://localhost:8080/"
        },
        "id": "P0oYmvBLSbrU",
        "outputId": "dee79504-e2c2-40f1-e74d-5b3d92779afc"
      },
      "execution_count": 192,
      "outputs": [
        {
          "output_type": "stream",
          "name": "stdout",
          "text": [
            "                 Date  Day  Cases_Guinea  Cases_Liberia  Cases_SierraLeone\n",
            "Date                                                                      \n",
            "2015-01-05 2015-01-05  289        2776.0            NaN            10030.0\n",
            "2015-01-04 2015-01-04  288        2775.0            NaN             9780.0\n",
            "2015-01-03 2015-01-03  287        2769.0         8166.0             9722.0\n",
            "2015-01-02 2015-01-02  286           NaN         8157.0                NaN\n",
            "2014-12-31 2014-12-31  284        2730.0         8115.0             9633.0\n"
          ]
        }
      ]
    },
    {
      "cell_type": "code",
      "source": [
        "print(pd.date_range('2017-01-01', '2017-01-07', freq='B'))"
      ],
      "metadata": {
        "colab": {
          "base_uri": "https://localhost:8080/"
        },
        "id": "_FWDxSCLSkEm",
        "outputId": "7d274e83-0a59-472e-9789-91b9486d8216"
      },
      "execution_count": 193,
      "outputs": [
        {
          "output_type": "stream",
          "name": "stdout",
          "text": [
            "DatetimeIndex(['2017-01-02', '2017-01-03', '2017-01-04', '2017-01-05',\n",
            "               '2017-01-06'],\n",
            "              dtype='datetime64[ns]', freq='B')\n"
          ]
        }
      ]
    },
    {
      "cell_type": "code",
      "source": [
        "import matplotlib.pyplot as pit\n",
        "ebola.index = ebola['Date']\n",
        "\n",
        "fig, ax = plt.subplots( )\n",
        "ax = ebola.iloc[0:, 1:].plot(ax=ax)"
      ],
      "metadata": {
        "colab": {
          "base_uri": "https://localhost:8080/",
          "height": 433
        },
        "id": "B3X17RctSnKY",
        "outputId": "75a7c85e-0b53-4807-8c18-a857cbdcbf61"
      },
      "execution_count": 195,
      "outputs": [
        {
          "output_type": "display_data",
          "data": {
            "text/plain": [
              "<Figure size 640x480 with 1 Axes>"
            ],
            "image/png": "[encoded data removed]"
          },
          "metadata": {}
        }
      ]
    },
    {
      "cell_type": "markdown",
      "source": [
        "shift 메서드\n",
        "\n",
        "- 예시 문제는 각 나라의 에볼라 확산 속도를 비교하고자 하는데, 그러려면 발병일 같은 출발선을 동일하게 설정해 주는 것이 좋음. 제각각인 발병일 날짜들을 가장 처음 에볼라가 발병한 나라의 발병일과 동일한 위치로 옮겨야 나라별 에볼라의 확산 속도를 제대로 비교 가능\n",
        "- 이 예시는 그 과정을 다루고 있음"
      ],
      "metadata": {
        "id": "GHWXHNOGnS4r"
      }
    },
    {
      "cell_type": "code",
      "source": [
        "ebola_sub = ebola[['Day', 'Cases_Guinea', 'Cases_Liberia']]\n",
        "print(ebola_sub.tail(10))"
      ],
      "metadata": {
        "colab": {
          "base_uri": "https://localhost:8080/"
        },
        "id": "rC2Yvf0ASuLT",
        "outputId": "99bbe452-5731-4a4f-8d90-f8d3344dab0a"
      },
      "execution_count": 198,
      "outputs": [
        {
          "output_type": "stream",
          "name": "stdout",
          "text": [
            "            Day  Cases_Guinea  Cases_Liberia\n",
            "Date                                        \n",
            "2014-04-04   13         143.0           18.0\n",
            "2014-04-01   10         127.0            8.0\n",
            "2014-03-31    9         122.0            8.0\n",
            "2014-03-29    7         112.0            7.0\n",
            "2014-03-28    6         112.0            3.0\n",
            "2014-03-27    5         103.0            8.0\n",
            "2014-03-26    4          86.0            NaN\n",
            "2014-03-25    3          86.0            NaN\n",
            "2014-03-24    2          86.0            NaN\n",
            "2014-03-22    0          49.0            NaN\n"
          ]
        }
      ]
    },
    {
      "cell_type": "code",
      "source": [
        "ebola = pd.read_csv('/content/country_timeseries.csv', parse_dates=['Date'])\n",
        "print(ebola.head( ).iloc[:, :5])"
      ],
      "metadata": {
        "colab": {
          "base_uri": "https://localhost:8080/"
        },
        "id": "PnopbdXJVPpw",
        "outputId": "c56524a2-e8fc-4e47-a870-e802649f1a25"
      },
      "execution_count": 199,
      "outputs": [
        {
          "output_type": "stream",
          "name": "stdout",
          "text": [
            "        Date  Day  Cases_Guinea  Cases_Liberia  Cases_SierraLeone\n",
            "0 2015-01-05  289        2776.0            NaN            10030.0\n",
            "1 2015-01-04  288        2775.0            NaN             9780.0\n",
            "2 2015-01-03  287        2769.0         8166.0             9722.0\n",
            "3 2015-01-02  286           NaN         8157.0                NaN\n",
            "4 2014-12-31  284        2730.0         8115.0             9633.0\n"
          ]
        }
      ]
    },
    {
      "cell_type": "code",
      "source": [
        "print(ebola.tail().iloc[:,:5])"
      ],
      "metadata": {
        "colab": {
          "base_uri": "https://localhost:8080/"
        },
        "id": "Aitu8T2eVdQl",
        "outputId": "887762ae-fd64-42cd-8120-0d1687193dad"
      },
      "execution_count": 200,
      "outputs": [
        {
          "output_type": "stream",
          "name": "stdout",
          "text": [
            "          Date  Day  Cases_Guinea  Cases_Liberia  Cases_SierraLeone\n",
            "117 2014-03-27    5         103.0            8.0                6.0\n",
            "118 2014-03-26    4          86.0            NaN                NaN\n",
            "119 2014-03-25    3          86.0            NaN                NaN\n",
            "120 2014-03-24    2          86.0            NaN                NaN\n",
            "121 2014-03-22    0          49.0            NaN                NaN\n"
          ]
        }
      ]
    },
    {
      "cell_type": "markdown",
      "source": [
        "날짜가 가장 빠른 것과 늦은 것을 범위로 설정하면 결측된 날짜 데이터의 인덱스도 생성 가능"
      ],
      "metadata": {
        "id": "OnWXjm8qn7ZK"
      }
    },
    {
      "cell_type": "code",
      "source": [
        "ebola.index = ebola['Date']\n",
        "new_idx = pd.date_range(ebola.index.min(), ebola.index.max())"
      ],
      "metadata": {
        "id": "x4foMQSaVjf5"
      },
      "execution_count": 201,
      "outputs": []
    },
    {
      "cell_type": "code",
      "source": [
        "print(new_idx)"
      ],
      "metadata": {
        "colab": {
          "base_uri": "https://localhost:8080/"
        },
        "id": "yUYOpMpQVuAz",
        "outputId": "58240d6a-6616-44e5-dcdb-7c337ada89b2"
      },
      "execution_count": 202,
      "outputs": [
        {
          "output_type": "stream",
          "name": "stdout",
          "text": [
            "DatetimeIndex(['2014-03-22', '2014-03-23', '2014-03-24', '2014-03-25',\n",
            "               '2014-03-26', '2014-03-27', '2014-03-28', '2014-03-29',\n",
            "               '2014-03-30', '2014-03-31',\n",
            "               ...\n",
            "               '2014-12-27', '2014-12-28', '2014-12-29', '2014-12-30',\n",
            "               '2014-12-31', '2015-01-01', '2015-01-02', '2015-01-03',\n",
            "               '2015-01-04', '2015-01-05'],\n",
            "              dtype='datetime64[ns]', length=290, freq='D')\n"
          ]
        }
      ]
    },
    {
      "cell_type": "markdown",
      "source": [
        "reversed()\n",
        "- 순서를 반대로 정렬"
      ],
      "metadata": {
        "id": "7txc-WR3oGHm"
      }
    },
    {
      "cell_type": "code",
      "source": [
        "new_idx = reversed(new_idx)"
      ],
      "metadata": {
        "id": "Wf3teyo5Vw_R"
      },
      "execution_count": 204,
      "outputs": []
    },
    {
      "cell_type": "code",
      "source": [
        "ebola = ebola.reindex(new_idx)\n",
        "\n",
        "print(ebola.head().iloc[:,:5])"
      ],
      "metadata": {
        "colab": {
          "base_uri": "https://localhost:8080/"
        },
        "id": "-jPMFQL5V2wW",
        "outputId": "37b8a846-1a62-47a3-e6ba-75fb3223b93b"
      },
      "execution_count": 205,
      "outputs": [
        {
          "output_type": "stream",
          "name": "stdout",
          "text": [
            "                 Date    Day  Cases_Guinea  Cases_Liberia  Cases_SierraLeone\n",
            "Date                                                                        \n",
            "2015-01-05 2015-01-05  289.0        2776.0            NaN            10030.0\n",
            "2015-01-04 2015-01-04  288.0        2775.0            NaN             9780.0\n",
            "2015-01-03 2015-01-03  287.0        2769.0         8166.0             9722.0\n",
            "2015-01-02 2015-01-02  286.0           NaN         8157.0                NaN\n",
            "2015-01-01        NaT    NaN           NaN            NaN                NaN\n"
          ]
        }
      ]
    },
    {
      "cell_type": "code",
      "source": [
        "print(ebola.tail().iloc[:,:5])"
      ],
      "metadata": {
        "colab": {
          "base_uri": "https://localhost:8080/"
        },
        "id": "FX_QfvF3WBXL",
        "outputId": "acca5324-4116-41ff-ca67-89f9eda42a3f"
      },
      "execution_count": 206,
      "outputs": [
        {
          "output_type": "stream",
          "name": "stdout",
          "text": [
            "                 Date  Day  Cases_Guinea  Cases_Liberia  Cases_SierraLeone\n",
            "Date                                                                      \n",
            "2014-03-26 2014-03-26  4.0          86.0            NaN                NaN\n",
            "2014-03-25 2014-03-25  3.0          86.0            NaN                NaN\n",
            "2014-03-24 2014-03-24  2.0          86.0            NaN                NaN\n",
            "2014-03-23        NaT  NaN           NaN            NaN                NaN\n",
            "2014-03-22 2014-03-22  0.0          49.0            NaN                NaN\n"
          ]
        }
      ]
    },
    {
      "cell_type": "markdown",
      "source": [
        ".apply()\n",
        "- 기본값: 열 단위로 인자, 함수 적용\n",
        "- axis = 1 행 단위로 함수 적용"
      ],
      "metadata": {
        "id": "4FkaPg_AopMe"
      }
    },
    {
      "cell_type": "code",
      "source": [
        "last_valid = ebola.apply(pd.Series.last_valid_index)\n",
        "print(last_valid)"
      ],
      "metadata": {
        "colab": {
          "base_uri": "https://localhost:8080/"
        },
        "id": "htvYJ2p0WFvf",
        "outputId": "3d99474a-30ab-43bb-f2af-e3065be1551e"
      },
      "execution_count": 207,
      "outputs": [
        {
          "output_type": "stream",
          "name": "stdout",
          "text": [
            "Date                  2014-03-22\n",
            "Day                   2014-03-22\n",
            "Cases_Guinea          2014-03-22\n",
            "Cases_Liberia         2014-03-27\n",
            "Cases_SierraLeone     2014-03-27\n",
            "Cases_Nigeria         2014-07-23\n",
            "Cases_Senegal         2014-08-31\n",
            "Cases_UnitedStates    2014-10-01\n",
            "Cases_Spain           2014-10-08\n",
            "Cases_Mali            2014-10-22\n",
            "Deaths_Guinea         2014-03-22\n",
            "Deaths_Liberia        2014-03-27\n",
            "Deaths_SierraLeone    2014-03-27\n",
            "Deaths_Nigeria        2014-07-23\n",
            "Deaths_Senegal        2014-09-07\n",
            "Deaths_UnitedStates   2014-10-01\n",
            "Deaths_Spain          2014-10-08\n",
            "Deaths_Mali           2014-10-22\n",
            "dtype: datetime64[ns]\n"
          ]
        }
      ]
    },
    {
      "cell_type": "code",
      "source": [
        "earliest_date = ebola.index.min( )\n",
        "print(earliest_date)"
      ],
      "metadata": {
        "colab": {
          "base_uri": "https://localhost:8080/"
        },
        "id": "q2vR88ZIXNgD",
        "outputId": "3d3c617c-87b9-4588-a22c-8222fe5d5d84"
      },
      "execution_count": 208,
      "outputs": [
        {
          "output_type": "stream",
          "name": "stdout",
          "text": [
            "2014-03-22 00:00:00\n"
          ]
        }
      ]
    },
    {
      "cell_type": "code",
      "source": [
        "shift_values = last_valid - earliest_date\n",
        "print(shift_values)"
      ],
      "metadata": {
        "colab": {
          "base_uri": "https://localhost:8080/"
        },
        "id": "iYtUQBNtXQi2",
        "outputId": "6d0fc347-7c94-4172-e442-2d726178e29f"
      },
      "execution_count": 210,
      "outputs": [
        {
          "output_type": "stream",
          "name": "stdout",
          "text": [
            "Date                    0 days\n",
            "Day                     0 days\n",
            "Cases_Guinea            0 days\n",
            "Cases_Liberia           5 days\n",
            "Cases_SierraLeone       5 days\n",
            "Cases_Nigeria         123 days\n",
            "Cases_Senegal         162 days\n",
            "Cases_UnitedStates    193 days\n",
            "Cases_Spain           200 days\n",
            "Cases_Mali            214 days\n",
            "Deaths_Guinea           0 days\n",
            "Deaths_Liberia          5 days\n",
            "Deaths_SierraLeone      5 days\n",
            "Deaths_Nigeria        123 days\n",
            "Deaths_Senegal        169 days\n",
            "Deaths_UnitedStates   193 days\n",
            "Deaths_Spain          200 days\n",
            "Deaths_Mali           214 days\n",
            "dtype: timedelta64[ns]\n"
          ]
        }
      ]
    },
    {
      "cell_type": "markdown",
      "source": [
        "shift()\n",
        "- 인잣값만큼 데이터를 밀어내는 메서드"
      ],
      "metadata": {
        "id": "6DKfD8Ozo_f3"
      }
    },
    {
      "cell_type": "code",
      "source": [
        "ebola_dict = {}\n",
        "for idx, col in enumerate(ebola):\n",
        "  d = shift_values[idx].days\n",
        "  shifted = ebola[col].shift(d)\n",
        "  ebola_dict[col] = shifted"
      ],
      "metadata": {
        "colab": {
          "base_uri": "https://localhost:8080/"
        },
        "id": "oAwFUwAuXbgN",
        "outputId": "fa5f6545-861b-4b44-fa20-623ac383f2c0"
      },
      "execution_count": 211,
      "outputs": [
        {
          "output_type": "stream",
          "name": "stderr",
          "text": [
            "<ipython-input-211-a7363186ba3f>:3: FutureWarning: Series.__getitem__ treating keys as positions is deprecated. In a future version, integer keys will always be treated as labels (consistent with DataFrame behavior). To access a value by position, use `ser.iloc[pos]`\n",
            "  d = shift_values[idx].days\n"
          ]
        }
      ]
    },
    {
      "cell_type": "code",
      "source": [
        "ebola_shift = pd.DataFrame(ebola_dict)"
      ],
      "metadata": {
        "id": "FfvDBFBeXoUh"
      },
      "execution_count": 213,
      "outputs": []
    },
    {
      "cell_type": "code",
      "source": [
        "print(ebola_shift.tail( ))"
      ],
      "metadata": {
        "colab": {
          "base_uri": "https://localhost:8080/"
        },
        "id": "sWExsE3qXp8s",
        "outputId": "e3d3b1d5-cdfa-4062-c463-1a48bc503881"
      },
      "execution_count": 214,
      "outputs": [
        {
          "output_type": "stream",
          "name": "stdout",
          "text": [
            "                 Date  Day  Cases_Guinea  Cases_Liberia  Cases_SierraLeone  \\\n",
            "Date                                                                         \n",
            "2014-03-26 2014-03-26  4.0          86.0            8.0                2.0   \n",
            "2014-03-25 2014-03-25  3.0          86.0            NaN                NaN   \n",
            "2014-03-24 2014-03-24  2.0          86.0            7.0                NaN   \n",
            "2014-03-23        NaT  NaN           NaN            3.0                2.0   \n",
            "2014-03-22 2014-03-22  0.0          49.0            8.0                6.0   \n",
            "\n",
            "            Cases_Nigeria  Cases_Senegal  Cases_UnitedStates  Cases_Spain  \\\n",
            "Date                                                                        \n",
            "2014-03-26            1.0            NaN                 1.0          1.0   \n",
            "2014-03-25            NaN            NaN                 NaN          NaN   \n",
            "2014-03-24            NaN            NaN                 NaN          NaN   \n",
            "2014-03-23            NaN            NaN                 NaN          NaN   \n",
            "2014-03-22            0.0            1.0                 1.0          1.0   \n",
            "\n",
            "            Cases_Mali  Deaths_Guinea  Deaths_Liberia  Deaths_SierraLeone  \\\n",
            "Date                                                                        \n",
            "2014-03-26         NaN           62.0             4.0                 2.0   \n",
            "2014-03-25         NaN           60.0             NaN                 NaN   \n",
            "2014-03-24         NaN           59.0             2.0                 NaN   \n",
            "2014-03-23         NaN            NaN             3.0                 2.0   \n",
            "2014-03-22         1.0           29.0             6.0                 5.0   \n",
            "\n",
            "            Deaths_Nigeria  Deaths_Senegal  Deaths_UnitedStates  Deaths_Spain  \\\n",
            "Date                                                                            \n",
            "2014-03-26             1.0             NaN                  0.0           1.0   \n",
            "2014-03-25             NaN             NaN                  NaN           NaN   \n",
            "2014-03-24             NaN             NaN                  NaN           NaN   \n",
            "2014-03-23             NaN             NaN                  NaN           NaN   \n",
            "2014-03-22             0.0             0.0                  0.0           1.0   \n",
            "\n",
            "            Deaths_Mali  \n",
            "Date                     \n",
            "2014-03-26          NaN  \n",
            "2014-03-25          NaN  \n",
            "2014-03-24          NaN  \n",
            "2014-03-23          NaN  \n",
            "2014-03-22          1.0  \n"
          ]
        }
      ]
    },
    {
      "cell_type": "code",
      "source": [
        "ebola_shift.index = ebola_shift['Day']\n",
        "ebola_shift = ebola_shift.drop(['Date', 'Day'], axis=1)\n",
        "print(ebola_shift.tail( ))"
      ],
      "metadata": {
        "colab": {
          "base_uri": "https://localhost:8080/"
        },
        "id": "uVex5yWlXsJn",
        "outputId": "ca62825c-cf16-4a71-c012-a94748dc727c"
      },
      "execution_count": 216,
      "outputs": [
        {
          "output_type": "stream",
          "name": "stdout",
          "text": [
            "     Cases_Guinea  Cases_Liberia  Cases_SierraLeone  Cases_Nigeria  \\\n",
            "Day                                                                  \n",
            "4.0          86.0            8.0                2.0            1.0   \n",
            "3.0          86.0            NaN                NaN            NaN   \n",
            "2.0          86.0            7.0                NaN            NaN   \n",
            "NaN           NaN            3.0                2.0            NaN   \n",
            "0.0          49.0            8.0                6.0            0.0   \n",
            "\n",
            "     Cases_Senegal  Cases_UnitedStates  Cases_Spain  Cases_Mali  \\\n",
            "Day                                                               \n",
            "4.0            NaN                 1.0          1.0         NaN   \n",
            "3.0            NaN                 NaN          NaN         NaN   \n",
            "2.0            NaN                 NaN          NaN         NaN   \n",
            "NaN            NaN                 NaN          NaN         NaN   \n",
            "0.0            1.0                 1.0          1.0         1.0   \n",
            "\n",
            "     Deaths_Guinea  Deaths_Liberia  Deaths_SierraLeone  Deaths_Nigeria  \\\n",
            "Day                                                                      \n",
            "4.0           62.0             4.0                 2.0             1.0   \n",
            "3.0           60.0             NaN                 NaN             NaN   \n",
            "2.0           59.0             2.0                 NaN             NaN   \n",
            "NaN            NaN             3.0                 2.0             NaN   \n",
            "0.0           29.0             6.0                 5.0             0.0   \n",
            "\n",
            "     Deaths_Senegal  Deaths_UnitedStates  Deaths_Spain  Deaths_Mali  \n",
            "Day                                                                  \n",
            "4.0             NaN                  0.0           1.0          NaN  \n",
            "3.0             NaN                  NaN           NaN          NaN  \n",
            "2.0             NaN                  NaN           NaN          NaN  \n",
            "NaN             NaN                  NaN           NaN          NaN  \n",
            "0.0             0.0                  0.0           1.0          1.0  \n"
          ]
        }
      ]
    },
    {
      "cell_type": "code",
      "source": [
        "fig, ax = plt.subplots( )\n",
        "ax = ebola_shift.iloc[:, :].plot(ax=ax)\n",
        "ax.legend(fontsize=7, loc=2, borderaxespad=0.)\n",
        "plt.show( )"
      ],
      "metadata": {
        "colab": {
          "base_uri": "https://localhost:8080/",
          "height": 449
        },
        "id": "m62My9u-XvLM",
        "outputId": "e673324e-708f-44d9-9940-417eea098467"
      },
      "execution_count": 217,
      "outputs": [
        {
          "output_type": "display_data",
          "data": {
            "text/plain": [
              "<Figure size 640x480 with 1 Axes>"
            ],
            "image/png": "[encoded data removed]"
          },
          "metadata": {}
        }
      ]
    },
    {
      "cell_type": "code",
      "source": [],
      "metadata": {
        "id": "3NaVS6l9X6_4"
      },
      "execution_count": null,
      "outputs": []
    }
  ]
}