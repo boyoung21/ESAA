{
  "nbformat": 4,
  "nbformat_minor": 0,
  "metadata": {
    "colab": {
      "provenance": [],
      "authorship_tag": "ABX9TyNFdet15npHMvKQ1bVd0brt",
      "include_colab_link": true
    },
    "kernelspec": {
      "name": "python3",
      "display_name": "Python 3"
    },
    "language_info": {
      "name": "python"
    }
  },
  "cells": [
    {
      "cell_type": "markdown",
      "metadata": {
        "id": "view-in-github",
        "colab_type": "text"
      },
      "source": [
        "<a href=\"https://colab.research.google.com/github/boyoung21/ESAA/blob/main/%EC%88%98%EC%83%81%EC%9E%91_%EB%A6%AC%EB%B7%B0_0523.ipynb\" target=\"_parent\"><img src=\"https://colab.research.google.com/assets/colab-badge.svg\" alt=\"Open In Colab\"/></a>"
      ]
    },
    {
      "cell_type": "markdown",
      "source": [
        "# 탄소중립을 위한 기후기술 정보 시각화\n",
        "\n",
        "귀무가설: 탄소는 감염병에 영향을 미치지 않는다\n",
        "대립가설: 탄소는 감염병에 영향을 미친다\n",
        "\n",
        "최소제곱 다중회귀 분석\n",
        "최소제곱 다중회귀 분석결과로 각 항이 가설에 미치는 영향에 대해 분석함\n",
        "\n",
        "상수항의 pvalue를 통해 귀무가설을 기각할 수 없다는 결론 -> 유의하지 않음\n",
        "\n",
        "탄소 총 배출량과 강수일의 합계는 귀무가설을 기각하는 유의한 변수\n",
        "\n",
        "r^2은 약 0.9로 추정 회귀식이 우수하다는 것을 알 수 있었음\n",
        "\n",
        "heatmap을 사용하여 탄소의 총배출량과 기상인자 변수 간의 상관분석을 진행하여 탄소배출량과 다른 변수의 관계를 한눈에 시각화해서 나타냄 -> 변수 선택에 있어 중요한 과정\n",
        "\n",
        "탄소 총배출량과 감염병 합계 변수를 사용하여 상관분석을 진행한 후, 상관계수의 절대값이 0.65 이상인 감염병만 추출 -> 변수를 줄이는 방법, 다중공선성 줄이는 방법\n",
        "\n",
        "stepwise로 변수 선택 진행한 점이 인상 깊었음"
      ],
      "metadata": {
        "id": "IiZ9Fl-nkZt-"
      }
    }
  ]
}